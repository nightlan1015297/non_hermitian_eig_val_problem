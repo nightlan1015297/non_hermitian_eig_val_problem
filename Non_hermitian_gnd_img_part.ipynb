{
 "cells": [
  {
   "cell_type": "code",
   "execution_count": 1,
   "metadata": {},
   "outputs": [],
   "source": [
    "import numpy as np\n",
    "from numpy import linalg as LA\n",
    "from scipy.sparse.linalg import eigsh\n",
    "from scipy.linalg import eig\n",
    "import plotly.graph_objects as go"
   ]
  },
  {
   "cell_type": "markdown",
   "metadata": {},
   "source": [
    "### For schordinger\n",
    "\n",
    "$-\\frac{\\hbar^2}{2m}\\frac{\\partial^2{\\psi}}{\\partial{x}^2}+\\frac{1}{2}m\\omega^2x^2\\psi +i\\alpha{\\hat{x}}= E\\psi$"
   ]
  },
  {
   "cell_type": "code",
   "execution_count": 2,
   "metadata": {},
   "outputs": [],
   "source": [
    "h_bar = 1\n",
    "omega = 1\n",
    "mass = 1\n",
    "N_matrix = 10\n",
    "\n"
   ]
  },
  {
   "cell_type": "code",
   "execution_count": 3,
   "metadata": {},
   "outputs": [],
   "source": [
    "def matrix_constructor(alpha):\n",
    "    D_0 = np.array([[h_bar*omega*(n+1/2) if m==n else 0 for n in range(N_matrix)] for m in range(N_matrix)])\n",
    "    D_1 = np.array([[np.sqrt(n+1)*alpha*1*np.sqrt(h_bar/(2*mass*omega)) if m==n+1 else 0 for m in range(N_matrix)] for n in range(N_matrix)])\n",
    "    D_2 = np.array([[np.sqrt(n)  *alpha*1*np.sqrt(h_bar/(2*mass*omega)) if m==n-1 else 0 for m in range(N_matrix)] for n in range(N_matrix)])\n",
    "    return D_0 + D_1 + D_2"
   ]
  },
  {
   "cell_type": "code",
   "execution_count": 4,
   "metadata": {},
   "outputs": [
    {
     "data": {
      "application/vnd.plotly.v1+json": {
       "config": {
        "plotlyServerURL": "https://plot.ly"
       },
       "data": [
        {
         "name": "[N_matrix: 499]",
         "type": "scatter",
         "x": [
          2,
          3,
          4,
          5,
          6,
          7,
          8,
          9,
          10,
          11,
          12,
          13,
          14,
          15,
          16,
          17,
          18,
          19,
          20,
          21,
          22,
          23,
          24,
          25,
          26,
          27,
          28,
          29,
          30,
          31,
          32,
          33,
          34,
          35,
          36,
          37,
          38,
          39,
          40,
          41,
          42,
          43,
          44,
          45,
          46,
          47,
          48,
          49,
          50,
          51,
          52,
          53,
          54,
          55,
          56,
          57,
          58,
          59,
          60,
          61,
          62,
          63,
          64,
          65,
          66,
          67,
          68,
          69,
          70,
          71,
          72,
          73,
          74,
          75,
          76,
          77,
          78,
          79,
          80,
          81,
          82,
          83,
          84,
          85,
          86,
          87,
          88,
          89,
          90,
          91,
          92,
          93,
          94,
          95,
          96,
          97,
          98,
          99,
          100,
          101,
          102,
          103,
          104,
          105,
          106,
          107,
          108,
          109,
          110,
          111,
          112,
          113,
          114,
          115,
          116,
          117,
          118,
          119,
          120,
          121,
          122,
          123,
          124,
          125,
          126,
          127,
          128,
          129,
          130,
          131,
          132,
          133,
          134,
          135,
          136,
          137,
          138,
          139,
          140,
          141,
          142,
          143,
          144,
          145,
          146,
          147,
          148,
          149,
          150,
          151,
          152,
          153,
          154,
          155,
          156,
          157,
          158,
          159,
          160,
          161,
          162,
          163,
          164,
          165,
          166,
          167,
          168,
          169,
          170,
          171,
          172,
          173,
          174,
          175,
          176,
          177,
          178,
          179,
          180,
          181,
          182,
          183,
          184,
          185,
          186,
          187,
          188,
          189,
          190,
          191,
          192,
          193,
          194,
          195,
          196,
          197,
          198,
          199,
          200,
          201,
          202,
          203,
          204,
          205,
          206,
          207,
          208,
          209,
          210,
          211,
          212,
          213,
          214,
          215,
          216,
          217,
          218,
          219,
          220,
          221,
          222,
          223,
          224,
          225,
          226,
          227,
          228,
          229,
          230,
          231,
          232,
          233,
          234,
          235,
          236,
          237,
          238,
          239,
          240,
          241,
          242,
          243,
          244,
          245,
          246,
          247,
          248,
          249,
          250,
          251,
          252,
          253,
          254,
          255,
          256,
          257,
          258,
          259,
          260,
          261,
          262,
          263,
          264,
          265,
          266,
          267,
          268,
          269,
          270,
          271,
          272,
          273,
          274,
          275,
          276,
          277,
          278,
          279,
          280,
          281,
          282,
          283,
          284,
          285,
          286,
          287,
          288,
          289,
          290,
          291,
          292,
          293,
          294,
          295,
          296,
          297,
          298,
          299,
          300,
          301,
          302,
          303,
          304,
          305,
          306,
          307,
          308,
          309,
          310,
          311,
          312,
          313,
          314,
          315,
          316,
          317,
          318,
          319,
          320,
          321,
          322,
          323,
          324,
          325,
          326,
          327,
          328,
          329,
          330,
          331,
          332,
          333,
          334,
          335,
          336,
          337,
          338,
          339,
          340,
          341,
          342,
          343,
          344,
          345,
          346,
          347,
          348,
          349,
          350,
          351,
          352,
          353,
          354,
          355,
          356,
          357,
          358,
          359,
          360,
          361,
          362,
          363,
          364,
          365,
          366,
          367,
          368,
          369,
          370,
          371,
          372,
          373,
          374,
          375,
          376,
          377,
          378,
          379,
          380,
          381,
          382,
          383,
          384,
          385,
          386,
          387,
          388,
          389,
          390,
          391,
          392,
          393,
          394,
          395,
          396,
          397,
          398,
          399,
          400,
          401,
          402,
          403,
          404,
          405,
          406,
          407,
          408,
          409,
          410,
          411,
          412,
          413,
          414,
          415,
          416,
          417,
          418,
          419,
          420,
          421,
          422,
          423,
          424,
          425,
          426,
          427,
          428,
          429,
          430,
          431,
          432,
          433,
          434,
          435,
          436,
          437,
          438,
          439,
          440,
          441,
          442,
          443,
          444,
          445,
          446,
          447,
          448,
          449,
          450,
          451,
          452,
          453,
          454,
          455,
          456,
          457,
          458,
          459,
          460,
          461,
          462,
          463,
          464,
          465,
          466,
          467,
          468,
          469,
          470,
          471,
          472,
          473,
          474,
          475,
          476,
          477,
          478,
          479,
          480,
          481,
          482,
          483,
          484,
          485,
          486,
          487,
          488,
          489,
          490,
          491,
          492,
          493,
          494,
          495,
          496,
          497,
          498,
          499
         ],
         "y": [
          0,
          0,
          0,
          0,
          0,
          0,
          0,
          0,
          0,
          0,
          0,
          0,
          0,
          0,
          0,
          0,
          0,
          0,
          0,
          0,
          0,
          0,
          0,
          0,
          0,
          0,
          0,
          0,
          0,
          0,
          0,
          0,
          0,
          0,
          0,
          0,
          0,
          0,
          0,
          0,
          0,
          0,
          0,
          0,
          0,
          0,
          0,
          0,
          0,
          0,
          0,
          0,
          0,
          0,
          0,
          0,
          0,
          0,
          0,
          0,
          0,
          0,
          0,
          0,
          0,
          0,
          0,
          0,
          0,
          0,
          0,
          0,
          0,
          0,
          0,
          0,
          0,
          0,
          0,
          0,
          0,
          0,
          0,
          0,
          0,
          0,
          0,
          0,
          0,
          0,
          0,
          0,
          0,
          0,
          0,
          0,
          0,
          0,
          0,
          0,
          0,
          0,
          0,
          0,
          0,
          0,
          0,
          0,
          0,
          0,
          0,
          0,
          0,
          0,
          0,
          0,
          0,
          0,
          0,
          0,
          0,
          0,
          0,
          0,
          0,
          0,
          0,
          0,
          0,
          0,
          0,
          0,
          0,
          0,
          0,
          0,
          0,
          0,
          0,
          0,
          0,
          0,
          0,
          0,
          0,
          0,
          0,
          0,
          0,
          0,
          0,
          0,
          0,
          0,
          0,
          0,
          0,
          0,
          0,
          0,
          0,
          0,
          0,
          0,
          0,
          0,
          0,
          0,
          0,
          0,
          0,
          0,
          0,
          0,
          0,
          0,
          0,
          0,
          0,
          0,
          0,
          0,
          0,
          0,
          0,
          0,
          0,
          0,
          0,
          0,
          0,
          0,
          0,
          0,
          0,
          0,
          0,
          0,
          0,
          0,
          0,
          0,
          0,
          0,
          0,
          0,
          0,
          0,
          0,
          0,
          0,
          0,
          0,
          0,
          0,
          0,
          0,
          0,
          0,
          0,
          0,
          0,
          0,
          0,
          0,
          0,
          0,
          0,
          0,
          0,
          0,
          0,
          0,
          0,
          0,
          0,
          0,
          0,
          0,
          0,
          0,
          0,
          0,
          0,
          0,
          0,
          0,
          0,
          0,
          0,
          0,
          0,
          0,
          0,
          0,
          0,
          0,
          0,
          0,
          0,
          0,
          0,
          0,
          0,
          0,
          0,
          0,
          0,
          0,
          0,
          0,
          0,
          0,
          0,
          0,
          0,
          0,
          0,
          0,
          0,
          0,
          0,
          0,
          0,
          0,
          0,
          0,
          0,
          0,
          0,
          0,
          0,
          0,
          0,
          0,
          0,
          0,
          0,
          0,
          0,
          0,
          0,
          0,
          0,
          0,
          0,
          0,
          0,
          0,
          0,
          0,
          0,
          0,
          0,
          0,
          0,
          0,
          0,
          0,
          0,
          0,
          0,
          0,
          0,
          0,
          0,
          0,
          0,
          0,
          0,
          0,
          0,
          0,
          0,
          0,
          0,
          0,
          0,
          0,
          0,
          0,
          0,
          0,
          0,
          0,
          0,
          0,
          0,
          0,
          0,
          0,
          0,
          0,
          0,
          0,
          0,
          0,
          0,
          0,
          0,
          0,
          0,
          0,
          0,
          0,
          0,
          0,
          0,
          0,
          0,
          0,
          0,
          0,
          0,
          0,
          0,
          0,
          0,
          0,
          0,
          0,
          0,
          0,
          0,
          0,
          0,
          0,
          0,
          0,
          0,
          0,
          0,
          0,
          0,
          0,
          0,
          0,
          0,
          0,
          0,
          0,
          0,
          0,
          0,
          0,
          0,
          0,
          0,
          0,
          0,
          0,
          0,
          0,
          0,
          0,
          0,
          0,
          0,
          0,
          0,
          0,
          0,
          0,
          0,
          0,
          0,
          0,
          0,
          0,
          0,
          0,
          0,
          0,
          0,
          0,
          0,
          0,
          0,
          0,
          0,
          0,
          0,
          0,
          0,
          0,
          0,
          0,
          0,
          0,
          0,
          0,
          0,
          0,
          0,
          0,
          0,
          0,
          0,
          0,
          0,
          0,
          0,
          0,
          0,
          0,
          0,
          0,
          0,
          0,
          0,
          0,
          0,
          0,
          0,
          0,
          0,
          0,
          0,
          0,
          0,
          0,
          0,
          0,
          0,
          0,
          0,
          0,
          0,
          0,
          0,
          0,
          0,
          0,
          0,
          0,
          0,
          0,
          0
         ]
        }
       ],
       "layout": {
        "template": {
         "data": {
          "bar": [
           {
            "error_x": {
             "color": "#2a3f5f"
            },
            "error_y": {
             "color": "#2a3f5f"
            },
            "marker": {
             "line": {
              "color": "#E5ECF6",
              "width": 0.5
             },
             "pattern": {
              "fillmode": "overlay",
              "size": 10,
              "solidity": 0.2
             }
            },
            "type": "bar"
           }
          ],
          "barpolar": [
           {
            "marker": {
             "line": {
              "color": "#E5ECF6",
              "width": 0.5
             },
             "pattern": {
              "fillmode": "overlay",
              "size": 10,
              "solidity": 0.2
             }
            },
            "type": "barpolar"
           }
          ],
          "carpet": [
           {
            "aaxis": {
             "endlinecolor": "#2a3f5f",
             "gridcolor": "white",
             "linecolor": "white",
             "minorgridcolor": "white",
             "startlinecolor": "#2a3f5f"
            },
            "baxis": {
             "endlinecolor": "#2a3f5f",
             "gridcolor": "white",
             "linecolor": "white",
             "minorgridcolor": "white",
             "startlinecolor": "#2a3f5f"
            },
            "type": "carpet"
           }
          ],
          "choropleth": [
           {
            "colorbar": {
             "outlinewidth": 0,
             "ticks": ""
            },
            "type": "choropleth"
           }
          ],
          "contour": [
           {
            "colorbar": {
             "outlinewidth": 0,
             "ticks": ""
            },
            "colorscale": [
             [
              0,
              "#0d0887"
             ],
             [
              0.1111111111111111,
              "#46039f"
             ],
             [
              0.2222222222222222,
              "#7201a8"
             ],
             [
              0.3333333333333333,
              "#9c179e"
             ],
             [
              0.4444444444444444,
              "#bd3786"
             ],
             [
              0.5555555555555556,
              "#d8576b"
             ],
             [
              0.6666666666666666,
              "#ed7953"
             ],
             [
              0.7777777777777778,
              "#fb9f3a"
             ],
             [
              0.8888888888888888,
              "#fdca26"
             ],
             [
              1,
              "#f0f921"
             ]
            ],
            "type": "contour"
           }
          ],
          "contourcarpet": [
           {
            "colorbar": {
             "outlinewidth": 0,
             "ticks": ""
            },
            "type": "contourcarpet"
           }
          ],
          "heatmap": [
           {
            "colorbar": {
             "outlinewidth": 0,
             "ticks": ""
            },
            "colorscale": [
             [
              0,
              "#0d0887"
             ],
             [
              0.1111111111111111,
              "#46039f"
             ],
             [
              0.2222222222222222,
              "#7201a8"
             ],
             [
              0.3333333333333333,
              "#9c179e"
             ],
             [
              0.4444444444444444,
              "#bd3786"
             ],
             [
              0.5555555555555556,
              "#d8576b"
             ],
             [
              0.6666666666666666,
              "#ed7953"
             ],
             [
              0.7777777777777778,
              "#fb9f3a"
             ],
             [
              0.8888888888888888,
              "#fdca26"
             ],
             [
              1,
              "#f0f921"
             ]
            ],
            "type": "heatmap"
           }
          ],
          "heatmapgl": [
           {
            "colorbar": {
             "outlinewidth": 0,
             "ticks": ""
            },
            "colorscale": [
             [
              0,
              "#0d0887"
             ],
             [
              0.1111111111111111,
              "#46039f"
             ],
             [
              0.2222222222222222,
              "#7201a8"
             ],
             [
              0.3333333333333333,
              "#9c179e"
             ],
             [
              0.4444444444444444,
              "#bd3786"
             ],
             [
              0.5555555555555556,
              "#d8576b"
             ],
             [
              0.6666666666666666,
              "#ed7953"
             ],
             [
              0.7777777777777778,
              "#fb9f3a"
             ],
             [
              0.8888888888888888,
              "#fdca26"
             ],
             [
              1,
              "#f0f921"
             ]
            ],
            "type": "heatmapgl"
           }
          ],
          "histogram": [
           {
            "marker": {
             "pattern": {
              "fillmode": "overlay",
              "size": 10,
              "solidity": 0.2
             }
            },
            "type": "histogram"
           }
          ],
          "histogram2d": [
           {
            "colorbar": {
             "outlinewidth": 0,
             "ticks": ""
            },
            "colorscale": [
             [
              0,
              "#0d0887"
             ],
             [
              0.1111111111111111,
              "#46039f"
             ],
             [
              0.2222222222222222,
              "#7201a8"
             ],
             [
              0.3333333333333333,
              "#9c179e"
             ],
             [
              0.4444444444444444,
              "#bd3786"
             ],
             [
              0.5555555555555556,
              "#d8576b"
             ],
             [
              0.6666666666666666,
              "#ed7953"
             ],
             [
              0.7777777777777778,
              "#fb9f3a"
             ],
             [
              0.8888888888888888,
              "#fdca26"
             ],
             [
              1,
              "#f0f921"
             ]
            ],
            "type": "histogram2d"
           }
          ],
          "histogram2dcontour": [
           {
            "colorbar": {
             "outlinewidth": 0,
             "ticks": ""
            },
            "colorscale": [
             [
              0,
              "#0d0887"
             ],
             [
              0.1111111111111111,
              "#46039f"
             ],
             [
              0.2222222222222222,
              "#7201a8"
             ],
             [
              0.3333333333333333,
              "#9c179e"
             ],
             [
              0.4444444444444444,
              "#bd3786"
             ],
             [
              0.5555555555555556,
              "#d8576b"
             ],
             [
              0.6666666666666666,
              "#ed7953"
             ],
             [
              0.7777777777777778,
              "#fb9f3a"
             ],
             [
              0.8888888888888888,
              "#fdca26"
             ],
             [
              1,
              "#f0f921"
             ]
            ],
            "type": "histogram2dcontour"
           }
          ],
          "mesh3d": [
           {
            "colorbar": {
             "outlinewidth": 0,
             "ticks": ""
            },
            "type": "mesh3d"
           }
          ],
          "parcoords": [
           {
            "line": {
             "colorbar": {
              "outlinewidth": 0,
              "ticks": ""
             }
            },
            "type": "parcoords"
           }
          ],
          "pie": [
           {
            "automargin": true,
            "type": "pie"
           }
          ],
          "scatter": [
           {
            "fillpattern": {
             "fillmode": "overlay",
             "size": 10,
             "solidity": 0.2
            },
            "type": "scatter"
           }
          ],
          "scatter3d": [
           {
            "line": {
             "colorbar": {
              "outlinewidth": 0,
              "ticks": ""
             }
            },
            "marker": {
             "colorbar": {
              "outlinewidth": 0,
              "ticks": ""
             }
            },
            "type": "scatter3d"
           }
          ],
          "scattercarpet": [
           {
            "marker": {
             "colorbar": {
              "outlinewidth": 0,
              "ticks": ""
             }
            },
            "type": "scattercarpet"
           }
          ],
          "scattergeo": [
           {
            "marker": {
             "colorbar": {
              "outlinewidth": 0,
              "ticks": ""
             }
            },
            "type": "scattergeo"
           }
          ],
          "scattergl": [
           {
            "marker": {
             "colorbar": {
              "outlinewidth": 0,
              "ticks": ""
             }
            },
            "type": "scattergl"
           }
          ],
          "scattermapbox": [
           {
            "marker": {
             "colorbar": {
              "outlinewidth": 0,
              "ticks": ""
             }
            },
            "type": "scattermapbox"
           }
          ],
          "scatterpolar": [
           {
            "marker": {
             "colorbar": {
              "outlinewidth": 0,
              "ticks": ""
             }
            },
            "type": "scatterpolar"
           }
          ],
          "scatterpolargl": [
           {
            "marker": {
             "colorbar": {
              "outlinewidth": 0,
              "ticks": ""
             }
            },
            "type": "scatterpolargl"
           }
          ],
          "scatterternary": [
           {
            "marker": {
             "colorbar": {
              "outlinewidth": 0,
              "ticks": ""
             }
            },
            "type": "scatterternary"
           }
          ],
          "surface": [
           {
            "colorbar": {
             "outlinewidth": 0,
             "ticks": ""
            },
            "colorscale": [
             [
              0,
              "#0d0887"
             ],
             [
              0.1111111111111111,
              "#46039f"
             ],
             [
              0.2222222222222222,
              "#7201a8"
             ],
             [
              0.3333333333333333,
              "#9c179e"
             ],
             [
              0.4444444444444444,
              "#bd3786"
             ],
             [
              0.5555555555555556,
              "#d8576b"
             ],
             [
              0.6666666666666666,
              "#ed7953"
             ],
             [
              0.7777777777777778,
              "#fb9f3a"
             ],
             [
              0.8888888888888888,
              "#fdca26"
             ],
             [
              1,
              "#f0f921"
             ]
            ],
            "type": "surface"
           }
          ],
          "table": [
           {
            "cells": {
             "fill": {
              "color": "#EBF0F8"
             },
             "line": {
              "color": "white"
             }
            },
            "header": {
             "fill": {
              "color": "#C8D4E3"
             },
             "line": {
              "color": "white"
             }
            },
            "type": "table"
           }
          ]
         },
         "layout": {
          "annotationdefaults": {
           "arrowcolor": "#2a3f5f",
           "arrowhead": 0,
           "arrowwidth": 1
          },
          "autotypenumbers": "strict",
          "coloraxis": {
           "colorbar": {
            "outlinewidth": 0,
            "ticks": ""
           }
          },
          "colorscale": {
           "diverging": [
            [
             0,
             "#8e0152"
            ],
            [
             0.1,
             "#c51b7d"
            ],
            [
             0.2,
             "#de77ae"
            ],
            [
             0.3,
             "#f1b6da"
            ],
            [
             0.4,
             "#fde0ef"
            ],
            [
             0.5,
             "#f7f7f7"
            ],
            [
             0.6,
             "#e6f5d0"
            ],
            [
             0.7,
             "#b8e186"
            ],
            [
             0.8,
             "#7fbc41"
            ],
            [
             0.9,
             "#4d9221"
            ],
            [
             1,
             "#276419"
            ]
           ],
           "sequential": [
            [
             0,
             "#0d0887"
            ],
            [
             0.1111111111111111,
             "#46039f"
            ],
            [
             0.2222222222222222,
             "#7201a8"
            ],
            [
             0.3333333333333333,
             "#9c179e"
            ],
            [
             0.4444444444444444,
             "#bd3786"
            ],
            [
             0.5555555555555556,
             "#d8576b"
            ],
            [
             0.6666666666666666,
             "#ed7953"
            ],
            [
             0.7777777777777778,
             "#fb9f3a"
            ],
            [
             0.8888888888888888,
             "#fdca26"
            ],
            [
             1,
             "#f0f921"
            ]
           ],
           "sequentialminus": [
            [
             0,
             "#0d0887"
            ],
            [
             0.1111111111111111,
             "#46039f"
            ],
            [
             0.2222222222222222,
             "#7201a8"
            ],
            [
             0.3333333333333333,
             "#9c179e"
            ],
            [
             0.4444444444444444,
             "#bd3786"
            ],
            [
             0.5555555555555556,
             "#d8576b"
            ],
            [
             0.6666666666666666,
             "#ed7953"
            ],
            [
             0.7777777777777778,
             "#fb9f3a"
            ],
            [
             0.8888888888888888,
             "#fdca26"
            ],
            [
             1,
             "#f0f921"
            ]
           ]
          },
          "colorway": [
           "#636efa",
           "#EF553B",
           "#00cc96",
           "#ab63fa",
           "#FFA15A",
           "#19d3f3",
           "#FF6692",
           "#B6E880",
           "#FF97FF",
           "#FECB52"
          ],
          "font": {
           "color": "#2a3f5f"
          },
          "geo": {
           "bgcolor": "white",
           "lakecolor": "white",
           "landcolor": "#E5ECF6",
           "showlakes": true,
           "showland": true,
           "subunitcolor": "white"
          },
          "hoverlabel": {
           "align": "left"
          },
          "hovermode": "closest",
          "mapbox": {
           "style": "light"
          },
          "paper_bgcolor": "white",
          "plot_bgcolor": "#E5ECF6",
          "polar": {
           "angularaxis": {
            "gridcolor": "white",
            "linecolor": "white",
            "ticks": ""
           },
           "bgcolor": "#E5ECF6",
           "radialaxis": {
            "gridcolor": "white",
            "linecolor": "white",
            "ticks": ""
           }
          },
          "scene": {
           "xaxis": {
            "backgroundcolor": "#E5ECF6",
            "gridcolor": "white",
            "gridwidth": 2,
            "linecolor": "white",
            "showbackground": true,
            "ticks": "",
            "zerolinecolor": "white"
           },
           "yaxis": {
            "backgroundcolor": "#E5ECF6",
            "gridcolor": "white",
            "gridwidth": 2,
            "linecolor": "white",
            "showbackground": true,
            "ticks": "",
            "zerolinecolor": "white"
           },
           "zaxis": {
            "backgroundcolor": "#E5ECF6",
            "gridcolor": "white",
            "gridwidth": 2,
            "linecolor": "white",
            "showbackground": true,
            "ticks": "",
            "zerolinecolor": "white"
           }
          },
          "shapedefaults": {
           "line": {
            "color": "#2a3f5f"
           }
          },
          "ternary": {
           "aaxis": {
            "gridcolor": "white",
            "linecolor": "white",
            "ticks": ""
           },
           "baxis": {
            "gridcolor": "white",
            "linecolor": "white",
            "ticks": ""
           },
           "bgcolor": "#E5ECF6",
           "caxis": {
            "gridcolor": "white",
            "linecolor": "white",
            "ticks": ""
           }
          },
          "title": {
           "x": 0.05
          },
          "xaxis": {
           "automargin": true,
           "gridcolor": "white",
           "linecolor": "white",
           "ticks": "",
           "title": {
            "standoff": 15
           },
           "zerolinecolor": "white",
           "zerolinewidth": 2
          },
          "yaxis": {
           "automargin": true,
           "gridcolor": "white",
           "linecolor": "white",
           "ticks": "",
           "title": {
            "standoff": 15
           },
           "zerolinecolor": "white",
           "zerolinewidth": 2
          }
         }
        }
       }
      }
     },
     "metadata": {},
     "output_type": "display_data"
    }
   ],
   "source": [
    "fig_real = go.Figure()\n",
    "fig_img  = go.Figure()\n",
    "\n",
    "result_real = []\n",
    "result_img = []\n",
    "\n",
    "for N_matrix in range(2,500):\n",
    "    alpha = 1\n",
    "    \n",
    "    \n",
    "\n",
    "    H = matrix_constructor(alpha)\n",
    "    val,vec = LA.eig(H)\n",
    "    result_real.append(val[0].real)\n",
    "    result_img.append(val[0].imag)\n",
    "\n",
    "\n",
    "\n",
    "fig_real.add_trace(go.Scatter(x= [i for i in range(2,500)],y =result_real, name=f\"[N_matrix: {N_matrix}]\"))\n",
    "fig_img.add_trace(go.Scatter (x= [i for i in range(2,500)],y =result_img , name=f\"[N_matrix: {N_matrix}]\"))\n",
    "\n"
   ]
  },
  {
   "cell_type": "code",
   "execution_count": 5,
   "metadata": {},
   "outputs": [
    {
     "data": {
      "application/vnd.plotly.v1+json": {
       "config": {
        "plotlyServerURL": "https://plot.ly"
       },
       "data": [
        {
         "name": "[N_matrix: 499]",
         "type": "scatter",
         "x": [
          2,
          3,
          4,
          5,
          6,
          7,
          8,
          9,
          10,
          11,
          12,
          13,
          14,
          15,
          16,
          17,
          18,
          19,
          20,
          21,
          22,
          23,
          24,
          25,
          26,
          27,
          28,
          29,
          30,
          31,
          32,
          33,
          34,
          35,
          36,
          37,
          38,
          39,
          40,
          41,
          42,
          43,
          44,
          45,
          46,
          47,
          48,
          49,
          50,
          51,
          52,
          53,
          54,
          55,
          56,
          57,
          58,
          59,
          60,
          61,
          62,
          63,
          64,
          65,
          66,
          67,
          68,
          69,
          70,
          71,
          72,
          73,
          74,
          75,
          76,
          77,
          78,
          79,
          80,
          81,
          82,
          83,
          84,
          85,
          86,
          87,
          88,
          89,
          90,
          91,
          92,
          93,
          94,
          95,
          96,
          97,
          98,
          99,
          100,
          101,
          102,
          103,
          104,
          105,
          106,
          107,
          108,
          109,
          110,
          111,
          112,
          113,
          114,
          115,
          116,
          117,
          118,
          119,
          120,
          121,
          122,
          123,
          124,
          125,
          126,
          127,
          128,
          129,
          130,
          131,
          132,
          133,
          134,
          135,
          136,
          137,
          138,
          139,
          140,
          141,
          142,
          143,
          144,
          145,
          146,
          147,
          148,
          149,
          150,
          151,
          152,
          153,
          154,
          155,
          156,
          157,
          158,
          159,
          160,
          161,
          162,
          163,
          164,
          165,
          166,
          167,
          168,
          169,
          170,
          171,
          172,
          173,
          174,
          175,
          176,
          177,
          178,
          179,
          180,
          181,
          182,
          183,
          184,
          185,
          186,
          187,
          188,
          189,
          190,
          191,
          192,
          193,
          194,
          195,
          196,
          197,
          198,
          199,
          200,
          201,
          202,
          203,
          204,
          205,
          206,
          207,
          208,
          209,
          210,
          211,
          212,
          213,
          214,
          215,
          216,
          217,
          218,
          219,
          220,
          221,
          222,
          223,
          224,
          225,
          226,
          227,
          228,
          229,
          230,
          231,
          232,
          233,
          234,
          235,
          236,
          237,
          238,
          239,
          240,
          241,
          242,
          243,
          244,
          245,
          246,
          247,
          248,
          249,
          250,
          251,
          252,
          253,
          254,
          255,
          256,
          257,
          258,
          259,
          260,
          261,
          262,
          263,
          264,
          265,
          266,
          267,
          268,
          269,
          270,
          271,
          272,
          273,
          274,
          275,
          276,
          277,
          278,
          279,
          280,
          281,
          282,
          283,
          284,
          285,
          286,
          287,
          288,
          289,
          290,
          291,
          292,
          293,
          294,
          295,
          296,
          297,
          298,
          299,
          300,
          301,
          302,
          303,
          304,
          305,
          306,
          307,
          308,
          309,
          310,
          311,
          312,
          313,
          314,
          315,
          316,
          317,
          318,
          319,
          320,
          321,
          322,
          323,
          324,
          325,
          326,
          327,
          328,
          329,
          330,
          331,
          332,
          333,
          334,
          335,
          336,
          337,
          338,
          339,
          340,
          341,
          342,
          343,
          344,
          345,
          346,
          347,
          348,
          349,
          350,
          351,
          352,
          353,
          354,
          355,
          356,
          357,
          358,
          359,
          360,
          361,
          362,
          363,
          364,
          365,
          366,
          367,
          368,
          369,
          370,
          371,
          372,
          373,
          374,
          375,
          376,
          377,
          378,
          379,
          380,
          381,
          382,
          383,
          384,
          385,
          386,
          387,
          388,
          389,
          390,
          391,
          392,
          393,
          394,
          395,
          396,
          397,
          398,
          399,
          400,
          401,
          402,
          403,
          404,
          405,
          406,
          407,
          408,
          409,
          410,
          411,
          412,
          413,
          414,
          415,
          416,
          417,
          418,
          419,
          420,
          421,
          422,
          423,
          424,
          425,
          426,
          427,
          428,
          429,
          430,
          431,
          432,
          433,
          434,
          435,
          436,
          437,
          438,
          439,
          440,
          441,
          442,
          443,
          444,
          445,
          446,
          447,
          448,
          449,
          450,
          451,
          452,
          453,
          454,
          455,
          456,
          457,
          458,
          459,
          460,
          461,
          462,
          463,
          464,
          465,
          466,
          467,
          468,
          469,
          470,
          471,
          472,
          473,
          474,
          475,
          476,
          477,
          478,
          479,
          480,
          481,
          482,
          483,
          484,
          485,
          486,
          487,
          488,
          489,
          490,
          491,
          492,
          493,
          494,
          495,
          496,
          497,
          498,
          499
         ],
         "y": [
          0.13397459621556118,
          0.030382565941962758,
          0.005250741071511245,
          0.0006867635073259937,
          0.00007083230126148088,
          0.000006021787205323648,
          4.3605104438348974e-7,
          2.7526031232127934e-8,
          1.5408880837952665e-9,
          7.75075559289462e-11,
          3.540057136319774e-12,
          1.4765966227514582e-13,
          6.217248937900877e-15,
          0,
          -1.1102230246251565e-16,
          -2.220446049250313e-16,
          2.220446049250313e-16,
          0,
          0,
          0,
          -1.1102230246251565e-16,
          2.220446049250313e-16,
          -8.881784197001252e-16,
          -2.220446049250313e-16,
          -4.440892098500626e-16,
          -2.220446049250313e-16,
          2.220446049250313e-16,
          2.220446049250313e-16,
          4.440892098500626e-16,
          -6.661338147750939e-16,
          -6.661338147750939e-16,
          3.3306690738754696e-16,
          -8.881784197001252e-16,
          1.1102230246251565e-16,
          -1.1102230246251565e-16,
          4.440892098500626e-16,
          -2.220446049250313e-16,
          1.1102230246251565e-16,
          -4.440892098500626e-16,
          2.220446049250313e-16,
          1.1102230246251565e-16,
          -3.3306690738754696e-16,
          -3.3306690738754696e-16,
          -8.881784197001252e-16,
          -3.3306690738754696e-16,
          0,
          1.1102230246251565e-16,
          8.881784197001252e-16,
          1.1102230246251565e-16,
          -2.220446049250313e-16,
          -1.1102230246251565e-16,
          -6.661338147750939e-16,
          -6.661338147750939e-16,
          -1.1102230246251565e-15,
          2.220446049250313e-16,
          0,
          -1.3322676295501878e-15,
          5.551115123125783e-16,
          2.220446049250313e-16,
          -6.661338147750939e-16,
          -2.220446049250313e-16,
          8.881784197001252e-16,
          -3.3306690738754696e-16,
          2.220446049250313e-16,
          0,
          8.881784197001252e-16,
          -4.440892098500626e-16,
          -1.1102230246251565e-16,
          0,
          5.551115123125783e-16,
          2.220446049250313e-16,
          -4.440892098500626e-16,
          2.220446049250313e-16,
          1.1102230246251565e-16,
          2.220446049250313e-16,
          -7.771561172376096e-16,
          4.440892098500626e-16,
          -1.1102230246251565e-15,
          -2.220446049250313e-16,
          0,
          -8.881784197001252e-16,
          -4.440892098500626e-16,
          -2.220446049250313e-16,
          -4.440892098500626e-16,
          5.551115123125783e-16,
          -8.881784197001252e-16,
          0,
          2.220446049250313e-16,
          4.440892098500626e-16,
          -2.220446049250313e-16,
          9.992007221626409e-16,
          1.1102230246251565e-15,
          4.440892098500626e-16,
          -8.881784197001252e-16,
          -1.7763568394002505e-15,
          -4.440892098500626e-16,
          -1.1102230246251565e-16,
          -1.3322676295501878e-15,
          0,
          -4.440892098500626e-16,
          -4.440892098500626e-16,
          -2.220446049250313e-15,
          1.3322676295501878e-15,
          -1.9984014443252818e-15,
          -6.661338147750939e-16,
          2.220446049250313e-16,
          4.440892098500626e-16,
          3.3306690738754696e-16,
          -2.220446049250313e-16,
          2.220446049250313e-16,
          -6.661338147750939e-16,
          -3.3306690738754696e-16,
          -1.1102230246251565e-15,
          4.440892098500626e-16,
          -2.220446049250313e-16,
          1.1102230246251565e-16,
          6.661338147750939e-16,
          -1.3322676295501878e-15,
          0,
          -6.661338147750939e-16,
          -8.881784197001252e-16,
          4.440892098500626e-16,
          -3.3306690738754696e-16,
          1.7763568394002505e-15,
          9.992007221626409e-16,
          -2.220446049250313e-16,
          -3.3306690738754696e-16,
          6.661338147750939e-16,
          1.1102230246251565e-16,
          -2.220446049250313e-16,
          4.440892098500626e-16,
          2.220446049250313e-16,
          -1.1102230246251565e-15,
          0,
          0,
          0,
          7.771561172376096e-16,
          1.1102230246251565e-15,
          -1.1102230246251565e-15,
          6.661338147750939e-16,
          2.220446049250313e-16,
          -5.551115123125783e-16,
          -6.661338147750939e-16,
          -4.440892098500626e-16,
          6.661338147750939e-16,
          0,
          0,
          -8.881784197001252e-16,
          0,
          -7.771561172376096e-16,
          2.220446049250313e-16,
          -1.3322676295501878e-15,
          -7.771561172376096e-16,
          7.771561172376096e-16,
          -6.661338147750939e-16,
          2.220446049250313e-16,
          0,
          -6.661338147750939e-16,
          1.1102230246251565e-16,
          -1.7763568394002505e-15,
          -1.1102230246251565e-15,
          1.3322676295501878e-15,
          -8.881784197001252e-16,
          -2.220446049250313e-16,
          -2.220446049250313e-16,
          -2.6645352591003757e-15,
          -3.3306690738754696e-16,
          0,
          4.440892098500626e-16,
          0,
          0,
          1.3322676295501878e-15,
          2.220446049250313e-16,
          -1.5543122344752192e-15,
          -5.551115123125783e-16,
          -8.881784197001252e-16,
          2.4424906541753444e-15,
          -1.1102230246251565e-15,
          3.3306690738754696e-16,
          6.661338147750939e-16,
          -1.1102230246251565e-15,
          -3.3306690738754696e-16,
          2.220446049250313e-16,
          -8.881784197001252e-16,
          1.7763568394002505e-15,
          -9.992007221626409e-16,
          0,
          2.220446049250313e-16,
          -8.881784197001252e-16,
          -1.4432899320127035e-15,
          1.3322676295501878e-15,
          -4.440892098500626e-16,
          1.1102230246251565e-15,
          -9.992007221626409e-16,
          -4.440892098500626e-16,
          -2.220446049250313e-16,
          1.887379141862766e-15,
          0,
          4.440892098500626e-16,
          7.771561172376096e-16,
          3.3306690738754696e-16,
          4.440892098500626e-16,
          -8.881784197001252e-16,
          2.220446049250313e-16,
          4.440892098500626e-16,
          -2.4424906541753444e-15,
          -9.992007221626409e-16,
          0,
          5.551115123125783e-16,
          0,
          1.1102230246251565e-16,
          5.551115123125783e-16,
          -1.1102230246251565e-15,
          -6.661338147750939e-16,
          -1.5543122344752192e-15,
          7.771561172376096e-16,
          1.4432899320127035e-15,
          -4.440892098500626e-16,
          -2.220446049250313e-16,
          1.1102230246251565e-15,
          5.551115123125783e-16,
          0,
          -1.1102230246251565e-15,
          1.4432899320127035e-15,
          2.220446049250313e-16,
          -6.661338147750939e-16,
          7.771561172376096e-16,
          -6.661338147750939e-16,
          -1.2212453270876722e-15,
          -4.440892098500626e-16,
          -1.6653345369377348e-15,
          -2.220446049250313e-16,
          -6.661338147750939e-16,
          -2.220446049250313e-16,
          -1.1102230246251565e-16,
          1.6653345369377348e-15,
          -1.1102230246251565e-15,
          6.661338147750939e-16,
          -6.661338147750939e-16,
          -8.881784197001252e-16,
          7.771561172376096e-16,
          0,
          -4.440892098500626e-16,
          4.440892098500626e-16,
          -1.1102230246251565e-15,
          1.1102230246251565e-15,
          1.887379141862766e-15,
          -1.9984014443252818e-15,
          1.2212453270876722e-15,
          -1.9984014443252818e-15,
          2.220446049250313e-15,
          -3.3306690738754696e-16,
          4.440892098500626e-16,
          1.2212453270876722e-15,
          -2.220446049250313e-16,
          2.220446049250313e-16,
          4.440892098500626e-16,
          0,
          -6.661338147750939e-16,
          -1.3322676295501878e-15,
          -1.1102230246251565e-16,
          -8.881784197001252e-16,
          8.881784197001252e-16,
          9.992007221626409e-16,
          -1.6653345369377348e-15,
          -7.771561172376096e-16,
          -1.1102230246251565e-16,
          1.5543122344752192e-15,
          -6.661338147750939e-16,
          6.661338147750939e-16,
          -1.3322676295501878e-15,
          -6.661338147750939e-16,
          2.220446049250313e-16,
          0,
          -1.1102230246251565e-15,
          6.661338147750939e-16,
          1.1102230246251565e-16,
          -2.220446049250313e-16,
          -1.5543122344752192e-15,
          -4.440892098500626e-16,
          2.220446049250313e-16,
          -1.7763568394002505e-15,
          -1.3322676295501878e-15,
          1.1102230246251565e-16,
          -2.220446049250313e-16,
          8.881784197001252e-16,
          8.881784197001252e-16,
          3.3306690738754696e-16,
          4.440892098500626e-16,
          8.881784197001252e-16,
          1.1102230246251565e-15,
          -1.1102230246251565e-15,
          2.220446049250313e-15,
          -2.220446049250313e-16,
          1.7763568394002505e-15,
          6.661338147750939e-16,
          -1.887379141862766e-15,
          5.551115123125783e-16,
          -4.440892098500626e-16,
          -8.881784197001252e-16,
          -2.220446049250313e-16,
          -8.881784197001252e-16,
          6.661338147750939e-16,
          1.9984014443252818e-15,
          8.881784197001252e-16,
          -1.1102230246251565e-15,
          -1.1102230246251565e-16,
          -1.5543122344752192e-15,
          0,
          -1.2212453270876722e-15,
          -8.881784197001252e-16,
          -1.7763568394002505e-15,
          -6.661338147750939e-16,
          0,
          -1.1102230246251565e-15,
          0,
          -2.220446049250313e-16,
          -1.4432899320127035e-15,
          -2.4424906541753444e-15,
          4.440892098500626e-16,
          -7.771561172376096e-16,
          -1.1102230246251565e-15,
          -5.551115123125783e-16,
          0,
          -1.2212453270876722e-15,
          3.3306690738754696e-16,
          -8.881784197001252e-16,
          6.661338147750939e-16,
          8.881784197001252e-16,
          4.440892098500626e-16,
          -1.3322676295501878e-15,
          -6.661338147750939e-16,
          2.220446049250313e-16,
          0,
          -1.3322676295501878e-15,
          7.771561172376096e-16,
          3.3306690738754696e-16,
          -2.220446049250313e-16,
          -3.3306690738754696e-16,
          -1.7763568394002505e-15,
          -1.2212453270876722e-15,
          -1.2212453270876722e-15,
          -1.3322676295501878e-15,
          -6.661338147750939e-16,
          1.1102230246251565e-16,
          6.661338147750939e-16,
          0,
          -1.1102230246251565e-15,
          1.7763568394002505e-15,
          -2.220446049250313e-16,
          6.661338147750939e-16,
          -1.3322676295501878e-15,
          0,
          1.5543122344752192e-15,
          -6.661338147750939e-16,
          -5.551115123125783e-16,
          4.440892098500626e-16,
          0,
          -3.3306690738754696e-16,
          2.220446049250313e-16,
          2.1094237467877974e-15,
          1.1102230246251565e-15,
          5.551115123125783e-16,
          0,
          8.881784197001252e-16,
          -3.3306690738754696e-15,
          8.881784197001252e-16,
          1.1102230246251565e-15,
          -5.551115123125783e-16,
          6.661338147750939e-16,
          -6.661338147750939e-16,
          6.661338147750939e-16,
          2.220446049250313e-16,
          -4.440892098500626e-16,
          -1.3322676295501878e-15,
          4.440892098500626e-16,
          2.3314683517128287e-15,
          -7.771561172376096e-16,
          -1.1102230246251565e-15,
          -1.3322676295501878e-15,
          3.3306690738754696e-16,
          -8.881784197001252e-16,
          -2.220446049250313e-16,
          -1.9984014443252818e-15,
          -1.3322676295501878e-15,
          -3.3306690738754696e-16,
          0,
          0,
          -3.3306690738754696e-16,
          2.220446049250313e-16,
          1.1102230246251565e-15,
          -4.440892098500626e-16,
          4.440892098500626e-16,
          4.440892098500626e-16,
          2.220446049250313e-16,
          7.771561172376096e-16,
          -2.4424906541753444e-15,
          -4.440892098500626e-16,
          8.881784197001252e-16,
          6.661338147750939e-16,
          1.6653345369377348e-15,
          -2.1094237467877974e-15,
          1.2212453270876722e-15,
          -4.440892098500626e-16,
          -5.551115123125783e-16,
          -1.1102230246251565e-15,
          1.1102230246251565e-16,
          -8.881784197001252e-16,
          1.2212453270876722e-15,
          1.3322676295501878e-15,
          6.661338147750939e-16,
          -6.661338147750939e-16,
          -6.661338147750939e-16,
          3.3306690738754696e-16,
          1.1102230246251565e-16,
          -9.992007221626409e-16,
          -2.220446049250313e-16,
          -1.5543122344752192e-15,
          5.551115123125783e-16,
          -1.4432899320127035e-15,
          8.881784197001252e-16,
          -8.881784197001252e-16,
          -1.5543122344752192e-15,
          4.440892098500626e-16,
          0,
          -2.9976021664879227e-15,
          0,
          -1.1102230246251565e-16,
          -7.771561172376096e-16,
          -1.3322676295501878e-15,
          0,
          1.6653345369377348e-15,
          5.551115123125783e-16,
          0,
          -2.220446049250313e-16,
          -2.220446049250313e-16,
          8.881784197001252e-16,
          -8.881784197001252e-16,
          4.440892098500626e-16,
          -2.220446049250313e-16,
          -4.440892098500626e-16,
          -2.220446049250313e-16,
          4.440892098500626e-16,
          1.2212453270876722e-15,
          -1.1102230246251565e-16,
          -1.5543122344752192e-15,
          -1.3322676295501878e-15,
          -1.5543122344752192e-15,
          4.440892098500626e-16,
          -1.1102230246251565e-15,
          -1.6653345369377348e-15,
          2.220446049250313e-16,
          6.661338147750939e-16,
          3.3306690738754696e-16,
          4.440892098500626e-16,
          6.661338147750939e-16,
          6.661338147750939e-16,
          1.5543122344752192e-15,
          -1.3322676295501878e-15,
          -1.1102230246251565e-16,
          -2.220446049250313e-16,
          4.440892098500626e-16,
          9.992007221626409e-16,
          -5.551115123125783e-16,
          -2.220446049250313e-16,
          1.1102230246251565e-16,
          -1.2212453270876722e-15,
          -9.992007221626409e-16,
          5.551115123125783e-16,
          -2.220446049250313e-16,
          7.771561172376096e-16,
          -3.3306690738754696e-16,
          2.220446049250313e-16,
          1.3322676295501878e-15,
          -1.1102230246251565e-15,
          -1.9984014443252818e-15,
          -6.661338147750939e-16,
          -6.661338147750939e-16,
          7.771561172376096e-16,
          0,
          1.9984014443252818e-15,
          -1.9984014443252818e-15,
          -1.1102230246251565e-16,
          -1.3322676295501878e-15,
          -2.220446049250313e-16,
          -8.881784197001252e-16,
          -1.5543122344752192e-15,
          6.661338147750939e-16,
          4.440892098500626e-16,
          3.3306690738754696e-16,
          -6.661338147750939e-16,
          -1.5543122344752192e-15,
          1.5543122344752192e-15,
          0,
          1.9984014443252818e-15,
          4.440892098500626e-16,
          2.220446049250313e-16,
          6.661338147750939e-16
         ]
        }
       ],
       "layout": {
        "font": {
         "size": 18
        },
        "legend": {
         "title": {
          "text": "Legend"
         }
        },
        "showlegend": true,
        "template": {
         "data": {
          "bar": [
           {
            "error_x": {
             "color": "#f2f5fa"
            },
            "error_y": {
             "color": "#f2f5fa"
            },
            "marker": {
             "line": {
              "color": "rgb(17,17,17)",
              "width": 0.5
             },
             "pattern": {
              "fillmode": "overlay",
              "size": 10,
              "solidity": 0.2
             }
            },
            "type": "bar"
           }
          ],
          "barpolar": [
           {
            "marker": {
             "line": {
              "color": "rgb(17,17,17)",
              "width": 0.5
             },
             "pattern": {
              "fillmode": "overlay",
              "size": 10,
              "solidity": 0.2
             }
            },
            "type": "barpolar"
           }
          ],
          "carpet": [
           {
            "aaxis": {
             "endlinecolor": "#A2B1C6",
             "gridcolor": "#506784",
             "linecolor": "#506784",
             "minorgridcolor": "#506784",
             "startlinecolor": "#A2B1C6"
            },
            "baxis": {
             "endlinecolor": "#A2B1C6",
             "gridcolor": "#506784",
             "linecolor": "#506784",
             "minorgridcolor": "#506784",
             "startlinecolor": "#A2B1C6"
            },
            "type": "carpet"
           }
          ],
          "choropleth": [
           {
            "colorbar": {
             "outlinewidth": 0,
             "ticks": ""
            },
            "type": "choropleth"
           }
          ],
          "contour": [
           {
            "colorbar": {
             "outlinewidth": 0,
             "ticks": ""
            },
            "colorscale": [
             [
              0,
              "#0d0887"
             ],
             [
              0.1111111111111111,
              "#46039f"
             ],
             [
              0.2222222222222222,
              "#7201a8"
             ],
             [
              0.3333333333333333,
              "#9c179e"
             ],
             [
              0.4444444444444444,
              "#bd3786"
             ],
             [
              0.5555555555555556,
              "#d8576b"
             ],
             [
              0.6666666666666666,
              "#ed7953"
             ],
             [
              0.7777777777777778,
              "#fb9f3a"
             ],
             [
              0.8888888888888888,
              "#fdca26"
             ],
             [
              1,
              "#f0f921"
             ]
            ],
            "type": "contour"
           }
          ],
          "contourcarpet": [
           {
            "colorbar": {
             "outlinewidth": 0,
             "ticks": ""
            },
            "type": "contourcarpet"
           }
          ],
          "heatmap": [
           {
            "colorbar": {
             "outlinewidth": 0,
             "ticks": ""
            },
            "colorscale": [
             [
              0,
              "#0d0887"
             ],
             [
              0.1111111111111111,
              "#46039f"
             ],
             [
              0.2222222222222222,
              "#7201a8"
             ],
             [
              0.3333333333333333,
              "#9c179e"
             ],
             [
              0.4444444444444444,
              "#bd3786"
             ],
             [
              0.5555555555555556,
              "#d8576b"
             ],
             [
              0.6666666666666666,
              "#ed7953"
             ],
             [
              0.7777777777777778,
              "#fb9f3a"
             ],
             [
              0.8888888888888888,
              "#fdca26"
             ],
             [
              1,
              "#f0f921"
             ]
            ],
            "type": "heatmap"
           }
          ],
          "heatmapgl": [
           {
            "colorbar": {
             "outlinewidth": 0,
             "ticks": ""
            },
            "colorscale": [
             [
              0,
              "#0d0887"
             ],
             [
              0.1111111111111111,
              "#46039f"
             ],
             [
              0.2222222222222222,
              "#7201a8"
             ],
             [
              0.3333333333333333,
              "#9c179e"
             ],
             [
              0.4444444444444444,
              "#bd3786"
             ],
             [
              0.5555555555555556,
              "#d8576b"
             ],
             [
              0.6666666666666666,
              "#ed7953"
             ],
             [
              0.7777777777777778,
              "#fb9f3a"
             ],
             [
              0.8888888888888888,
              "#fdca26"
             ],
             [
              1,
              "#f0f921"
             ]
            ],
            "type": "heatmapgl"
           }
          ],
          "histogram": [
           {
            "marker": {
             "pattern": {
              "fillmode": "overlay",
              "size": 10,
              "solidity": 0.2
             }
            },
            "type": "histogram"
           }
          ],
          "histogram2d": [
           {
            "colorbar": {
             "outlinewidth": 0,
             "ticks": ""
            },
            "colorscale": [
             [
              0,
              "#0d0887"
             ],
             [
              0.1111111111111111,
              "#46039f"
             ],
             [
              0.2222222222222222,
              "#7201a8"
             ],
             [
              0.3333333333333333,
              "#9c179e"
             ],
             [
              0.4444444444444444,
              "#bd3786"
             ],
             [
              0.5555555555555556,
              "#d8576b"
             ],
             [
              0.6666666666666666,
              "#ed7953"
             ],
             [
              0.7777777777777778,
              "#fb9f3a"
             ],
             [
              0.8888888888888888,
              "#fdca26"
             ],
             [
              1,
              "#f0f921"
             ]
            ],
            "type": "histogram2d"
           }
          ],
          "histogram2dcontour": [
           {
            "colorbar": {
             "outlinewidth": 0,
             "ticks": ""
            },
            "colorscale": [
             [
              0,
              "#0d0887"
             ],
             [
              0.1111111111111111,
              "#46039f"
             ],
             [
              0.2222222222222222,
              "#7201a8"
             ],
             [
              0.3333333333333333,
              "#9c179e"
             ],
             [
              0.4444444444444444,
              "#bd3786"
             ],
             [
              0.5555555555555556,
              "#d8576b"
             ],
             [
              0.6666666666666666,
              "#ed7953"
             ],
             [
              0.7777777777777778,
              "#fb9f3a"
             ],
             [
              0.8888888888888888,
              "#fdca26"
             ],
             [
              1,
              "#f0f921"
             ]
            ],
            "type": "histogram2dcontour"
           }
          ],
          "mesh3d": [
           {
            "colorbar": {
             "outlinewidth": 0,
             "ticks": ""
            },
            "type": "mesh3d"
           }
          ],
          "parcoords": [
           {
            "line": {
             "colorbar": {
              "outlinewidth": 0,
              "ticks": ""
             }
            },
            "type": "parcoords"
           }
          ],
          "pie": [
           {
            "automargin": true,
            "type": "pie"
           }
          ],
          "scatter": [
           {
            "marker": {
             "line": {
              "color": "#283442"
             }
            },
            "type": "scatter"
           }
          ],
          "scatter3d": [
           {
            "line": {
             "colorbar": {
              "outlinewidth": 0,
              "ticks": ""
             }
            },
            "marker": {
             "colorbar": {
              "outlinewidth": 0,
              "ticks": ""
             }
            },
            "type": "scatter3d"
           }
          ],
          "scattercarpet": [
           {
            "marker": {
             "colorbar": {
              "outlinewidth": 0,
              "ticks": ""
             }
            },
            "type": "scattercarpet"
           }
          ],
          "scattergeo": [
           {
            "marker": {
             "colorbar": {
              "outlinewidth": 0,
              "ticks": ""
             }
            },
            "type": "scattergeo"
           }
          ],
          "scattergl": [
           {
            "marker": {
             "line": {
              "color": "#283442"
             }
            },
            "type": "scattergl"
           }
          ],
          "scattermapbox": [
           {
            "marker": {
             "colorbar": {
              "outlinewidth": 0,
              "ticks": ""
             }
            },
            "type": "scattermapbox"
           }
          ],
          "scatterpolar": [
           {
            "marker": {
             "colorbar": {
              "outlinewidth": 0,
              "ticks": ""
             }
            },
            "type": "scatterpolar"
           }
          ],
          "scatterpolargl": [
           {
            "marker": {
             "colorbar": {
              "outlinewidth": 0,
              "ticks": ""
             }
            },
            "type": "scatterpolargl"
           }
          ],
          "scatterternary": [
           {
            "marker": {
             "colorbar": {
              "outlinewidth": 0,
              "ticks": ""
             }
            },
            "type": "scatterternary"
           }
          ],
          "surface": [
           {
            "colorbar": {
             "outlinewidth": 0,
             "ticks": ""
            },
            "colorscale": [
             [
              0,
              "#0d0887"
             ],
             [
              0.1111111111111111,
              "#46039f"
             ],
             [
              0.2222222222222222,
              "#7201a8"
             ],
             [
              0.3333333333333333,
              "#9c179e"
             ],
             [
              0.4444444444444444,
              "#bd3786"
             ],
             [
              0.5555555555555556,
              "#d8576b"
             ],
             [
              0.6666666666666666,
              "#ed7953"
             ],
             [
              0.7777777777777778,
              "#fb9f3a"
             ],
             [
              0.8888888888888888,
              "#fdca26"
             ],
             [
              1,
              "#f0f921"
             ]
            ],
            "type": "surface"
           }
          ],
          "table": [
           {
            "cells": {
             "fill": {
              "color": "#506784"
             },
             "line": {
              "color": "rgb(17,17,17)"
             }
            },
            "header": {
             "fill": {
              "color": "#2a3f5f"
             },
             "line": {
              "color": "rgb(17,17,17)"
             }
            },
            "type": "table"
           }
          ]
         },
         "layout": {
          "annotationdefaults": {
           "arrowcolor": "#f2f5fa",
           "arrowhead": 0,
           "arrowwidth": 1
          },
          "autotypenumbers": "strict",
          "coloraxis": {
           "colorbar": {
            "outlinewidth": 0,
            "ticks": ""
           }
          },
          "colorscale": {
           "diverging": [
            [
             0,
             "#8e0152"
            ],
            [
             0.1,
             "#c51b7d"
            ],
            [
             0.2,
             "#de77ae"
            ],
            [
             0.3,
             "#f1b6da"
            ],
            [
             0.4,
             "#fde0ef"
            ],
            [
             0.5,
             "#f7f7f7"
            ],
            [
             0.6,
             "#e6f5d0"
            ],
            [
             0.7,
             "#b8e186"
            ],
            [
             0.8,
             "#7fbc41"
            ],
            [
             0.9,
             "#4d9221"
            ],
            [
             1,
             "#276419"
            ]
           ],
           "sequential": [
            [
             0,
             "#0d0887"
            ],
            [
             0.1111111111111111,
             "#46039f"
            ],
            [
             0.2222222222222222,
             "#7201a8"
            ],
            [
             0.3333333333333333,
             "#9c179e"
            ],
            [
             0.4444444444444444,
             "#bd3786"
            ],
            [
             0.5555555555555556,
             "#d8576b"
            ],
            [
             0.6666666666666666,
             "#ed7953"
            ],
            [
             0.7777777777777778,
             "#fb9f3a"
            ],
            [
             0.8888888888888888,
             "#fdca26"
            ],
            [
             1,
             "#f0f921"
            ]
           ],
           "sequentialminus": [
            [
             0,
             "#0d0887"
            ],
            [
             0.1111111111111111,
             "#46039f"
            ],
            [
             0.2222222222222222,
             "#7201a8"
            ],
            [
             0.3333333333333333,
             "#9c179e"
            ],
            [
             0.4444444444444444,
             "#bd3786"
            ],
            [
             0.5555555555555556,
             "#d8576b"
            ],
            [
             0.6666666666666666,
             "#ed7953"
            ],
            [
             0.7777777777777778,
             "#fb9f3a"
            ],
            [
             0.8888888888888888,
             "#fdca26"
            ],
            [
             1,
             "#f0f921"
            ]
           ]
          },
          "colorway": [
           "#636efa",
           "#EF553B",
           "#00cc96",
           "#ab63fa",
           "#FFA15A",
           "#19d3f3",
           "#FF6692",
           "#B6E880",
           "#FF97FF",
           "#FECB52"
          ],
          "font": {
           "color": "#f2f5fa"
          },
          "geo": {
           "bgcolor": "rgb(17,17,17)",
           "lakecolor": "rgb(17,17,17)",
           "landcolor": "rgb(17,17,17)",
           "showlakes": true,
           "showland": true,
           "subunitcolor": "#506784"
          },
          "hoverlabel": {
           "align": "left"
          },
          "hovermode": "closest",
          "mapbox": {
           "style": "dark"
          },
          "paper_bgcolor": "rgb(17,17,17)",
          "plot_bgcolor": "rgb(17,17,17)",
          "polar": {
           "angularaxis": {
            "gridcolor": "#506784",
            "linecolor": "#506784",
            "ticks": ""
           },
           "bgcolor": "rgb(17,17,17)",
           "radialaxis": {
            "gridcolor": "#506784",
            "linecolor": "#506784",
            "ticks": ""
           }
          },
          "scene": {
           "xaxis": {
            "backgroundcolor": "rgb(17,17,17)",
            "gridcolor": "#506784",
            "gridwidth": 2,
            "linecolor": "#506784",
            "showbackground": true,
            "ticks": "",
            "zerolinecolor": "#C8D4E3"
           },
           "yaxis": {
            "backgroundcolor": "rgb(17,17,17)",
            "gridcolor": "#506784",
            "gridwidth": 2,
            "linecolor": "#506784",
            "showbackground": true,
            "ticks": "",
            "zerolinecolor": "#C8D4E3"
           },
           "zaxis": {
            "backgroundcolor": "rgb(17,17,17)",
            "gridcolor": "#506784",
            "gridwidth": 2,
            "linecolor": "#506784",
            "showbackground": true,
            "ticks": "",
            "zerolinecolor": "#C8D4E3"
           }
          },
          "shapedefaults": {
           "line": {
            "color": "#f2f5fa"
           }
          },
          "sliderdefaults": {
           "bgcolor": "#C8D4E3",
           "bordercolor": "rgb(17,17,17)",
           "borderwidth": 1,
           "tickwidth": 0
          },
          "ternary": {
           "aaxis": {
            "gridcolor": "#506784",
            "linecolor": "#506784",
            "ticks": ""
           },
           "baxis": {
            "gridcolor": "#506784",
            "linecolor": "#506784",
            "ticks": ""
           },
           "bgcolor": "rgb(17,17,17)",
           "caxis": {
            "gridcolor": "#506784",
            "linecolor": "#506784",
            "ticks": ""
           }
          },
          "title": {
           "x": 0.05
          },
          "updatemenudefaults": {
           "bgcolor": "#506784",
           "borderwidth": 0
          },
          "xaxis": {
           "automargin": true,
           "gridcolor": "#283442",
           "linecolor": "#506784",
           "ticks": "",
           "title": {
            "standoff": 15
           },
           "zerolinecolor": "#283442",
           "zerolinewidth": 2
          },
          "yaxis": {
           "automargin": true,
           "gridcolor": "#283442",
           "linecolor": "#506784",
           "ticks": "",
           "title": {
            "standoff": 15
           },
           "zerolinecolor": "#283442",
           "zerolinewidth": 2
          }
         }
        },
        "title": {
         "text": "real part [mass: 1]"
        },
        "xaxis": {
         "title": {
          "text": "N_matrix"
         }
        },
        "yaxis": {
         "title": {
          "text": "real"
         }
        }
       }
      }
     },
     "metadata": {},
     "output_type": "display_data"
    },
    {
     "data": {
      "application/vnd.plotly.v1+json": {
       "config": {
        "plotlyServerURL": "https://plot.ly"
       },
       "data": [
        {
         "name": "[N_matrix: 499]",
         "type": "scatter",
         "x": [
          2,
          3,
          4,
          5,
          6,
          7,
          8,
          9,
          10,
          11,
          12,
          13,
          14,
          15,
          16,
          17,
          18,
          19,
          20,
          21,
          22,
          23,
          24,
          25,
          26,
          27,
          28,
          29,
          30,
          31,
          32,
          33,
          34,
          35,
          36,
          37,
          38,
          39,
          40,
          41,
          42,
          43,
          44,
          45,
          46,
          47,
          48,
          49,
          50,
          51,
          52,
          53,
          54,
          55,
          56,
          57,
          58,
          59,
          60,
          61,
          62,
          63,
          64,
          65,
          66,
          67,
          68,
          69,
          70,
          71,
          72,
          73,
          74,
          75,
          76,
          77,
          78,
          79,
          80,
          81,
          82,
          83,
          84,
          85,
          86,
          87,
          88,
          89,
          90,
          91,
          92,
          93,
          94,
          95,
          96,
          97,
          98,
          99,
          100,
          101,
          102,
          103,
          104,
          105,
          106,
          107,
          108,
          109,
          110,
          111,
          112,
          113,
          114,
          115,
          116,
          117,
          118,
          119,
          120,
          121,
          122,
          123,
          124,
          125,
          126,
          127,
          128,
          129,
          130,
          131,
          132,
          133,
          134,
          135,
          136,
          137,
          138,
          139,
          140,
          141,
          142,
          143,
          144,
          145,
          146,
          147,
          148,
          149,
          150,
          151,
          152,
          153,
          154,
          155,
          156,
          157,
          158,
          159,
          160,
          161,
          162,
          163,
          164,
          165,
          166,
          167,
          168,
          169,
          170,
          171,
          172,
          173,
          174,
          175,
          176,
          177,
          178,
          179,
          180,
          181,
          182,
          183,
          184,
          185,
          186,
          187,
          188,
          189,
          190,
          191,
          192,
          193,
          194,
          195,
          196,
          197,
          198,
          199,
          200,
          201,
          202,
          203,
          204,
          205,
          206,
          207,
          208,
          209,
          210,
          211,
          212,
          213,
          214,
          215,
          216,
          217,
          218,
          219,
          220,
          221,
          222,
          223,
          224,
          225,
          226,
          227,
          228,
          229,
          230,
          231,
          232,
          233,
          234,
          235,
          236,
          237,
          238,
          239,
          240,
          241,
          242,
          243,
          244,
          245,
          246,
          247,
          248,
          249,
          250,
          251,
          252,
          253,
          254,
          255,
          256,
          257,
          258,
          259,
          260,
          261,
          262,
          263,
          264,
          265,
          266,
          267,
          268,
          269,
          270,
          271,
          272,
          273,
          274,
          275,
          276,
          277,
          278,
          279,
          280,
          281,
          282,
          283,
          284,
          285,
          286,
          287,
          288,
          289,
          290,
          291,
          292,
          293,
          294,
          295,
          296,
          297,
          298,
          299,
          300,
          301,
          302,
          303,
          304,
          305,
          306,
          307,
          308,
          309,
          310,
          311,
          312,
          313,
          314,
          315,
          316,
          317,
          318,
          319,
          320,
          321,
          322,
          323,
          324,
          325,
          326,
          327,
          328,
          329,
          330,
          331,
          332,
          333,
          334,
          335,
          336,
          337,
          338,
          339,
          340,
          341,
          342,
          343,
          344,
          345,
          346,
          347,
          348,
          349,
          350,
          351,
          352,
          353,
          354,
          355,
          356,
          357,
          358,
          359,
          360,
          361,
          362,
          363,
          364,
          365,
          366,
          367,
          368,
          369,
          370,
          371,
          372,
          373,
          374,
          375,
          376,
          377,
          378,
          379,
          380,
          381,
          382,
          383,
          384,
          385,
          386,
          387,
          388,
          389,
          390,
          391,
          392,
          393,
          394,
          395,
          396,
          397,
          398,
          399,
          400,
          401,
          402,
          403,
          404,
          405,
          406,
          407,
          408,
          409,
          410,
          411,
          412,
          413,
          414,
          415,
          416,
          417,
          418,
          419,
          420,
          421,
          422,
          423,
          424,
          425,
          426,
          427,
          428,
          429,
          430,
          431,
          432,
          433,
          434,
          435,
          436,
          437,
          438,
          439,
          440,
          441,
          442,
          443,
          444,
          445,
          446,
          447,
          448,
          449,
          450,
          451,
          452,
          453,
          454,
          455,
          456,
          457,
          458,
          459,
          460,
          461,
          462,
          463,
          464,
          465,
          466,
          467,
          468,
          469,
          470,
          471,
          472,
          473,
          474,
          475,
          476,
          477,
          478,
          479,
          480,
          481,
          482,
          483,
          484,
          485,
          486,
          487,
          488,
          489,
          490,
          491,
          492,
          493,
          494,
          495,
          496,
          497,
          498,
          499
         ],
         "y": [
          0,
          0,
          0,
          0,
          0,
          0,
          0,
          0,
          0,
          0,
          0,
          0,
          0,
          0,
          0,
          0,
          0,
          0,
          0,
          0,
          0,
          0,
          0,
          0,
          0,
          0,
          0,
          0,
          0,
          0,
          0,
          0,
          0,
          0,
          0,
          0,
          0,
          0,
          0,
          0,
          0,
          0,
          0,
          0,
          0,
          0,
          0,
          0,
          0,
          0,
          0,
          0,
          0,
          0,
          0,
          0,
          0,
          0,
          0,
          0,
          0,
          0,
          0,
          0,
          0,
          0,
          0,
          0,
          0,
          0,
          0,
          0,
          0,
          0,
          0,
          0,
          0,
          0,
          0,
          0,
          0,
          0,
          0,
          0,
          0,
          0,
          0,
          0,
          0,
          0,
          0,
          0,
          0,
          0,
          0,
          0,
          0,
          0,
          0,
          0,
          0,
          0,
          0,
          0,
          0,
          0,
          0,
          0,
          0,
          0,
          0,
          0,
          0,
          0,
          0,
          0,
          0,
          0,
          0,
          0,
          0,
          0,
          0,
          0,
          0,
          0,
          0,
          0,
          0,
          0,
          0,
          0,
          0,
          0,
          0,
          0,
          0,
          0,
          0,
          0,
          0,
          0,
          0,
          0,
          0,
          0,
          0,
          0,
          0,
          0,
          0,
          0,
          0,
          0,
          0,
          0,
          0,
          0,
          0,
          0,
          0,
          0,
          0,
          0,
          0,
          0,
          0,
          0,
          0,
          0,
          0,
          0,
          0,
          0,
          0,
          0,
          0,
          0,
          0,
          0,
          0,
          0,
          0,
          0,
          0,
          0,
          0,
          0,
          0,
          0,
          0,
          0,
          0,
          0,
          0,
          0,
          0,
          0,
          0,
          0,
          0,
          0,
          0,
          0,
          0,
          0,
          0,
          0,
          0,
          0,
          0,
          0,
          0,
          0,
          0,
          0,
          0,
          0,
          0,
          0,
          0,
          0,
          0,
          0,
          0,
          0,
          0,
          0,
          0,
          0,
          0,
          0,
          0,
          0,
          0,
          0,
          0,
          0,
          0,
          0,
          0,
          0,
          0,
          0,
          0,
          0,
          0,
          0,
          0,
          0,
          0,
          0,
          0,
          0,
          0,
          0,
          0,
          0,
          0,
          0,
          0,
          0,
          0,
          0,
          0,
          0,
          0,
          0,
          0,
          0,
          0,
          0,
          0,
          0,
          0,
          0,
          0,
          0,
          0,
          0,
          0,
          0,
          0,
          0,
          0,
          0,
          0,
          0,
          0,
          0,
          0,
          0,
          0,
          0,
          0,
          0,
          0,
          0,
          0,
          0,
          0,
          0,
          0,
          0,
          0,
          0,
          0,
          0,
          0,
          0,
          0,
          0,
          0,
          0,
          0,
          0,
          0,
          0,
          0,
          0,
          0,
          0,
          0,
          0,
          0,
          0,
          0,
          0,
          0,
          0,
          0,
          0,
          0,
          0,
          0,
          0,
          0,
          0,
          0,
          0,
          0,
          0,
          0,
          0,
          0,
          0,
          0,
          0,
          0,
          0,
          0,
          0,
          0,
          0,
          0,
          0,
          0,
          0,
          0,
          0,
          0,
          0,
          0,
          0,
          0,
          0,
          0,
          0,
          0,
          0,
          0,
          0,
          0,
          0,
          0,
          0,
          0,
          0,
          0,
          0,
          0,
          0,
          0,
          0,
          0,
          0,
          0,
          0,
          0,
          0,
          0,
          0,
          0,
          0,
          0,
          0,
          0,
          0,
          0,
          0,
          0,
          0,
          0,
          0,
          0,
          0,
          0,
          0,
          0,
          0,
          0,
          0,
          0,
          0,
          0,
          0,
          0,
          0,
          0,
          0,
          0,
          0,
          0,
          0,
          0,
          0,
          0,
          0,
          0,
          0,
          0,
          0,
          0,
          0,
          0,
          0,
          0,
          0,
          0,
          0,
          0,
          0,
          0,
          0,
          0,
          0,
          0,
          0,
          0,
          0,
          0,
          0,
          0,
          0,
          0,
          0,
          0,
          0,
          0,
          0,
          0,
          0,
          0,
          0,
          0,
          0,
          0,
          0,
          0,
          0,
          0,
          0,
          0,
          0,
          0,
          0,
          0,
          0,
          0,
          0,
          0,
          0,
          0,
          0,
          0,
          0,
          0,
          0,
          0,
          0,
          0,
          0,
          0,
          0,
          0,
          0,
          0,
          0
         ]
        }
       ],
       "layout": {
        "font": {
         "size": 18
        },
        "legend": {
         "title": {
          "text": "Legend"
         }
        },
        "showlegend": true,
        "template": {
         "data": {
          "bar": [
           {
            "error_x": {
             "color": "#f2f5fa"
            },
            "error_y": {
             "color": "#f2f5fa"
            },
            "marker": {
             "line": {
              "color": "rgb(17,17,17)",
              "width": 0.5
             },
             "pattern": {
              "fillmode": "overlay",
              "size": 10,
              "solidity": 0.2
             }
            },
            "type": "bar"
           }
          ],
          "barpolar": [
           {
            "marker": {
             "line": {
              "color": "rgb(17,17,17)",
              "width": 0.5
             },
             "pattern": {
              "fillmode": "overlay",
              "size": 10,
              "solidity": 0.2
             }
            },
            "type": "barpolar"
           }
          ],
          "carpet": [
           {
            "aaxis": {
             "endlinecolor": "#A2B1C6",
             "gridcolor": "#506784",
             "linecolor": "#506784",
             "minorgridcolor": "#506784",
             "startlinecolor": "#A2B1C6"
            },
            "baxis": {
             "endlinecolor": "#A2B1C6",
             "gridcolor": "#506784",
             "linecolor": "#506784",
             "minorgridcolor": "#506784",
             "startlinecolor": "#A2B1C6"
            },
            "type": "carpet"
           }
          ],
          "choropleth": [
           {
            "colorbar": {
             "outlinewidth": 0,
             "ticks": ""
            },
            "type": "choropleth"
           }
          ],
          "contour": [
           {
            "colorbar": {
             "outlinewidth": 0,
             "ticks": ""
            },
            "colorscale": [
             [
              0,
              "#0d0887"
             ],
             [
              0.1111111111111111,
              "#46039f"
             ],
             [
              0.2222222222222222,
              "#7201a8"
             ],
             [
              0.3333333333333333,
              "#9c179e"
             ],
             [
              0.4444444444444444,
              "#bd3786"
             ],
             [
              0.5555555555555556,
              "#d8576b"
             ],
             [
              0.6666666666666666,
              "#ed7953"
             ],
             [
              0.7777777777777778,
              "#fb9f3a"
             ],
             [
              0.8888888888888888,
              "#fdca26"
             ],
             [
              1,
              "#f0f921"
             ]
            ],
            "type": "contour"
           }
          ],
          "contourcarpet": [
           {
            "colorbar": {
             "outlinewidth": 0,
             "ticks": ""
            },
            "type": "contourcarpet"
           }
          ],
          "heatmap": [
           {
            "colorbar": {
             "outlinewidth": 0,
             "ticks": ""
            },
            "colorscale": [
             [
              0,
              "#0d0887"
             ],
             [
              0.1111111111111111,
              "#46039f"
             ],
             [
              0.2222222222222222,
              "#7201a8"
             ],
             [
              0.3333333333333333,
              "#9c179e"
             ],
             [
              0.4444444444444444,
              "#bd3786"
             ],
             [
              0.5555555555555556,
              "#d8576b"
             ],
             [
              0.6666666666666666,
              "#ed7953"
             ],
             [
              0.7777777777777778,
              "#fb9f3a"
             ],
             [
              0.8888888888888888,
              "#fdca26"
             ],
             [
              1,
              "#f0f921"
             ]
            ],
            "type": "heatmap"
           }
          ],
          "heatmapgl": [
           {
            "colorbar": {
             "outlinewidth": 0,
             "ticks": ""
            },
            "colorscale": [
             [
              0,
              "#0d0887"
             ],
             [
              0.1111111111111111,
              "#46039f"
             ],
             [
              0.2222222222222222,
              "#7201a8"
             ],
             [
              0.3333333333333333,
              "#9c179e"
             ],
             [
              0.4444444444444444,
              "#bd3786"
             ],
             [
              0.5555555555555556,
              "#d8576b"
             ],
             [
              0.6666666666666666,
              "#ed7953"
             ],
             [
              0.7777777777777778,
              "#fb9f3a"
             ],
             [
              0.8888888888888888,
              "#fdca26"
             ],
             [
              1,
              "#f0f921"
             ]
            ],
            "type": "heatmapgl"
           }
          ],
          "histogram": [
           {
            "marker": {
             "pattern": {
              "fillmode": "overlay",
              "size": 10,
              "solidity": 0.2
             }
            },
            "type": "histogram"
           }
          ],
          "histogram2d": [
           {
            "colorbar": {
             "outlinewidth": 0,
             "ticks": ""
            },
            "colorscale": [
             [
              0,
              "#0d0887"
             ],
             [
              0.1111111111111111,
              "#46039f"
             ],
             [
              0.2222222222222222,
              "#7201a8"
             ],
             [
              0.3333333333333333,
              "#9c179e"
             ],
             [
              0.4444444444444444,
              "#bd3786"
             ],
             [
              0.5555555555555556,
              "#d8576b"
             ],
             [
              0.6666666666666666,
              "#ed7953"
             ],
             [
              0.7777777777777778,
              "#fb9f3a"
             ],
             [
              0.8888888888888888,
              "#fdca26"
             ],
             [
              1,
              "#f0f921"
             ]
            ],
            "type": "histogram2d"
           }
          ],
          "histogram2dcontour": [
           {
            "colorbar": {
             "outlinewidth": 0,
             "ticks": ""
            },
            "colorscale": [
             [
              0,
              "#0d0887"
             ],
             [
              0.1111111111111111,
              "#46039f"
             ],
             [
              0.2222222222222222,
              "#7201a8"
             ],
             [
              0.3333333333333333,
              "#9c179e"
             ],
             [
              0.4444444444444444,
              "#bd3786"
             ],
             [
              0.5555555555555556,
              "#d8576b"
             ],
             [
              0.6666666666666666,
              "#ed7953"
             ],
             [
              0.7777777777777778,
              "#fb9f3a"
             ],
             [
              0.8888888888888888,
              "#fdca26"
             ],
             [
              1,
              "#f0f921"
             ]
            ],
            "type": "histogram2dcontour"
           }
          ],
          "mesh3d": [
           {
            "colorbar": {
             "outlinewidth": 0,
             "ticks": ""
            },
            "type": "mesh3d"
           }
          ],
          "parcoords": [
           {
            "line": {
             "colorbar": {
              "outlinewidth": 0,
              "ticks": ""
             }
            },
            "type": "parcoords"
           }
          ],
          "pie": [
           {
            "automargin": true,
            "type": "pie"
           }
          ],
          "scatter": [
           {
            "marker": {
             "line": {
              "color": "#283442"
             }
            },
            "type": "scatter"
           }
          ],
          "scatter3d": [
           {
            "line": {
             "colorbar": {
              "outlinewidth": 0,
              "ticks": ""
             }
            },
            "marker": {
             "colorbar": {
              "outlinewidth": 0,
              "ticks": ""
             }
            },
            "type": "scatter3d"
           }
          ],
          "scattercarpet": [
           {
            "marker": {
             "colorbar": {
              "outlinewidth": 0,
              "ticks": ""
             }
            },
            "type": "scattercarpet"
           }
          ],
          "scattergeo": [
           {
            "marker": {
             "colorbar": {
              "outlinewidth": 0,
              "ticks": ""
             }
            },
            "type": "scattergeo"
           }
          ],
          "scattergl": [
           {
            "marker": {
             "line": {
              "color": "#283442"
             }
            },
            "type": "scattergl"
           }
          ],
          "scattermapbox": [
           {
            "marker": {
             "colorbar": {
              "outlinewidth": 0,
              "ticks": ""
             }
            },
            "type": "scattermapbox"
           }
          ],
          "scatterpolar": [
           {
            "marker": {
             "colorbar": {
              "outlinewidth": 0,
              "ticks": ""
             }
            },
            "type": "scatterpolar"
           }
          ],
          "scatterpolargl": [
           {
            "marker": {
             "colorbar": {
              "outlinewidth": 0,
              "ticks": ""
             }
            },
            "type": "scatterpolargl"
           }
          ],
          "scatterternary": [
           {
            "marker": {
             "colorbar": {
              "outlinewidth": 0,
              "ticks": ""
             }
            },
            "type": "scatterternary"
           }
          ],
          "surface": [
           {
            "colorbar": {
             "outlinewidth": 0,
             "ticks": ""
            },
            "colorscale": [
             [
              0,
              "#0d0887"
             ],
             [
              0.1111111111111111,
              "#46039f"
             ],
             [
              0.2222222222222222,
              "#7201a8"
             ],
             [
              0.3333333333333333,
              "#9c179e"
             ],
             [
              0.4444444444444444,
              "#bd3786"
             ],
             [
              0.5555555555555556,
              "#d8576b"
             ],
             [
              0.6666666666666666,
              "#ed7953"
             ],
             [
              0.7777777777777778,
              "#fb9f3a"
             ],
             [
              0.8888888888888888,
              "#fdca26"
             ],
             [
              1,
              "#f0f921"
             ]
            ],
            "type": "surface"
           }
          ],
          "table": [
           {
            "cells": {
             "fill": {
              "color": "#506784"
             },
             "line": {
              "color": "rgb(17,17,17)"
             }
            },
            "header": {
             "fill": {
              "color": "#2a3f5f"
             },
             "line": {
              "color": "rgb(17,17,17)"
             }
            },
            "type": "table"
           }
          ]
         },
         "layout": {
          "annotationdefaults": {
           "arrowcolor": "#f2f5fa",
           "arrowhead": 0,
           "arrowwidth": 1
          },
          "autotypenumbers": "strict",
          "coloraxis": {
           "colorbar": {
            "outlinewidth": 0,
            "ticks": ""
           }
          },
          "colorscale": {
           "diverging": [
            [
             0,
             "#8e0152"
            ],
            [
             0.1,
             "#c51b7d"
            ],
            [
             0.2,
             "#de77ae"
            ],
            [
             0.3,
             "#f1b6da"
            ],
            [
             0.4,
             "#fde0ef"
            ],
            [
             0.5,
             "#f7f7f7"
            ],
            [
             0.6,
             "#e6f5d0"
            ],
            [
             0.7,
             "#b8e186"
            ],
            [
             0.8,
             "#7fbc41"
            ],
            [
             0.9,
             "#4d9221"
            ],
            [
             1,
             "#276419"
            ]
           ],
           "sequential": [
            [
             0,
             "#0d0887"
            ],
            [
             0.1111111111111111,
             "#46039f"
            ],
            [
             0.2222222222222222,
             "#7201a8"
            ],
            [
             0.3333333333333333,
             "#9c179e"
            ],
            [
             0.4444444444444444,
             "#bd3786"
            ],
            [
             0.5555555555555556,
             "#d8576b"
            ],
            [
             0.6666666666666666,
             "#ed7953"
            ],
            [
             0.7777777777777778,
             "#fb9f3a"
            ],
            [
             0.8888888888888888,
             "#fdca26"
            ],
            [
             1,
             "#f0f921"
            ]
           ],
           "sequentialminus": [
            [
             0,
             "#0d0887"
            ],
            [
             0.1111111111111111,
             "#46039f"
            ],
            [
             0.2222222222222222,
             "#7201a8"
            ],
            [
             0.3333333333333333,
             "#9c179e"
            ],
            [
             0.4444444444444444,
             "#bd3786"
            ],
            [
             0.5555555555555556,
             "#d8576b"
            ],
            [
             0.6666666666666666,
             "#ed7953"
            ],
            [
             0.7777777777777778,
             "#fb9f3a"
            ],
            [
             0.8888888888888888,
             "#fdca26"
            ],
            [
             1,
             "#f0f921"
            ]
           ]
          },
          "colorway": [
           "#636efa",
           "#EF553B",
           "#00cc96",
           "#ab63fa",
           "#FFA15A",
           "#19d3f3",
           "#FF6692",
           "#B6E880",
           "#FF97FF",
           "#FECB52"
          ],
          "font": {
           "color": "#f2f5fa"
          },
          "geo": {
           "bgcolor": "rgb(17,17,17)",
           "lakecolor": "rgb(17,17,17)",
           "landcolor": "rgb(17,17,17)",
           "showlakes": true,
           "showland": true,
           "subunitcolor": "#506784"
          },
          "hoverlabel": {
           "align": "left"
          },
          "hovermode": "closest",
          "mapbox": {
           "style": "dark"
          },
          "paper_bgcolor": "rgb(17,17,17)",
          "plot_bgcolor": "rgb(17,17,17)",
          "polar": {
           "angularaxis": {
            "gridcolor": "#506784",
            "linecolor": "#506784",
            "ticks": ""
           },
           "bgcolor": "rgb(17,17,17)",
           "radialaxis": {
            "gridcolor": "#506784",
            "linecolor": "#506784",
            "ticks": ""
           }
          },
          "scene": {
           "xaxis": {
            "backgroundcolor": "rgb(17,17,17)",
            "gridcolor": "#506784",
            "gridwidth": 2,
            "linecolor": "#506784",
            "showbackground": true,
            "ticks": "",
            "zerolinecolor": "#C8D4E3"
           },
           "yaxis": {
            "backgroundcolor": "rgb(17,17,17)",
            "gridcolor": "#506784",
            "gridwidth": 2,
            "linecolor": "#506784",
            "showbackground": true,
            "ticks": "",
            "zerolinecolor": "#C8D4E3"
           },
           "zaxis": {
            "backgroundcolor": "rgb(17,17,17)",
            "gridcolor": "#506784",
            "gridwidth": 2,
            "linecolor": "#506784",
            "showbackground": true,
            "ticks": "",
            "zerolinecolor": "#C8D4E3"
           }
          },
          "shapedefaults": {
           "line": {
            "color": "#f2f5fa"
           }
          },
          "sliderdefaults": {
           "bgcolor": "#C8D4E3",
           "bordercolor": "rgb(17,17,17)",
           "borderwidth": 1,
           "tickwidth": 0
          },
          "ternary": {
           "aaxis": {
            "gridcolor": "#506784",
            "linecolor": "#506784",
            "ticks": ""
           },
           "baxis": {
            "gridcolor": "#506784",
            "linecolor": "#506784",
            "ticks": ""
           },
           "bgcolor": "rgb(17,17,17)",
           "caxis": {
            "gridcolor": "#506784",
            "linecolor": "#506784",
            "ticks": ""
           }
          },
          "title": {
           "x": 0.05
          },
          "updatemenudefaults": {
           "bgcolor": "#506784",
           "borderwidth": 0
          },
          "xaxis": {
           "automargin": true,
           "gridcolor": "#283442",
           "linecolor": "#506784",
           "ticks": "",
           "title": {
            "standoff": 15
           },
           "zerolinecolor": "#283442",
           "zerolinewidth": 2
          },
          "yaxis": {
           "automargin": true,
           "gridcolor": "#283442",
           "linecolor": "#506784",
           "ticks": "",
           "title": {
            "standoff": 15
           },
           "zerolinecolor": "#283442",
           "zerolinewidth": 2
          }
         }
        },
        "title": {
         "text": "imag part [mass: 1]"
        },
        "xaxis": {
         "title": {
          "text": "N_matrix"
         }
        },
        "yaxis": {
         "title": {
          "text": "img"
         }
        }
       }
      }
     },
     "metadata": {},
     "output_type": "display_data"
    }
   ],
   "source": [
    "fig_real.update_layout(\n",
    "        title=f\"real part [mass: {mass}]\",\n",
    "        xaxis_title=\"N_matrix\",\n",
    "        yaxis_title=\"real\",\n",
    "        legend_title=\"Legend\",\n",
    "        font=dict(\n",
    "            size=18,\n",
    "        )\n",
    ")\n",
    "fig_img.update_layout(\n",
    "        title=f\"imag part [mass: {mass}]\",\n",
    "        xaxis_title=\"N_matrix\",\n",
    "        yaxis_title=\"img\",\n",
    "        legend_title=\"Legend\",\n",
    "        font=dict(\n",
    "            size=18,\n",
    "        )\n",
    ")\n",
    "\n",
    "fig_real.update_layout(template='plotly_dark',showlegend=True)\n",
    "fig_img. update_layout(template='plotly_dark',showlegend=True)\n",
    "\n",
    "fig_real.write_image(f\"out\\\\plots_1.png\",scale=6, width=1920, height=1080)\n",
    "fig_img.write_image(f\"out\\\\plots_2.png\",scale=6, width=1920, height=1080)\n",
    "\n",
    "fig_real.show()\n",
    "fig_img.show()"
   ]
  },
  {
   "cell_type": "code",
   "execution_count": 6,
   "metadata": {},
   "outputs": [],
   "source": [
    "fig_real_1 = go.Figure()\n",
    "fig_img_1  = go.Figure()\n",
    "\n",
    "result_real_1 = []\n",
    "result_img_1 = []\n",
    "\n",
    "for N_matrix in range(2,500):\n",
    "    alpha = 10\n",
    "    \n",
    "    \n",
    "\n",
    "    H = matrix_constructor(alpha)\n",
    "    val,vec = LA.eig(H)\n",
    "    result_real_1.append(val[0].real)\n",
    "    result_img_1.append(val[0].imag)\n",
    "\n",
    "\n",
    "\n",
    "\n",
    "\n"
   ]
  },
  {
   "cell_type": "code",
   "execution_count": 17,
   "metadata": {},
   "outputs": [
    {
     "data": {
      "application/vnd.plotly.v1+json": {
       "config": {
        "plotlyServerURL": "https://plot.ly"
       },
       "data": [
        {
         "name": "[N_matrix: 499]",
         "type": "scatter",
         "x": [
          2,
          3,
          4,
          5,
          6,
          7,
          8,
          9,
          10,
          11,
          12,
          13,
          14,
          15,
          16,
          17,
          18,
          19,
          20,
          21,
          22,
          23,
          24,
          25,
          26,
          27,
          28,
          29,
          30,
          31,
          32,
          33,
          34,
          35,
          36,
          37,
          38,
          39,
          40,
          41,
          42,
          43,
          44,
          45,
          46,
          47,
          48,
          49,
          50,
          51,
          52,
          53,
          54,
          55,
          56,
          57,
          58,
          59,
          60,
          61,
          62,
          63,
          64,
          65,
          66,
          67,
          68,
          69,
          70,
          71,
          72,
          73,
          74,
          75,
          76,
          77,
          78,
          79,
          80,
          81,
          82,
          83,
          84,
          85,
          86,
          87,
          88,
          89,
          90,
          91,
          92,
          93,
          94,
          95,
          96,
          97,
          98,
          99,
          100,
          101,
          102,
          103,
          104,
          105,
          106,
          107,
          108,
          109,
          110,
          111,
          112,
          113,
          114,
          115,
          116,
          117,
          118,
          119,
          120,
          121,
          122,
          123,
          124,
          125,
          126,
          127,
          128,
          129,
          130,
          131,
          132,
          133,
          134,
          135,
          136,
          137,
          138,
          139,
          140,
          141,
          142,
          143,
          144,
          145,
          146,
          147,
          148,
          149,
          150,
          151,
          152,
          153,
          154,
          155,
          156,
          157,
          158,
          159,
          160,
          161,
          162,
          163,
          164,
          165,
          166,
          167,
          168,
          169,
          170,
          171,
          172,
          173,
          174,
          175,
          176,
          177,
          178,
          179,
          180,
          181,
          182,
          183,
          184,
          185,
          186,
          187,
          188,
          189,
          190,
          191,
          192,
          193,
          194,
          195,
          196,
          197,
          198,
          199,
          200,
          201,
          202,
          203,
          204,
          205,
          206,
          207,
          208,
          209,
          210,
          211,
          212,
          213,
          214,
          215,
          216,
          217,
          218,
          219,
          220,
          221,
          222,
          223,
          224,
          225,
          226,
          227,
          228,
          229,
          230,
          231,
          232,
          233,
          234,
          235,
          236,
          237,
          238,
          239,
          240,
          241,
          242,
          243,
          244,
          245,
          246,
          247,
          248,
          249,
          250,
          251,
          252,
          253,
          254,
          255,
          256,
          257,
          258,
          259,
          260,
          261,
          262,
          263,
          264,
          265,
          266,
          267,
          268,
          269,
          270,
          271,
          272,
          273,
          274,
          275,
          276,
          277,
          278,
          279,
          280,
          281,
          282,
          283,
          284,
          285,
          286,
          287,
          288,
          289,
          290,
          291,
          292,
          293,
          294,
          295,
          296,
          297,
          298,
          299,
          300,
          301,
          302,
          303,
          304,
          305,
          306,
          307,
          308,
          309,
          310,
          311,
          312,
          313,
          314,
          315,
          316,
          317,
          318,
          319,
          320,
          321,
          322,
          323,
          324,
          325,
          326,
          327,
          328,
          329,
          330,
          331,
          332,
          333,
          334,
          335,
          336,
          337,
          338,
          339,
          340,
          341,
          342,
          343,
          344,
          345,
          346,
          347,
          348,
          349,
          350,
          351,
          352,
          353,
          354,
          355,
          356,
          357,
          358,
          359,
          360,
          361,
          362,
          363,
          364,
          365,
          366,
          367,
          368,
          369,
          370,
          371,
          372,
          373,
          374,
          375,
          376,
          377,
          378,
          379,
          380,
          381,
          382,
          383,
          384,
          385,
          386,
          387,
          388,
          389,
          390,
          391,
          392,
          393,
          394,
          395,
          396,
          397,
          398,
          399,
          400,
          401,
          402,
          403,
          404,
          405,
          406,
          407,
          408,
          409,
          410,
          411,
          412,
          413,
          414,
          415,
          416,
          417,
          418,
          419,
          420,
          421,
          422,
          423,
          424,
          425,
          426,
          427,
          428,
          429,
          430,
          431,
          432,
          433,
          434,
          435,
          436,
          437,
          438,
          439,
          440,
          441,
          442,
          443,
          444,
          445,
          446,
          447,
          448,
          449,
          450,
          451,
          452,
          453,
          454,
          455,
          456,
          457,
          458,
          459,
          460,
          461,
          462,
          463,
          464,
          465,
          466,
          467,
          468,
          469,
          470,
          471,
          472,
          473,
          474,
          475,
          476,
          477,
          478,
          479,
          480,
          481,
          482,
          483,
          484,
          485,
          486,
          487,
          488,
          489,
          490,
          491,
          492,
          493,
          494,
          495,
          496,
          497,
          498,
          499
         ],
         "y": [
          1.0000000000000009,
          1.6676587169518093,
          2.4109751160670925,
          3.1987573880239495,
          4.01628604935118,
          4.8553313211250035,
          5.7107795319083685,
          6.579213874671389,
          7.458226564517787,
          8.346050324025938,
          9.241345536147463,
          10.143069880574231,
          11.050394634784958,
          11.962648811565337,
          12.87928064475225,
          13.799830292407663,
          14.723910024926269,
          15.651189545092876,
          16.581384911269417,
          17.51425004375492,
          18.449570117767088,
          19.387156357366713,
          20.32684188531232,
          21.26847837960817,
          22.21193335394328,
          23.157087926070886,
          24.10383497174189,
          25.052077586171336,
          26.00172779295997,
          26.952705453734012,
          27.904937341820883,
          28.858356350919493,
          29.812900815592812,
          30.76851392494514,
          31.725143214413166,
          32.68274012336873,
          33.641259608467564,
          34.6006598044318,
          35.56090172537897,
          36.521949000956866,
          37.4837676424786,
          38.44632583501195,
          39.40959375200541,
          40.37354338955345,
          41.33814841782747,
          42.30338404756091,
          43.26922690977656,
          44.23565494719341,
          45.20264731596238,
          46.170184296567015,
          47.13824721286382,
          48.10681835838545,
          49.07588092912141,
          50.045418962110546,
          51.01541727922944,
          51.98586143567141,
          52.95673767263233,
          53.92803287380913,
          54.899734525329066,
          55.87183067880113,
          56.844309917190316,
          57.817161323259285,
          58.79037445035044,
          59.763939295292076,
          60.7378462732614,
          61.71208619441208,
          62.68665024214121,
          63.66152995284067,
          64.63671719702549,
          65.61220416171642,
          66.58798333398346,
          67.56404748555806,
          68.5403896584283,
          69.51700315134477,
          70.49388150716896,
          71.47101850099548,
          72.4484081290012,
          73.42604459795925,
          74.40392231537152,
          75.38203588018698,
          76.36038007404458,
          77.33894985302675,
          78.31774033986804,
          79.29674681660691,
          80.27596471763488,
          81.25538962313163,
          82.23501725284177,
          83.214843460199,
          84.19486422674737,
          85.17507565685361,
          86.15547397270024,
          87.13605550952403,
          88.11681671110236,
          89.09775412545977,
          90.07886440078738,
          91.06014428156354,
          92.04159060486143,
          93.0232002968315,
          94.00497036935356,
          94.98689791684444,
          95.96898011321454,
          96.95121420896484,
          97.93359752841377,
          98.91612746705633,
          99.89880148903097,
          100.88161712470631,
          101.864571968375,
          102.84766367603979,
          103.8308899633069,
          104.8142486033561,
          105.79773742500876,
          106.78135431086721,
          107.76509719554235,
          108.74896406394294,
          109.73295294964527,
          110.71706193331937,
          111.70128914122574,
          112.68563274377158,
          113.67009095412055,
          114.65466202685812,
          115.63934425671071,
          116.62413597731594,
          117.60903556003063,
          118.59404141279927,
          119.57915197905157,
          120.56436573665025,
          121.54968119686697,
          122.53509690341633,
          123.52061143149763,
          124.50622338689908,
          125.49193140510928,
          126.477734150484,
          127.46363031542464,
          128.4496186195899,
          129.43569780914444,
          130.42186665601923,
          131.40812395721167,
          132.3944685340983,
          133.38089923177273,
          134.36741491841573,
          135.35401448467312,
          136.34069684306505,
          137.3274609274035,
          138.31430569224648,
          139.30123011234747,
          140.28823318214233,
          141.27531391524224,
          142.26247134394697,
          143.2497045187696,
          144.23701250798243,
          145.2243943971697,
          146.21184928880064,
          147.19937630181374,
          148.18697457120948,
          149.1746432476673,
          150.16238149715662,
          151.1501885005755,
          152.13806345339137,
          153.1260055652981,
          154.11401405987687,
          155.10208817427016,
          156.09022715887033,
          157.07843027700446,
          158.06669680464404,
          159.05502603011325,
          160.04341725380343,
          161.03186978790453,
          162.02038295613363,
          41.20736508627483,
          38.1744863394981,
          38.813008412221265,
          41.53077999841916,
          50.38533904171874,
          37.97971220606246,
          47.856916020874905,
          38.84571687931074,
          40.16880054011771,
          38.39884998764505,
          38.77427381255939,
          39.059086655987244,
          37.718225688765344,
          37.93443504906779,
          38.981745107850216,
          43.28464635209794,
          39.11499381666404,
          37.33498883657825,
          36.97184286133331,
          40.15266715794358,
          36.25038265128308,
          36.15880298814328,
          35.83246522538254,
          34.389735553329245,
          40.174587564269586,
          44.26639332783756,
          38.18758775924085,
          36.790926359348695,
          35.92422629270338,
          37.05696834202045,
          43.81291120115675,
          35.58471052417627,
          41.96829291163212,
          45.87318837524247,
          37.83719714391475,
          36.74777186968148,
          41.334752710915886,
          36.042483303264405,
          46.15005044332956,
          39.8834215179332,
          41.19800761852961,
          41.358542199644,
          41.095013199306266,
          38.909156483768484,
          42.63728659683273,
          41.80656971777698,
          41.9226952702367,
          48.816747512422566,
          45.47468690661033,
          40.849788467465416,
          41.90824279374578,
          42.02413319071488,
          41.31055758300366,
          41.25722555542905,
          45.51361394327651,
          45.2653474021628,
          47.311348110418294,
          41.43451190435547,
          48.4505259168816,
          48.708306214625665,
          46.99243540488123,
          43.87052679612969,
          47.88894588946219,
          48.89388309186906,
          45.461885153762665,
          44.718628566761126,
          46.00989714243872,
          47.201100573397255,
          51.927924107884735,
          43.560017753880594,
          43.79215786134771,
          50.11721798001216,
          44.73738063666974,
          47.663815745730496,
          50.233727490109516,
          42.84219329223074,
          47.750992985040654,
          52.26906380045716,
          45.32385579638579,
          48.4158643393279,
          48.38946625468817,
          46.11780440962029,
          52.261265448988524,
          45.92438910663877,
          46.3340893330589,
          47.69098710244566,
          55.83221519341447,
          46.28008486014389,
          49.995986266815436,
          47.89963516161289,
          51.83843629972418,
          58.66597494420047,
          45.74417683863485,
          44.733621968168066,
          48.53067265807036,
          51.27466628541271,
          48.78524713240047,
          39.78082638335192,
          58.530626215893534,
          51.435851392281265,
          52.09469981135669,
          49.144841024904565,
          50.34358901426113,
          57.322676375842605,
          57.15390991436837,
          64.6723124414226,
          53.39380917335884,
          53.97528296548889,
          63.21487670966799,
          63.96573691165108,
          50.66197838595794,
          49.251575143794966,
          57.22756416797081,
          57.64014207545014,
          53.590270783387666,
          53.34908141303717,
          50.75119398081778,
          57.11331613531574,
          54.82567539342469,
          58.35337535292443,
          50.61327823707994,
          58.81876373009116,
          50.94407749730976,
          51.72605343712242,
          52.50389275875714,
          60.9792953146582,
          62.229272423620515,
          52.86970109970913,
          63.29811018485863,
          60.299438334421794,
          62.19105651602476,
          56.91916893793592,
          61.75398961941664,
          56.733634290984824,
          64.45463498093096,
          55.17854733174977,
          52.72034123896243,
          47.208507625143355,
          63.43194710450874,
          58.45886373890761,
          62.39256016464732,
          64.1692093796386,
          68.74700148802705,
          55.38058349422768,
          56.626887137139875,
          63.5041162507287,
          57.294852049786925,
          65.8280783239258,
          62.27098600629857,
          55.212865945197564,
          61.34128821971731,
          59.73701865957568,
          60.086733952853024,
          62.61113302017583,
          61.59842990987181,
          59.6759062620782,
          73.24695722172582,
          65.63958545966398,
          62.86235610154259,
          66.06737195587345,
          69.45354448382139,
          59.00319118275638,
          61.9671246538735,
          61.964780777193,
          61.64259662134333,
          44.363372080390256,
          67.10804944610736,
          63.36035322214006,
          54.94124397593329,
          56.638981552646385,
          60.275753281964214,
          47.66386271805763,
          66.54868179412391,
          66.76719621511742,
          58.502566872127005,
          50.908187343819094,
          58.78435719847815,
          59.48550540974626,
          69.73397368284205,
          67.2614344952485,
          76.45667779696309,
          64.9326775888176,
          76.87921166516279,
          73.2338227381888,
          65.49814503702711,
          56.14272236620775,
          62.70629562942591,
          70.23313159123947,
          65.81655987867876,
          67.52236248058347,
          60.54891465728822,
          63.89123782417739,
          56.978354237970834,
          58.40039878150391,
          59.44129696903295,
          64.87245742150716,
          63.1170918040561,
          71.84893839342706,
          60.93110196530347,
          63.21286195671472,
          60.97858770415712,
          65.01348835880589,
          63.28118661568661,
          63.98983426497705,
          62.06737243380363,
          67.15151761480286,
          62.69079732157809,
          63.48904641065215,
          55.18168737036784,
          61.320062518939835,
          65.0288179560643,
          58.55546154014732,
          63.95863286749716,
          64.82368300713156,
          61.713491441194165,
          57.19781132421812,
          61.53073014501501,
          72.82036994824365,
          66.9178819535247,
          73.4434423005293,
          59.77070697939197,
          69.57613940111756,
          73.18140085369797,
          66.72021239377436,
          63.09753107769667,
          73.1925243832761,
          69.69729110346384,
          71.29919224274616,
          72.62267888594705,
          63.67167771250329,
          70.54450749520528,
          68.98221320734416,
          56.79669300985404,
          65.81733770055699,
          52.15323055965281,
          50.33034040193819,
          58.72444562208261,
          70.14561733131629,
          68.6377475402108,
          67.84361242306377,
          67.633226867964,
          63.06596235340962,
          65.40506700106936,
          72.70107511140114,
          72.71911732702083,
          77.70407744456585,
          69.77713834133485,
          73.21595604039832,
          74.33050216757795,
          57.410452042582875,
          76.47788328549397,
          82.80356341245424,
          67.9254304206215,
          63.357006102716866,
          69.90255836882025,
          72.35151565246616,
          64.42350063601545,
          66.33506901008977,
          72.68707694695965,
          74.62513337777085,
          76.72113565617359,
          55.05488613504937,
          79.16180026908907,
          79.24945770830122,
          72.019737598327,
          64.94629045655364,
          77.46486923876482,
          77.13483841729777,
          63.72246823639384,
          64.2384910865926,
          60.63779701754643,
          73.43885504936138,
          76.40980073430126,
          61.25808716177525,
          76.66453089928383,
          75.97321329758564,
          66.6959804706282,
          70.94542570914126,
          76.16531343251003,
          71.6969417971414,
          80.73967831036077,
          64.96643673422807,
          69.9687713185638,
          74.82063290098311,
          79.55663782951403,
          69.91953716347024,
          81.11009836410737,
          72.41021137346108,
          76.1556035681024,
          42.90542721490214,
          84.85651053909397,
          67.2646077906784,
          69.47148449690376,
          71.75954895280671,
          66.54783326971011,
          73.37954399766363,
          76.31216511650108,
          70.480425835007,
          60.89870099477986,
          83.57159783789501,
          74.1397993594767,
          73.25146306562777,
          66.9678955342225,
          77.94054557385164,
          59.196551029151394,
          73.52619867709168,
          84.08506513142754,
          63.896859781677854,
          60.643890582850986,
          67.48014095233596,
          64.24888793669365,
          77.22213299261169,
          63.90149742590474,
          96.73798822953972,
          72.78740753712606,
          68.78538557283427,
          63.423715736191454,
          65.44588647958655,
          67.21958689193366,
          49.378822511628364,
          83.61472490166572,
          74.11661908272745,
          73.51518043639075,
          80.92601151154746,
          88.69717208137769,
          63.03668226476428,
          66.2251668637098,
          88.51822319463594,
          71.93250463735036,
          92.83342500857856
         ]
        }
       ],
       "layout": {
        "font": {
         "size": 18
        },
        "legend": {
         "title": {
          "text": "Legend"
         }
        },
        "showlegend": true,
        "template": {
         "data": {
          "bar": [
           {
            "error_x": {
             "color": "#f2f5fa"
            },
            "error_y": {
             "color": "#f2f5fa"
            },
            "marker": {
             "line": {
              "color": "rgb(17,17,17)",
              "width": 0.5
             },
             "pattern": {
              "fillmode": "overlay",
              "size": 10,
              "solidity": 0.2
             }
            },
            "type": "bar"
           }
          ],
          "barpolar": [
           {
            "marker": {
             "line": {
              "color": "rgb(17,17,17)",
              "width": 0.5
             },
             "pattern": {
              "fillmode": "overlay",
              "size": 10,
              "solidity": 0.2
             }
            },
            "type": "barpolar"
           }
          ],
          "carpet": [
           {
            "aaxis": {
             "endlinecolor": "#A2B1C6",
             "gridcolor": "#506784",
             "linecolor": "#506784",
             "minorgridcolor": "#506784",
             "startlinecolor": "#A2B1C6"
            },
            "baxis": {
             "endlinecolor": "#A2B1C6",
             "gridcolor": "#506784",
             "linecolor": "#506784",
             "minorgridcolor": "#506784",
             "startlinecolor": "#A2B1C6"
            },
            "type": "carpet"
           }
          ],
          "choropleth": [
           {
            "colorbar": {
             "outlinewidth": 0,
             "ticks": ""
            },
            "type": "choropleth"
           }
          ],
          "contour": [
           {
            "colorbar": {
             "outlinewidth": 0,
             "ticks": ""
            },
            "colorscale": [
             [
              0,
              "#0d0887"
             ],
             [
              0.1111111111111111,
              "#46039f"
             ],
             [
              0.2222222222222222,
              "#7201a8"
             ],
             [
              0.3333333333333333,
              "#9c179e"
             ],
             [
              0.4444444444444444,
              "#bd3786"
             ],
             [
              0.5555555555555556,
              "#d8576b"
             ],
             [
              0.6666666666666666,
              "#ed7953"
             ],
             [
              0.7777777777777778,
              "#fb9f3a"
             ],
             [
              0.8888888888888888,
              "#fdca26"
             ],
             [
              1,
              "#f0f921"
             ]
            ],
            "type": "contour"
           }
          ],
          "contourcarpet": [
           {
            "colorbar": {
             "outlinewidth": 0,
             "ticks": ""
            },
            "type": "contourcarpet"
           }
          ],
          "heatmap": [
           {
            "colorbar": {
             "outlinewidth": 0,
             "ticks": ""
            },
            "colorscale": [
             [
              0,
              "#0d0887"
             ],
             [
              0.1111111111111111,
              "#46039f"
             ],
             [
              0.2222222222222222,
              "#7201a8"
             ],
             [
              0.3333333333333333,
              "#9c179e"
             ],
             [
              0.4444444444444444,
              "#bd3786"
             ],
             [
              0.5555555555555556,
              "#d8576b"
             ],
             [
              0.6666666666666666,
              "#ed7953"
             ],
             [
              0.7777777777777778,
              "#fb9f3a"
             ],
             [
              0.8888888888888888,
              "#fdca26"
             ],
             [
              1,
              "#f0f921"
             ]
            ],
            "type": "heatmap"
           }
          ],
          "heatmapgl": [
           {
            "colorbar": {
             "outlinewidth": 0,
             "ticks": ""
            },
            "colorscale": [
             [
              0,
              "#0d0887"
             ],
             [
              0.1111111111111111,
              "#46039f"
             ],
             [
              0.2222222222222222,
              "#7201a8"
             ],
             [
              0.3333333333333333,
              "#9c179e"
             ],
             [
              0.4444444444444444,
              "#bd3786"
             ],
             [
              0.5555555555555556,
              "#d8576b"
             ],
             [
              0.6666666666666666,
              "#ed7953"
             ],
             [
              0.7777777777777778,
              "#fb9f3a"
             ],
             [
              0.8888888888888888,
              "#fdca26"
             ],
             [
              1,
              "#f0f921"
             ]
            ],
            "type": "heatmapgl"
           }
          ],
          "histogram": [
           {
            "marker": {
             "pattern": {
              "fillmode": "overlay",
              "size": 10,
              "solidity": 0.2
             }
            },
            "type": "histogram"
           }
          ],
          "histogram2d": [
           {
            "colorbar": {
             "outlinewidth": 0,
             "ticks": ""
            },
            "colorscale": [
             [
              0,
              "#0d0887"
             ],
             [
              0.1111111111111111,
              "#46039f"
             ],
             [
              0.2222222222222222,
              "#7201a8"
             ],
             [
              0.3333333333333333,
              "#9c179e"
             ],
             [
              0.4444444444444444,
              "#bd3786"
             ],
             [
              0.5555555555555556,
              "#d8576b"
             ],
             [
              0.6666666666666666,
              "#ed7953"
             ],
             [
              0.7777777777777778,
              "#fb9f3a"
             ],
             [
              0.8888888888888888,
              "#fdca26"
             ],
             [
              1,
              "#f0f921"
             ]
            ],
            "type": "histogram2d"
           }
          ],
          "histogram2dcontour": [
           {
            "colorbar": {
             "outlinewidth": 0,
             "ticks": ""
            },
            "colorscale": [
             [
              0,
              "#0d0887"
             ],
             [
              0.1111111111111111,
              "#46039f"
             ],
             [
              0.2222222222222222,
              "#7201a8"
             ],
             [
              0.3333333333333333,
              "#9c179e"
             ],
             [
              0.4444444444444444,
              "#bd3786"
             ],
             [
              0.5555555555555556,
              "#d8576b"
             ],
             [
              0.6666666666666666,
              "#ed7953"
             ],
             [
              0.7777777777777778,
              "#fb9f3a"
             ],
             [
              0.8888888888888888,
              "#fdca26"
             ],
             [
              1,
              "#f0f921"
             ]
            ],
            "type": "histogram2dcontour"
           }
          ],
          "mesh3d": [
           {
            "colorbar": {
             "outlinewidth": 0,
             "ticks": ""
            },
            "type": "mesh3d"
           }
          ],
          "parcoords": [
           {
            "line": {
             "colorbar": {
              "outlinewidth": 0,
              "ticks": ""
             }
            },
            "type": "parcoords"
           }
          ],
          "pie": [
           {
            "automargin": true,
            "type": "pie"
           }
          ],
          "scatter": [
           {
            "marker": {
             "line": {
              "color": "#283442"
             }
            },
            "type": "scatter"
           }
          ],
          "scatter3d": [
           {
            "line": {
             "colorbar": {
              "outlinewidth": 0,
              "ticks": ""
             }
            },
            "marker": {
             "colorbar": {
              "outlinewidth": 0,
              "ticks": ""
             }
            },
            "type": "scatter3d"
           }
          ],
          "scattercarpet": [
           {
            "marker": {
             "colorbar": {
              "outlinewidth": 0,
              "ticks": ""
             }
            },
            "type": "scattercarpet"
           }
          ],
          "scattergeo": [
           {
            "marker": {
             "colorbar": {
              "outlinewidth": 0,
              "ticks": ""
             }
            },
            "type": "scattergeo"
           }
          ],
          "scattergl": [
           {
            "marker": {
             "line": {
              "color": "#283442"
             }
            },
            "type": "scattergl"
           }
          ],
          "scattermapbox": [
           {
            "marker": {
             "colorbar": {
              "outlinewidth": 0,
              "ticks": ""
             }
            },
            "type": "scattermapbox"
           }
          ],
          "scatterpolar": [
           {
            "marker": {
             "colorbar": {
              "outlinewidth": 0,
              "ticks": ""
             }
            },
            "type": "scatterpolar"
           }
          ],
          "scatterpolargl": [
           {
            "marker": {
             "colorbar": {
              "outlinewidth": 0,
              "ticks": ""
             }
            },
            "type": "scatterpolargl"
           }
          ],
          "scatterternary": [
           {
            "marker": {
             "colorbar": {
              "outlinewidth": 0,
              "ticks": ""
             }
            },
            "type": "scatterternary"
           }
          ],
          "surface": [
           {
            "colorbar": {
             "outlinewidth": 0,
             "ticks": ""
            },
            "colorscale": [
             [
              0,
              "#0d0887"
             ],
             [
              0.1111111111111111,
              "#46039f"
             ],
             [
              0.2222222222222222,
              "#7201a8"
             ],
             [
              0.3333333333333333,
              "#9c179e"
             ],
             [
              0.4444444444444444,
              "#bd3786"
             ],
             [
              0.5555555555555556,
              "#d8576b"
             ],
             [
              0.6666666666666666,
              "#ed7953"
             ],
             [
              0.7777777777777778,
              "#fb9f3a"
             ],
             [
              0.8888888888888888,
              "#fdca26"
             ],
             [
              1,
              "#f0f921"
             ]
            ],
            "type": "surface"
           }
          ],
          "table": [
           {
            "cells": {
             "fill": {
              "color": "#506784"
             },
             "line": {
              "color": "rgb(17,17,17)"
             }
            },
            "header": {
             "fill": {
              "color": "#2a3f5f"
             },
             "line": {
              "color": "rgb(17,17,17)"
             }
            },
            "type": "table"
           }
          ]
         },
         "layout": {
          "annotationdefaults": {
           "arrowcolor": "#f2f5fa",
           "arrowhead": 0,
           "arrowwidth": 1
          },
          "autotypenumbers": "strict",
          "coloraxis": {
           "colorbar": {
            "outlinewidth": 0,
            "ticks": ""
           }
          },
          "colorscale": {
           "diverging": [
            [
             0,
             "#8e0152"
            ],
            [
             0.1,
             "#c51b7d"
            ],
            [
             0.2,
             "#de77ae"
            ],
            [
             0.3,
             "#f1b6da"
            ],
            [
             0.4,
             "#fde0ef"
            ],
            [
             0.5,
             "#f7f7f7"
            ],
            [
             0.6,
             "#e6f5d0"
            ],
            [
             0.7,
             "#b8e186"
            ],
            [
             0.8,
             "#7fbc41"
            ],
            [
             0.9,
             "#4d9221"
            ],
            [
             1,
             "#276419"
            ]
           ],
           "sequential": [
            [
             0,
             "#0d0887"
            ],
            [
             0.1111111111111111,
             "#46039f"
            ],
            [
             0.2222222222222222,
             "#7201a8"
            ],
            [
             0.3333333333333333,
             "#9c179e"
            ],
            [
             0.4444444444444444,
             "#bd3786"
            ],
            [
             0.5555555555555556,
             "#d8576b"
            ],
            [
             0.6666666666666666,
             "#ed7953"
            ],
            [
             0.7777777777777778,
             "#fb9f3a"
            ],
            [
             0.8888888888888888,
             "#fdca26"
            ],
            [
             1,
             "#f0f921"
            ]
           ],
           "sequentialminus": [
            [
             0,
             "#0d0887"
            ],
            [
             0.1111111111111111,
             "#46039f"
            ],
            [
             0.2222222222222222,
             "#7201a8"
            ],
            [
             0.3333333333333333,
             "#9c179e"
            ],
            [
             0.4444444444444444,
             "#bd3786"
            ],
            [
             0.5555555555555556,
             "#d8576b"
            ],
            [
             0.6666666666666666,
             "#ed7953"
            ],
            [
             0.7777777777777778,
             "#fb9f3a"
            ],
            [
             0.8888888888888888,
             "#fdca26"
            ],
            [
             1,
             "#f0f921"
            ]
           ]
          },
          "colorway": [
           "#636efa",
           "#EF553B",
           "#00cc96",
           "#ab63fa",
           "#FFA15A",
           "#19d3f3",
           "#FF6692",
           "#B6E880",
           "#FF97FF",
           "#FECB52"
          ],
          "font": {
           "color": "#f2f5fa"
          },
          "geo": {
           "bgcolor": "rgb(17,17,17)",
           "lakecolor": "rgb(17,17,17)",
           "landcolor": "rgb(17,17,17)",
           "showlakes": true,
           "showland": true,
           "subunitcolor": "#506784"
          },
          "hoverlabel": {
           "align": "left"
          },
          "hovermode": "closest",
          "mapbox": {
           "style": "dark"
          },
          "paper_bgcolor": "rgb(17,17,17)",
          "plot_bgcolor": "rgb(17,17,17)",
          "polar": {
           "angularaxis": {
            "gridcolor": "#506784",
            "linecolor": "#506784",
            "ticks": ""
           },
           "bgcolor": "rgb(17,17,17)",
           "radialaxis": {
            "gridcolor": "#506784",
            "linecolor": "#506784",
            "ticks": ""
           }
          },
          "scene": {
           "xaxis": {
            "backgroundcolor": "rgb(17,17,17)",
            "gridcolor": "#506784",
            "gridwidth": 2,
            "linecolor": "#506784",
            "showbackground": true,
            "ticks": "",
            "zerolinecolor": "#C8D4E3"
           },
           "yaxis": {
            "backgroundcolor": "rgb(17,17,17)",
            "gridcolor": "#506784",
            "gridwidth": 2,
            "linecolor": "#506784",
            "showbackground": true,
            "ticks": "",
            "zerolinecolor": "#C8D4E3"
           },
           "zaxis": {
            "backgroundcolor": "rgb(17,17,17)",
            "gridcolor": "#506784",
            "gridwidth": 2,
            "linecolor": "#506784",
            "showbackground": true,
            "ticks": "",
            "zerolinecolor": "#C8D4E3"
           }
          },
          "shapedefaults": {
           "line": {
            "color": "#f2f5fa"
           }
          },
          "sliderdefaults": {
           "bgcolor": "#C8D4E3",
           "bordercolor": "rgb(17,17,17)",
           "borderwidth": 1,
           "tickwidth": 0
          },
          "ternary": {
           "aaxis": {
            "gridcolor": "#506784",
            "linecolor": "#506784",
            "ticks": ""
           },
           "baxis": {
            "gridcolor": "#506784",
            "linecolor": "#506784",
            "ticks": ""
           },
           "bgcolor": "rgb(17,17,17)",
           "caxis": {
            "gridcolor": "#506784",
            "linecolor": "#506784",
            "ticks": ""
           }
          },
          "title": {
           "x": 0.05
          },
          "updatemenudefaults": {
           "bgcolor": "#506784",
           "borderwidth": 0
          },
          "xaxis": {
           "automargin": true,
           "gridcolor": "#283442",
           "linecolor": "#506784",
           "ticks": "",
           "title": {
            "standoff": 15
           },
           "zerolinecolor": "#283442",
           "zerolinewidth": 2
          },
          "yaxis": {
           "automargin": true,
           "gridcolor": "#283442",
           "linecolor": "#506784",
           "ticks": "",
           "title": {
            "standoff": 15
           },
           "zerolinecolor": "#283442",
           "zerolinewidth": 2
          }
         }
        },
        "title": {
         "text": "real part [mass: 1]"
        },
        "xaxis": {
         "title": {
          "text": "N_matrix"
         }
        },
        "yaxis": {
         "title": {
          "text": "real"
         }
        }
       }
      }
     },
     "metadata": {},
     "output_type": "display_data"
    },
    {
     "data": {
      "application/vnd.plotly.v1+json": {
       "config": {
        "plotlyServerURL": "https://plot.ly"
       },
       "data": [
        {
         "name": "[N_matrix: 499]",
         "type": "scatter",
         "x": [
          2,
          3,
          4,
          5,
          6,
          7,
          8,
          9,
          10,
          11,
          12,
          13,
          14,
          15,
          16,
          17,
          18,
          19,
          20,
          21,
          22,
          23,
          24,
          25,
          26,
          27,
          28,
          29,
          30,
          31,
          32,
          33,
          34,
          35,
          36,
          37,
          38,
          39,
          40,
          41,
          42,
          43,
          44,
          45,
          46,
          47,
          48,
          49,
          50,
          51,
          52,
          53,
          54,
          55,
          56,
          57,
          58,
          59,
          60,
          61,
          62,
          63,
          64,
          65,
          66,
          67,
          68,
          69,
          70,
          71,
          72,
          73,
          74,
          75,
          76,
          77,
          78,
          79,
          80,
          81,
          82,
          83,
          84,
          85,
          86,
          87,
          88,
          89,
          90,
          91,
          92,
          93,
          94,
          95,
          96,
          97,
          98,
          99,
          100,
          101,
          102,
          103,
          104,
          105,
          106,
          107,
          108,
          109,
          110,
          111,
          112,
          113,
          114,
          115,
          116,
          117,
          118,
          119,
          120,
          121,
          122,
          123,
          124,
          125,
          126,
          127,
          128,
          129,
          130,
          131,
          132,
          133,
          134,
          135,
          136,
          137,
          138,
          139,
          140,
          141,
          142,
          143,
          144,
          145,
          146,
          147,
          148,
          149,
          150,
          151,
          152,
          153,
          154,
          155,
          156,
          157,
          158,
          159,
          160,
          161,
          162,
          163,
          164,
          165,
          166,
          167,
          168,
          169,
          170,
          171,
          172,
          173,
          174,
          175,
          176,
          177,
          178,
          179,
          180,
          181,
          182,
          183,
          184,
          185,
          186,
          187,
          188,
          189,
          190,
          191,
          192,
          193,
          194,
          195,
          196,
          197,
          198,
          199,
          200,
          201,
          202,
          203,
          204,
          205,
          206,
          207,
          208,
          209,
          210,
          211,
          212,
          213,
          214,
          215,
          216,
          217,
          218,
          219,
          220,
          221,
          222,
          223,
          224,
          225,
          226,
          227,
          228,
          229,
          230,
          231,
          232,
          233,
          234,
          235,
          236,
          237,
          238,
          239,
          240,
          241,
          242,
          243,
          244,
          245,
          246,
          247,
          248,
          249,
          250,
          251,
          252,
          253,
          254,
          255,
          256,
          257,
          258,
          259,
          260,
          261,
          262,
          263,
          264,
          265,
          266,
          267,
          268,
          269,
          270,
          271,
          272,
          273,
          274,
          275,
          276,
          277,
          278,
          279,
          280,
          281,
          282,
          283,
          284,
          285,
          286,
          287,
          288,
          289,
          290,
          291,
          292,
          293,
          294,
          295,
          296,
          297,
          298,
          299,
          300,
          301,
          302,
          303,
          304,
          305,
          306,
          307,
          308,
          309,
          310,
          311,
          312,
          313,
          314,
          315,
          316,
          317,
          318,
          319,
          320,
          321,
          322,
          323,
          324,
          325,
          326,
          327,
          328,
          329,
          330,
          331,
          332,
          333,
          334,
          335,
          336,
          337,
          338,
          339,
          340,
          341,
          342,
          343,
          344,
          345,
          346,
          347,
          348,
          349,
          350,
          351,
          352,
          353,
          354,
          355,
          356,
          357,
          358,
          359,
          360,
          361,
          362,
          363,
          364,
          365,
          366,
          367,
          368,
          369,
          370,
          371,
          372,
          373,
          374,
          375,
          376,
          377,
          378,
          379,
          380,
          381,
          382,
          383,
          384,
          385,
          386,
          387,
          388,
          389,
          390,
          391,
          392,
          393,
          394,
          395,
          396,
          397,
          398,
          399,
          400,
          401,
          402,
          403,
          404,
          405,
          406,
          407,
          408,
          409,
          410,
          411,
          412,
          413,
          414,
          415,
          416,
          417,
          418,
          419,
          420,
          421,
          422,
          423,
          424,
          425,
          426,
          427,
          428,
          429,
          430,
          431,
          432,
          433,
          434,
          435,
          436,
          437,
          438,
          439,
          440,
          441,
          442,
          443,
          444,
          445,
          446,
          447,
          448,
          449,
          450,
          451,
          452,
          453,
          454,
          455,
          456,
          457,
          458,
          459,
          460,
          461,
          462,
          463,
          464,
          465,
          466,
          467,
          468,
          469,
          470,
          471,
          472,
          473,
          474,
          475,
          476,
          477,
          478,
          479,
          480,
          481,
          482,
          483,
          484,
          485,
          486,
          487,
          488,
          489,
          490,
          491,
          492,
          493,
          494,
          495,
          496,
          497,
          498,
          499
         ],
         "y": [
          7.053367989832942,
          12.21000935036947,
          16.44933943238888,
          20.124487003596116,
          23.40911043918558,
          26.403407864677547,
          29.171247194938264,
          31.75622779886276,
          34.18964619330964,
          36.494848562159035,
          38.68978834951024,
          40.78861687603624,
          42.802718735173386,
          44.74141153058665,
          46.61243385859745,
          48.42229482659652,
          50.17653021836852,
          51.879894034123794,
          53.53650424790481,
          55.14995546490767,
          56.72340721210882,
          58.259653999524815,
          59.761181544257376,
          61.230212352508744,
          62.66874301876262,
          64.07857500777055,
          65.46134025720359,
          66.81852262624193,
          68.15147598408774,
          69.46143955923105,
          70.74955103926625,
          72.01685781092291,
          73.26432665270738,
          74.4928521324335,
          75.70326391476813,
          76.89633314661864,
          78.07277805852729,
          79.2332688964299,
          80.37843227896728,
          81.50885505994572,
          82.62508776286084,
          83.7276476439567,
          84.81702143171285,
          85.89366778351346,
          86.95801949434802,
          88.01048548741139,
          89.05145261233426,
          90.08128727325592,
          91.10033690598203,
          92.10893132096838,
          93.10738392670041,
          94.09599284622493,
          95.07504193801009,
          96.04480173094196,
          97.00553028212308,
          97.95747396510765,
          98.90086819533492,
          99.83593809876663,
          100.76289912906279,
          101.68195763804495,
          102.59331140369876,
          103.49715011950248,
          104.39365584849104,
          105.28300344510185,
          106.16536094756184,
          107.04088994326982,
          107.90974590942567,
          108.77207853091697,
          109.62803199728553,
          110.47774528043657,
          111.32135239459052,
          112.15898263983985,
          112.99076083056883,
          113.81680750985059,
          114.6372391508743,
          -115.45216834633842,
          -116.26170398667998,
          117.06595142793228,
          -117.86501264993457,
          118.65898640557154,
          -119.44796836164315,
          120.232051231943,
          121.01132490305545,
          121.78587655335868,
          -122.55579076566897,
          -123.3211496339513,
          -124.08203286444682,
          124.83851787160008,
          -125.59067986908946,
          126.3385919562637,
          -127.08232520027474,
          -127.82194871415422,
          128.55752973108514,
          129.28913367508346,
          130.01682422830658,
          -130.7406633951801,
          131.46071156352596,
          -132.17702756285547,
          -132.8896687199974,
          133.59869091219974,
          -134.3041486178419,
          135.00609496490048,
          135.70458177727158,
          -136.39965961907305,
          -137.09137783704392,
          137.77978460110938,
          -138.46492694324564,
          -139.1468507947016,
          -139.82560102167398,
          140.50122145950925,
          141.17375494551243,
          -141.84324335042422,
          142.50972760863363,
          143.1732477471892,
          143.83384291367224,
          144.49155140296762,
          145.1464106830063,
          -145.79845741952028,
          -146.44772749984506,
          147.0942560558271,
          147.7380774858761,
          -148.37922547619496,
          -149.01773302122234,
          -149.65363244333412,
          150.2869554118279,
          150.91773296122807,
          151.54599550892218,
          -152.17177287219863,
          -152.79509428465857,
          -153.4159884120725,
          -154.03448336768605,
          -154.650606726988,
          155.26438554199532,
          155.87584635503134,
          156.48501521206592,
          157.09191767558622,
          157.6965788370611,
          158.29902332898965,
          158.89927533654554,
          -159.49735860886818,
          -160.09329646996687,
          -160.68711182929331,
          -161.27882719196606,
          -161.86846466868792,
          162.4560459853389,
          -163.04159249227868,
          -163.6251251733668,
          -164.20666465469236,
          164.78623121305193,
          165.36384478416608,
          -165.93952497065084,
          166.5132910497428,
          167.08516198081165,
          167.655156412636,
          168.22329269047918,
          168.7895888629452,
          -169.35406268865023,
          -169.91673164269966,
          -170.47761292297298,
          -171.03672345623963,
          171.59407990409466,
          172.1496986687417,
          172.70359589859342,
          173.25578749374364,
          -173.80628911126507,
          174.35511617037943,
          174.9022838574781,
          -175.44780713100778,
          -38.51700050248202,
          33.201931271600834,
          34.56424388064974,
          -38.89067506323044,
          -51.54140483973664,
          -32.60190894830992,
          47.328756037667794,
          -34.67494601965047,
          -35.9724628804221,
          34.57725954530402,
          -34.53560454009391,
          34.882621693184646,
          -33.174491535146466,
          -33.17303153026543,
          -34.83848571021909,
          -41.49054358500018,
          34.50635738149471,
          -30.879262426487976,
          -31.364320689031164,
          -37.01393535339722,
          29.26727998544498,
          29.216839666521174,
          -29.196052691196478,
          25.624961601485907,
          -36.11369817382018,
          -43.39966102514407,
          33.2852084573968,
          -31.073403620667868,
          -28.24778550638208,
          30.33605353614562,
          41.82876569683597,
          27.00719223000957,
          -39.67880955751917,
          -46.02345218810516,
          32.63126509066231,
          -31.052369084854682,
          -38.66603575692806,
          28.77225369299588,
          46.102265288244055,
          -36.13820059975786,
          -38.73295851700299,
          38.51703085319965,
          38.35550357630594,
          35.08285180972566,
          -40.731291302664715,
          -39.335810920706486,
          -39.30250412583503,
          49.94575808751267,
          -45.447582788229894,
          37.538054870533784,
          38.59226736423033,
          -40.163508649958196,
          -38.83569508705607,
          38.935624587364615,
          -45.17916297090139,
          -44.8950488930808,
          47.57473764786196,
          38.96934264507581,
          48.37536644323269,
          -48.0228363473329,
          46.60418306338164,
          -42.67839509052064,
          46.97780002848609,
          48.81741419041288,
          43.72644815016315,
          -43.71276312831071,
          46.04969093168583,
          47.50028809319582,
          53.199646390936,
          42.48303262014045,
          -42.40174760203569,
          50.938206572717824,
          43.972453764634125,
          48.09247670391897,
          51.0073052921094,
          41.549221616805326,
          46.87143864440487,
          -53.233867358233994,
          44.55429808874895,
          48.15316922319908,
          48.69694309192557,
          -45.23276084282281,
          53.11773856371006,
          46.16857395585747,
          45.972970487201465,
          -47.18665783648068,
          -58.31612896527388,
          45.24000696844112,
          -51.8591436009792,
          -48.07140203030605,
          52.46964568596758,
          60.78126871489648,
          -45.4987351302194,
          -44.450126451380406,
          -48.850521492337386,
          53.26314085893256,
          48.87263118409782,
          35.36403297974999,
          -60.77611088009827,
          52.93592220499634,
          53.435063167362884,
          -50.24164375496939,
          51.05395322560572,
          59.29037181313382,
          -59.56421325012716,
          -66.9937135296685,
          55.43992488348322,
          54.14489628232092,
          65.76653114925173,
          -66.35433294208168,
          -51.774059311112595,
          -50.23384841081755,
          59.41733428769308,
          59.58550856316709,
          -54.94220999604999,
          55.46861624868508,
          -51.8025096474223,
          57.87936292945205,
          57.262909938091695,
          60.31933846230416,
          -52.00745066653902,
          -61.423409208795825,
          -50.599566234804804,
          -48.89012588585343,
          -53.770363088310425,
          63.50054917404814,
          65.13255617608732,
          -54.11732638979218,
          65.4890039382971,
          61.32977196525111,
          65.06501208761624,
          58.979987934434305,
          -64.00964214014888,
          -59.30833356293048,
          -66.03215562801705,
          -57.695937439011054,
          -54.72534708199981,
          47.636483093973325,
          -65.35898560956824,
          -61.11519759759419,
          -64.20602687966552,
          -67.1684557877323,
          71.14424810941011,
          -56.970822548186476,
          -58.58882688611331,
          -66.70848926299118,
          -59.75386288474349,
          -68.39305855418468,
          64.22047095582735,
          -56.695260124548135,
          -63.6573724620456,
          62.76081343837437,
          62.503537774594584,
          -65.8256058789799,
          -63.62212105724269,
          -62.65353425965332,
          74.34349115887558,
          67.73198850331062,
          -65.70929513890927,
          69.04934123445344,
          72.05922836462771,
          -61.95785056021525,
          -64.54864869648107,
          65.09157282491917,
          63.8153780230625,
          43.74733915771206,
          70.12561025550627,
          -66.16771090659938,
          -56.67507532852999,
          -58.97553033245323,
          63.32357974974317,
          47.80152615684039,
          69.94781659169884,
          -69.70027334034982,
          -61.28501672243166,
          -51.573701492514374,
          61.78149079784994,
          -60.57114575171144,
          -71.77768377533927,
          69.70492535488532,
          77.66619767318602,
          -67.91330710824978,
          78.55240811192904,
          76.0166559307821,
          67.65364529919063,
          58.12171941310356,
          -66.24670179770571,
          -72.51930725015094,
          -66.9813296971941,
          -69.46277043570423,
          63.28859175013986,
          -66.33367447548532,
          -59.300414008184056,
          60.84284060787914,
          -62.2848408049427,
          -67.07568382000863,
          65.83842705667877,
          -73.87591463821222,
          63.662424259124116,
          -66.31964268868775,
          -63.70712444445377,
          -66.95578629337784,
          -65.90669830331113,
          66.33166135526199,
          64.49010755313981,
          69.9597876279373,
          65.14318561513525,
          -66.1593325597293,
          57.16367533636064,
          -63.97463985534448,
          67.63221919960932,
          61.008443831149414,
          -67.0824819111716,
          -67.1494479068564,
          63.38266624907321,
          59.11301193703022,
          -64.54998421150233,
          75.06350439267102,
          70.20413144448698,
          -72.31888471979356,
          -62.048586640013035,
          72.3686732157115,
          -74.72175456260219,
          70.26574383730811,
          -65.93016895363093,
          -75.9861076634043,
          -72.1427758075493,
          -73.31459491865945,
          74.6129255402513,
          -66.26870455513995,
          -73.0674149630069,
          71.97351157260051,
          -56.95329264746367,
          68.43464459576641,
          -53.76912624329763,
          50.25553911115562,
          61.109127291158664,
          -72.06309995149121,
          71.57103135912939,
          70.42564376892084,
          -70.5083507761557,
          65.91111836682224,
          67.32207318426752,
          -73.54163100521961,
          75.19994552680215,
          -79.23957685020103,
          72.43799535211954,
          -75.06951184715284,
          75.90457979120951,
          -59.43300792637282,
          78.02722500348115,
          -81.09969919206941,
          71.16747154895141,
          66.59545581810656,
          72.97112421396255,
          -74.40186273131057,
          -67.17772864119064,
          -69.23601018216078,
          -75.1632133319004,
          77.51255945958582,
          78.33859772122392,
          -57.683850583206386,
          81.14624473727537,
          -80.5149836023486,
          74.08042120720911,
          -66.19156479385536,
          -78.97426079057551,
          -79.05430636994967,
          65.33134602190599,
          66.35600494664132,
          -63.754101880225306,
          75.168881438061,
          -78.52780656799753,
          64.74954804886269,
          -78.84966372289085,
          78.2599396875115,
          -69.28614616142947,
          -72.83976605543494,
          77.86651461747118,
          -74.69045159325837,
          -81.39908815782339,
          67.36090043452755,
          -72.74934861939838,
          -76.6504386695636,
          -81.47497681789092,
          72.50684555674526,
          -82.56450098525829,
          -74.71563622622108,
          77.6564599192733,
          41.69970453049723,
          85.36110231593133,
          69.65128436699304,
          -72.00117699659928,
          73.62660803635681,
          68.86677032990453,
          -74.88987008360753,
          78.3576863000854,
          73.10072851354481,
          -64.36491977560019,
          83.84513338212464,
          76.4312819784172,
          74.93916793332663,
          70.29109499972293,
          80.47283077249274,
          -60.44851768759934,
          75.33680771003854,
          -83.18606965914337,
          66.75068373209416,
          -63.43907078340266,
          -70.28689718825169,
          67.37599493006684,
          79.10814879781947,
          66.65852777716378,
          58.81636318369972,
          74.23006400298046,
          -71.7617569784725,
          66.41142823404226,
          -67.33852460748177,
          69.58407451044863,
          -50.0913682815999,
          -84.09525616282663,
          -76.93801493914174,
          -75.13878158991402,
          -82.80758171817884,
          -88.79816912621074,
          -65.34937274181317,
          -68.98659057475821,
          -88.35793963072949,
          -74.76675813025815,
          92.10494657750242
         ]
        }
       ],
       "layout": {
        "font": {
         "size": 18
        },
        "legend": {
         "title": {
          "text": "Legend"
         }
        },
        "showlegend": true,
        "template": {
         "data": {
          "bar": [
           {
            "error_x": {
             "color": "#f2f5fa"
            },
            "error_y": {
             "color": "#f2f5fa"
            },
            "marker": {
             "line": {
              "color": "rgb(17,17,17)",
              "width": 0.5
             },
             "pattern": {
              "fillmode": "overlay",
              "size": 10,
              "solidity": 0.2
             }
            },
            "type": "bar"
           }
          ],
          "barpolar": [
           {
            "marker": {
             "line": {
              "color": "rgb(17,17,17)",
              "width": 0.5
             },
             "pattern": {
              "fillmode": "overlay",
              "size": 10,
              "solidity": 0.2
             }
            },
            "type": "barpolar"
           }
          ],
          "carpet": [
           {
            "aaxis": {
             "endlinecolor": "#A2B1C6",
             "gridcolor": "#506784",
             "linecolor": "#506784",
             "minorgridcolor": "#506784",
             "startlinecolor": "#A2B1C6"
            },
            "baxis": {
             "endlinecolor": "#A2B1C6",
             "gridcolor": "#506784",
             "linecolor": "#506784",
             "minorgridcolor": "#506784",
             "startlinecolor": "#A2B1C6"
            },
            "type": "carpet"
           }
          ],
          "choropleth": [
           {
            "colorbar": {
             "outlinewidth": 0,
             "ticks": ""
            },
            "type": "choropleth"
           }
          ],
          "contour": [
           {
            "colorbar": {
             "outlinewidth": 0,
             "ticks": ""
            },
            "colorscale": [
             [
              0,
              "#0d0887"
             ],
             [
              0.1111111111111111,
              "#46039f"
             ],
             [
              0.2222222222222222,
              "#7201a8"
             ],
             [
              0.3333333333333333,
              "#9c179e"
             ],
             [
              0.4444444444444444,
              "#bd3786"
             ],
             [
              0.5555555555555556,
              "#d8576b"
             ],
             [
              0.6666666666666666,
              "#ed7953"
             ],
             [
              0.7777777777777778,
              "#fb9f3a"
             ],
             [
              0.8888888888888888,
              "#fdca26"
             ],
             [
              1,
              "#f0f921"
             ]
            ],
            "type": "contour"
           }
          ],
          "contourcarpet": [
           {
            "colorbar": {
             "outlinewidth": 0,
             "ticks": ""
            },
            "type": "contourcarpet"
           }
          ],
          "heatmap": [
           {
            "colorbar": {
             "outlinewidth": 0,
             "ticks": ""
            },
            "colorscale": [
             [
              0,
              "#0d0887"
             ],
             [
              0.1111111111111111,
              "#46039f"
             ],
             [
              0.2222222222222222,
              "#7201a8"
             ],
             [
              0.3333333333333333,
              "#9c179e"
             ],
             [
              0.4444444444444444,
              "#bd3786"
             ],
             [
              0.5555555555555556,
              "#d8576b"
             ],
             [
              0.6666666666666666,
              "#ed7953"
             ],
             [
              0.7777777777777778,
              "#fb9f3a"
             ],
             [
              0.8888888888888888,
              "#fdca26"
             ],
             [
              1,
              "#f0f921"
             ]
            ],
            "type": "heatmap"
           }
          ],
          "heatmapgl": [
           {
            "colorbar": {
             "outlinewidth": 0,
             "ticks": ""
            },
            "colorscale": [
             [
              0,
              "#0d0887"
             ],
             [
              0.1111111111111111,
              "#46039f"
             ],
             [
              0.2222222222222222,
              "#7201a8"
             ],
             [
              0.3333333333333333,
              "#9c179e"
             ],
             [
              0.4444444444444444,
              "#bd3786"
             ],
             [
              0.5555555555555556,
              "#d8576b"
             ],
             [
              0.6666666666666666,
              "#ed7953"
             ],
             [
              0.7777777777777778,
              "#fb9f3a"
             ],
             [
              0.8888888888888888,
              "#fdca26"
             ],
             [
              1,
              "#f0f921"
             ]
            ],
            "type": "heatmapgl"
           }
          ],
          "histogram": [
           {
            "marker": {
             "pattern": {
              "fillmode": "overlay",
              "size": 10,
              "solidity": 0.2
             }
            },
            "type": "histogram"
           }
          ],
          "histogram2d": [
           {
            "colorbar": {
             "outlinewidth": 0,
             "ticks": ""
            },
            "colorscale": [
             [
              0,
              "#0d0887"
             ],
             [
              0.1111111111111111,
              "#46039f"
             ],
             [
              0.2222222222222222,
              "#7201a8"
             ],
             [
              0.3333333333333333,
              "#9c179e"
             ],
             [
              0.4444444444444444,
              "#bd3786"
             ],
             [
              0.5555555555555556,
              "#d8576b"
             ],
             [
              0.6666666666666666,
              "#ed7953"
             ],
             [
              0.7777777777777778,
              "#fb9f3a"
             ],
             [
              0.8888888888888888,
              "#fdca26"
             ],
             [
              1,
              "#f0f921"
             ]
            ],
            "type": "histogram2d"
           }
          ],
          "histogram2dcontour": [
           {
            "colorbar": {
             "outlinewidth": 0,
             "ticks": ""
            },
            "colorscale": [
             [
              0,
              "#0d0887"
             ],
             [
              0.1111111111111111,
              "#46039f"
             ],
             [
              0.2222222222222222,
              "#7201a8"
             ],
             [
              0.3333333333333333,
              "#9c179e"
             ],
             [
              0.4444444444444444,
              "#bd3786"
             ],
             [
              0.5555555555555556,
              "#d8576b"
             ],
             [
              0.6666666666666666,
              "#ed7953"
             ],
             [
              0.7777777777777778,
              "#fb9f3a"
             ],
             [
              0.8888888888888888,
              "#fdca26"
             ],
             [
              1,
              "#f0f921"
             ]
            ],
            "type": "histogram2dcontour"
           }
          ],
          "mesh3d": [
           {
            "colorbar": {
             "outlinewidth": 0,
             "ticks": ""
            },
            "type": "mesh3d"
           }
          ],
          "parcoords": [
           {
            "line": {
             "colorbar": {
              "outlinewidth": 0,
              "ticks": ""
             }
            },
            "type": "parcoords"
           }
          ],
          "pie": [
           {
            "automargin": true,
            "type": "pie"
           }
          ],
          "scatter": [
           {
            "marker": {
             "line": {
              "color": "#283442"
             }
            },
            "type": "scatter"
           }
          ],
          "scatter3d": [
           {
            "line": {
             "colorbar": {
              "outlinewidth": 0,
              "ticks": ""
             }
            },
            "marker": {
             "colorbar": {
              "outlinewidth": 0,
              "ticks": ""
             }
            },
            "type": "scatter3d"
           }
          ],
          "scattercarpet": [
           {
            "marker": {
             "colorbar": {
              "outlinewidth": 0,
              "ticks": ""
             }
            },
            "type": "scattercarpet"
           }
          ],
          "scattergeo": [
           {
            "marker": {
             "colorbar": {
              "outlinewidth": 0,
              "ticks": ""
             }
            },
            "type": "scattergeo"
           }
          ],
          "scattergl": [
           {
            "marker": {
             "line": {
              "color": "#283442"
             }
            },
            "type": "scattergl"
           }
          ],
          "scattermapbox": [
           {
            "marker": {
             "colorbar": {
              "outlinewidth": 0,
              "ticks": ""
             }
            },
            "type": "scattermapbox"
           }
          ],
          "scatterpolar": [
           {
            "marker": {
             "colorbar": {
              "outlinewidth": 0,
              "ticks": ""
             }
            },
            "type": "scatterpolar"
           }
          ],
          "scatterpolargl": [
           {
            "marker": {
             "colorbar": {
              "outlinewidth": 0,
              "ticks": ""
             }
            },
            "type": "scatterpolargl"
           }
          ],
          "scatterternary": [
           {
            "marker": {
             "colorbar": {
              "outlinewidth": 0,
              "ticks": ""
             }
            },
            "type": "scatterternary"
           }
          ],
          "surface": [
           {
            "colorbar": {
             "outlinewidth": 0,
             "ticks": ""
            },
            "colorscale": [
             [
              0,
              "#0d0887"
             ],
             [
              0.1111111111111111,
              "#46039f"
             ],
             [
              0.2222222222222222,
              "#7201a8"
             ],
             [
              0.3333333333333333,
              "#9c179e"
             ],
             [
              0.4444444444444444,
              "#bd3786"
             ],
             [
              0.5555555555555556,
              "#d8576b"
             ],
             [
              0.6666666666666666,
              "#ed7953"
             ],
             [
              0.7777777777777778,
              "#fb9f3a"
             ],
             [
              0.8888888888888888,
              "#fdca26"
             ],
             [
              1,
              "#f0f921"
             ]
            ],
            "type": "surface"
           }
          ],
          "table": [
           {
            "cells": {
             "fill": {
              "color": "#506784"
             },
             "line": {
              "color": "rgb(17,17,17)"
             }
            },
            "header": {
             "fill": {
              "color": "#2a3f5f"
             },
             "line": {
              "color": "rgb(17,17,17)"
             }
            },
            "type": "table"
           }
          ]
         },
         "layout": {
          "annotationdefaults": {
           "arrowcolor": "#f2f5fa",
           "arrowhead": 0,
           "arrowwidth": 1
          },
          "autotypenumbers": "strict",
          "coloraxis": {
           "colorbar": {
            "outlinewidth": 0,
            "ticks": ""
           }
          },
          "colorscale": {
           "diverging": [
            [
             0,
             "#8e0152"
            ],
            [
             0.1,
             "#c51b7d"
            ],
            [
             0.2,
             "#de77ae"
            ],
            [
             0.3,
             "#f1b6da"
            ],
            [
             0.4,
             "#fde0ef"
            ],
            [
             0.5,
             "#f7f7f7"
            ],
            [
             0.6,
             "#e6f5d0"
            ],
            [
             0.7,
             "#b8e186"
            ],
            [
             0.8,
             "#7fbc41"
            ],
            [
             0.9,
             "#4d9221"
            ],
            [
             1,
             "#276419"
            ]
           ],
           "sequential": [
            [
             0,
             "#0d0887"
            ],
            [
             0.1111111111111111,
             "#46039f"
            ],
            [
             0.2222222222222222,
             "#7201a8"
            ],
            [
             0.3333333333333333,
             "#9c179e"
            ],
            [
             0.4444444444444444,
             "#bd3786"
            ],
            [
             0.5555555555555556,
             "#d8576b"
            ],
            [
             0.6666666666666666,
             "#ed7953"
            ],
            [
             0.7777777777777778,
             "#fb9f3a"
            ],
            [
             0.8888888888888888,
             "#fdca26"
            ],
            [
             1,
             "#f0f921"
            ]
           ],
           "sequentialminus": [
            [
             0,
             "#0d0887"
            ],
            [
             0.1111111111111111,
             "#46039f"
            ],
            [
             0.2222222222222222,
             "#7201a8"
            ],
            [
             0.3333333333333333,
             "#9c179e"
            ],
            [
             0.4444444444444444,
             "#bd3786"
            ],
            [
             0.5555555555555556,
             "#d8576b"
            ],
            [
             0.6666666666666666,
             "#ed7953"
            ],
            [
             0.7777777777777778,
             "#fb9f3a"
            ],
            [
             0.8888888888888888,
             "#fdca26"
            ],
            [
             1,
             "#f0f921"
            ]
           ]
          },
          "colorway": [
           "#636efa",
           "#EF553B",
           "#00cc96",
           "#ab63fa",
           "#FFA15A",
           "#19d3f3",
           "#FF6692",
           "#B6E880",
           "#FF97FF",
           "#FECB52"
          ],
          "font": {
           "color": "#f2f5fa"
          },
          "geo": {
           "bgcolor": "rgb(17,17,17)",
           "lakecolor": "rgb(17,17,17)",
           "landcolor": "rgb(17,17,17)",
           "showlakes": true,
           "showland": true,
           "subunitcolor": "#506784"
          },
          "hoverlabel": {
           "align": "left"
          },
          "hovermode": "closest",
          "mapbox": {
           "style": "dark"
          },
          "paper_bgcolor": "rgb(17,17,17)",
          "plot_bgcolor": "rgb(17,17,17)",
          "polar": {
           "angularaxis": {
            "gridcolor": "#506784",
            "linecolor": "#506784",
            "ticks": ""
           },
           "bgcolor": "rgb(17,17,17)",
           "radialaxis": {
            "gridcolor": "#506784",
            "linecolor": "#506784",
            "ticks": ""
           }
          },
          "scene": {
           "xaxis": {
            "backgroundcolor": "rgb(17,17,17)",
            "gridcolor": "#506784",
            "gridwidth": 2,
            "linecolor": "#506784",
            "showbackground": true,
            "ticks": "",
            "zerolinecolor": "#C8D4E3"
           },
           "yaxis": {
            "backgroundcolor": "rgb(17,17,17)",
            "gridcolor": "#506784",
            "gridwidth": 2,
            "linecolor": "#506784",
            "showbackground": true,
            "ticks": "",
            "zerolinecolor": "#C8D4E3"
           },
           "zaxis": {
            "backgroundcolor": "rgb(17,17,17)",
            "gridcolor": "#506784",
            "gridwidth": 2,
            "linecolor": "#506784",
            "showbackground": true,
            "ticks": "",
            "zerolinecolor": "#C8D4E3"
           }
          },
          "shapedefaults": {
           "line": {
            "color": "#f2f5fa"
           }
          },
          "sliderdefaults": {
           "bgcolor": "#C8D4E3",
           "bordercolor": "rgb(17,17,17)",
           "borderwidth": 1,
           "tickwidth": 0
          },
          "ternary": {
           "aaxis": {
            "gridcolor": "#506784",
            "linecolor": "#506784",
            "ticks": ""
           },
           "baxis": {
            "gridcolor": "#506784",
            "linecolor": "#506784",
            "ticks": ""
           },
           "bgcolor": "rgb(17,17,17)",
           "caxis": {
            "gridcolor": "#506784",
            "linecolor": "#506784",
            "ticks": ""
           }
          },
          "title": {
           "x": 0.05
          },
          "updatemenudefaults": {
           "bgcolor": "#506784",
           "borderwidth": 0
          },
          "xaxis": {
           "automargin": true,
           "gridcolor": "#283442",
           "linecolor": "#506784",
           "ticks": "",
           "title": {
            "standoff": 15
           },
           "zerolinecolor": "#283442",
           "zerolinewidth": 2
          },
          "yaxis": {
           "automargin": true,
           "gridcolor": "#283442",
           "linecolor": "#506784",
           "ticks": "",
           "title": {
            "standoff": 15
           },
           "zerolinecolor": "#283442",
           "zerolinewidth": 2
          }
         }
        },
        "title": {
         "text": "imag part [mass: 1]"
        },
        "xaxis": {
         "title": {
          "text": "N_matrix"
         }
        },
        "yaxis": {
         "title": {
          "text": "img"
         }
        }
       }
      }
     },
     "metadata": {},
     "output_type": "display_data"
    }
   ],
   "source": [
    "fig_real_1.add_trace(go.Scatter(x= [i for i in range(2,500)],y =result_real_1, name=f\"[N_matrix: {N_matrix}]\"))\n",
    "fig_img_1.add_trace(go.Scatter (x= [i for i in range(2,500)],y =result_img_1 , name=f\"[N_matrix: {N_matrix}]\"))\n",
    "\n",
    "fig_real_1.update_layout(\n",
    "        title=f\"real part [mass: {mass}]\",\n",
    "        xaxis_title=\"N_matrix\",\n",
    "        yaxis_title=\"real\",\n",
    "        legend_title=\"Legend\",\n",
    "        font=dict(\n",
    "            size=18,\n",
    "        )\n",
    ")\n",
    "fig_img_1.update_layout(\n",
    "        title=f\"imag part [mass: {mass}]\",\n",
    "        xaxis_title=\"N_matrix\",\n",
    "        yaxis_title=\"img\",\n",
    "        legend_title=\"Legend\",\n",
    "        font=dict(\n",
    "            size=18,\n",
    "        )\n",
    ")\n",
    "\n",
    "fig_real_1.update_layout(template='plotly_dark',showlegend=True)\n",
    "fig_img_1. update_layout(template='plotly_dark',showlegend=True)\n",
    "fig_real_1.write_image(f\"out\\\\plots_1.png\",scale=6, width=1920, height=1080)\n",
    "fig_img_1.write_image(f\"out\\\\plots_2.png\",scale=6, width=1920, height=1080)\n",
    "\n",
    "fig_real_1.show()\n",
    "fig_img_1.show()"
   ]
  },
  {
   "cell_type": "code",
   "execution_count": 12,
   "metadata": {},
   "outputs": [
    {
     "data": {
      "application/vnd.plotly.v1+json": {
       "config": {
        "plotlyServerURL": "https://plot.ly"
       },
       "data": [
        {
         "name": "IMG part of ground state",
         "type": "scatter",
         "x": [
          -10,
          -9.97997997997998,
          -9.95995995995996,
          -9.93993993993994,
          -9.91991991991992,
          -9.8998998998999,
          -9.87987987987988,
          -9.85985985985986,
          -9.83983983983984,
          -9.81981981981982,
          -9.7997997997998,
          -9.77977977977978,
          -9.75975975975976,
          -9.73973973973974,
          -9.71971971971972,
          -9.6996996996997,
          -9.67967967967968,
          -9.65965965965966,
          -9.63963963963964,
          -9.61961961961962,
          -9.5995995995996,
          -9.57957957957958,
          -9.55955955955956,
          -9.53953953953954,
          -9.51951951951952,
          -9.4994994994995,
          -9.47947947947948,
          -9.45945945945946,
          -9.43943943943944,
          -9.41941941941942,
          -9.3993993993994,
          -9.37937937937938,
          -9.35935935935936,
          -9.33933933933934,
          -9.31931931931932,
          -9.2992992992993,
          -9.27927927927928,
          -9.25925925925926,
          -9.23923923923924,
          -9.21921921921922,
          -9.1991991991992,
          -9.17917917917918,
          -9.15915915915916,
          -9.13913913913914,
          -9.11911911911912,
          -9.0990990990991,
          -9.07907907907908,
          -9.05905905905906,
          -9.03903903903904,
          -9.01901901901902,
          -8.998998998999,
          -8.97897897897898,
          -8.95895895895896,
          -8.93893893893894,
          -8.91891891891892,
          -8.8988988988989,
          -8.87887887887888,
          -8.85885885885886,
          -8.83883883883884,
          -8.81881881881882,
          -8.7987987987988,
          -8.77877877877878,
          -8.75875875875876,
          -8.73873873873874,
          -8.71871871871872,
          -8.6986986986987,
          -8.67867867867868,
          -8.65865865865866,
          -8.63863863863864,
          -8.618618618618619,
          -8.598598598598599,
          -8.578578578578579,
          -8.558558558558559,
          -8.538538538538539,
          -8.518518518518519,
          -8.498498498498499,
          -8.478478478478479,
          -8.458458458458459,
          -8.438438438438439,
          -8.418418418418419,
          -8.398398398398399,
          -8.378378378378379,
          -8.358358358358359,
          -8.338338338338339,
          -8.318318318318319,
          -8.298298298298299,
          -8.278278278278279,
          -8.258258258258259,
          -8.238238238238239,
          -8.218218218218219,
          -8.198198198198199,
          -8.178178178178179,
          -8.158158158158159,
          -8.138138138138139,
          -8.118118118118119,
          -8.098098098098099,
          -8.078078078078079,
          -8.058058058058059,
          -8.038038038038039,
          -8.018018018018019,
          -7.997997997997998,
          -7.977977977977978,
          -7.957957957957958,
          -7.937937937937938,
          -7.917917917917918,
          -7.897897897897898,
          -7.877877877877878,
          -7.857857857857858,
          -7.837837837837838,
          -7.817817817817818,
          -7.797797797797798,
          -7.777777777777778,
          -7.757757757757758,
          -7.737737737737738,
          -7.717717717717718,
          -7.697697697697698,
          -7.677677677677678,
          -7.657657657657658,
          -7.637637637637638,
          -7.617617617617618,
          -7.597597597597598,
          -7.5775775775775776,
          -7.5575575575575575,
          -7.5375375375375375,
          -7.5175175175175175,
          -7.4974974974974975,
          -7.4774774774774775,
          -7.4574574574574575,
          -7.4374374374374375,
          -7.4174174174174174,
          -7.397397397397397,
          -7.377377377377377,
          -7.357357357357357,
          -7.337337337337337,
          -7.317317317317317,
          -7.297297297297297,
          -7.277277277277277,
          -7.257257257257257,
          -7.237237237237237,
          -7.217217217217217,
          -7.197197197197197,
          -7.177177177177177,
          -7.157157157157157,
          -7.137137137137137,
          -7.117117117117117,
          -7.097097097097097,
          -7.077077077077077,
          -7.057057057057057,
          -7.037037037037037,
          -7.017017017017017,
          -6.996996996996997,
          -6.976976976976977,
          -6.956956956956957,
          -6.936936936936937,
          -6.916916916916917,
          -6.896896896896897,
          -6.876876876876877,
          -6.856856856856857,
          -6.836836836836837,
          -6.816816816816817,
          -6.796796796796797,
          -6.776776776776776,
          -6.756756756756756,
          -6.736736736736736,
          -6.716716716716716,
          -6.696696696696696,
          -6.676676676676676,
          -6.656656656656656,
          -6.636636636636636,
          -6.616616616616616,
          -6.596596596596596,
          -6.576576576576576,
          -6.556556556556556,
          -6.536536536536536,
          -6.516516516516516,
          -6.496496496496496,
          -6.476476476476476,
          -6.456456456456456,
          -6.436436436436436,
          -6.416416416416416,
          -6.396396396396396,
          -6.376376376376376,
          -6.356356356356356,
          -6.336336336336336,
          -6.316316316316316,
          -6.296296296296296,
          -6.276276276276276,
          -6.256256256256256,
          -6.236236236236236,
          -6.216216216216216,
          -6.196196196196196,
          -6.176176176176176,
          -6.156156156156156,
          -6.136136136136136,
          -6.116116116116116,
          -6.096096096096096,
          -6.076076076076076,
          -6.056056056056056,
          -6.036036036036036,
          -6.016016016016016,
          -5.995995995995996,
          -5.975975975975976,
          -5.955955955955956,
          -5.935935935935936,
          -5.915915915915916,
          -5.895895895895896,
          -5.875875875875876,
          -5.8558558558558556,
          -5.8358358358358355,
          -5.8158158158158155,
          -5.7957957957957955,
          -5.7757757757757755,
          -5.7557557557557555,
          -5.7357357357357355,
          -5.7157157157157155,
          -5.6956956956956954,
          -5.675675675675675,
          -5.655655655655655,
          -5.635635635635635,
          -5.615615615615615,
          -5.595595595595595,
          -5.575575575575575,
          -5.555555555555555,
          -5.535535535535535,
          -5.515515515515515,
          -5.495495495495495,
          -5.475475475475475,
          -5.455455455455455,
          -5.435435435435435,
          -5.415415415415415,
          -5.395395395395395,
          -5.375375375375375,
          -5.355355355355355,
          -5.335335335335335,
          -5.315315315315315,
          -5.295295295295295,
          -5.275275275275275,
          -5.255255255255255,
          -5.235235235235235,
          -5.215215215215215,
          -5.195195195195195,
          -5.175175175175175,
          -5.155155155155155,
          -5.135135135135135,
          -5.115115115115115,
          -5.095095095095095,
          -5.075075075075075,
          -5.055055055055055,
          -5.035035035035035,
          -5.015015015015015,
          -4.994994994994995,
          -4.974974974974975,
          -4.954954954954955,
          -4.934934934934935,
          -4.914914914914915,
          -4.894894894894895,
          -4.874874874874875,
          -4.854854854854855,
          -4.834834834834835,
          -4.814814814814815,
          -4.794794794794795,
          -4.774774774774775,
          -4.754754754754755,
          -4.734734734734735,
          -4.714714714714715,
          -4.694694694694695,
          -4.674674674674675,
          -4.654654654654655,
          -4.634634634634635,
          -4.614614614614615,
          -4.594594594594595,
          -4.574574574574575,
          -4.554554554554555,
          -4.534534534534535,
          -4.514514514514515,
          -4.494494494494495,
          -4.474474474474475,
          -4.454454454454455,
          -4.434434434434435,
          -4.414414414414415,
          -4.394394394394395,
          -4.374374374374375,
          -4.354354354354355,
          -4.334334334334335,
          -4.314314314314315,
          -4.2942942942942945,
          -4.2742742742742745,
          -4.2542542542542545,
          -4.2342342342342345,
          -4.2142142142142145,
          -4.1941941941941945,
          -4.1741741741741745,
          -4.1541541541541545,
          -4.134134134134134,
          -4.114114114114114,
          -4.094094094094094,
          -4.074074074074074,
          -4.054054054054054,
          -4.034034034034034,
          -4.014014014014014,
          -3.9939939939939944,
          -3.9739739739739743,
          -3.9539539539539543,
          -3.9339339339339343,
          -3.9139139139139143,
          -3.8938938938938943,
          -3.8738738738738743,
          -3.8538538538538543,
          -3.8338338338338342,
          -3.8138138138138142,
          -3.7937937937937942,
          -3.773773773773774,
          -3.753753753753754,
          -3.733733733733734,
          -3.713713713713714,
          -3.693693693693694,
          -3.673673673673674,
          -3.653653653653654,
          -3.633633633633634,
          -3.613613613613614,
          -3.593593593593594,
          -3.573573573573573,
          -3.553553553553553,
          -3.533533533533533,
          -3.513513513513513,
          -3.493493493493493,
          -3.473473473473473,
          -3.453453453453453,
          -3.433433433433433,
          -3.413413413413413,
          -3.393393393393393,
          -3.373373373373373,
          -3.353353353353353,
          -3.333333333333333,
          -3.313313313313313,
          -3.293293293293293,
          -3.273273273273273,
          -3.253253253253253,
          -3.233233233233233,
          -3.213213213213213,
          -3.193193193193193,
          -3.173173173173173,
          -3.153153153153153,
          -3.133133133133133,
          -3.113113113113113,
          -3.093093093093093,
          -3.073073073073073,
          -3.053053053053053,
          -3.033033033033033,
          -3.013013013013013,
          -2.992992992992993,
          -2.972972972972973,
          -2.952952952952953,
          -2.932932932932933,
          -2.9129129129129128,
          -2.8928928928928928,
          -2.8728728728728727,
          -2.8528528528528527,
          -2.8328328328328327,
          -2.8128128128128127,
          -2.7927927927927927,
          -2.7727727727727727,
          -2.7527527527527527,
          -2.7327327327327327,
          -2.7127127127127126,
          -2.6926926926926926,
          -2.6726726726726726,
          -2.6526526526526526,
          -2.6326326326326326,
          -2.6126126126126126,
          -2.5925925925925926,
          -2.5725725725725725,
          -2.5525525525525525,
          -2.5325325325325325,
          -2.5125125125125125,
          -2.4924924924924925,
          -2.4724724724724725,
          -2.4524524524524525,
          -2.4324324324324325,
          -2.4124124124124124,
          -2.3923923923923924,
          -2.3723723723723724,
          -2.3523523523523524,
          -2.3323323323323324,
          -2.3123123123123124,
          -2.2922922922922924,
          -2.2722722722722724,
          -2.2522522522522523,
          -2.2322322322322323,
          -2.2122122122122123,
          -2.1921921921921923,
          -2.1721721721721723,
          -2.1521521521521523,
          -2.1321321321321323,
          -2.1121121121121122,
          -2.0920920920920922,
          -2.0720720720720722,
          -2.052052052052052,
          -2.032032032032032,
          -2.012012012012012,
          -1.9919919919919913,
          -1.9719719719719713,
          -1.9519519519519513,
          -1.9319319319319312,
          -1.9119119119119112,
          -1.8918918918918912,
          -1.8718718718718712,
          -1.8518518518518512,
          -1.8318318318318312,
          -1.8118118118118112,
          -1.7917917917917912,
          -1.7717717717717711,
          -1.7517517517517511,
          -1.7317317317317311,
          -1.711711711711711,
          -1.691691691691691,
          -1.671671671671671,
          -1.651651651651651,
          -1.631631631631631,
          -1.611611611611611,
          -1.591591591591591,
          -1.571571571571571,
          -1.551551551551551,
          -1.531531531531531,
          -1.511511511511511,
          -1.491491491491491,
          -1.471471471471471,
          -1.451451451451451,
          -1.431431431431431,
          -1.411411411411411,
          -1.391391391391391,
          -1.3713713713713709,
          -1.3513513513513509,
          -1.3313313313313309,
          -1.3113113113113108,
          -1.2912912912912908,
          -1.2712712712712708,
          -1.2512512512512508,
          -1.2312312312312308,
          -1.2112112112112108,
          -1.1911911911911908,
          -1.1711711711711708,
          -1.1511511511511507,
          -1.1311311311311307,
          -1.1111111111111107,
          -1.0910910910910907,
          -1.0710710710710707,
          -1.0510510510510507,
          -1.0310310310310307,
          -1.0110110110110107,
          -0.9909909909909906,
          -0.9709709709709706,
          -0.9509509509509506,
          -0.9309309309309306,
          -0.9109109109109106,
          -0.8908908908908906,
          -0.8708708708708706,
          -0.8508508508508505,
          -0.8308308308308305,
          -0.8108108108108105,
          -0.7907907907907905,
          -0.7707707707707705,
          -0.7507507507507505,
          -0.7307307307307305,
          -0.7107107107107105,
          -0.6906906906906904,
          -0.6706706706706704,
          -0.6506506506506504,
          -0.6306306306306304,
          -0.6106106106106104,
          -0.5905905905905904,
          -0.5705705705705704,
          -0.5505505505505504,
          -0.5305305305305303,
          -0.5105105105105103,
          -0.4904904904904903,
          -0.4704704704704703,
          -0.4504504504504503,
          -0.4304304304304303,
          -0.41041041041041026,
          -0.39039039039039025,
          -0.37037037037037024,
          -0.3503503503503502,
          -0.3303303303303302,
          -0.3103103103103102,
          -0.2902902902902902,
          -0.2702702702702702,
          -0.25025025025025016,
          -0.23023023023023015,
          -0.21021021021021014,
          -0.19019019019019012,
          -0.1701701701701701,
          -0.1501501501501501,
          -0.13013013013013008,
          -0.11011011011011007,
          -0.09009009009009006,
          -0.07007007007007005,
          -0.05005005005005003,
          -0.03003003003003002,
          -0.010010010010010006,
          0.010010010010010006,
          0.03003003003003002,
          0.05005005005005003,
          0.07007007007007005,
          0.09009009009009006,
          0.11011011011011007,
          0.13013013013013008,
          0.1501501501501501,
          0.1701701701701701,
          0.19019019019019012,
          0.21021021021021014,
          0.23023023023023015,
          0.25025025025025016,
          0.2702702702702702,
          0.2902902902902902,
          0.3103103103103102,
          0.3303303303303302,
          0.3503503503503502,
          0.37037037037037024,
          0.39039039039039025,
          0.41041041041041026,
          0.4304304304304303,
          0.4504504504504503,
          0.4704704704704703,
          0.4904904904904903,
          0.5105105105105103,
          0.5305305305305303,
          0.5505505505505504,
          0.5705705705705704,
          0.5905905905905904,
          0.6106106106106104,
          0.6306306306306304,
          0.6506506506506504,
          0.6706706706706704,
          0.6906906906906904,
          0.7107107107107105,
          0.7307307307307305,
          0.7507507507507505,
          0.7707707707707705,
          0.7907907907907905,
          0.8108108108108105,
          0.8308308308308305,
          0.8508508508508505,
          0.8708708708708706,
          0.8908908908908906,
          0.9109109109109106,
          0.9309309309309306,
          0.9509509509509506,
          0.9709709709709706,
          0.9909909909909906,
          1.0110110110110107,
          1.0310310310310307,
          1.0510510510510507,
          1.0710710710710707,
          1.0910910910910907,
          1.1111111111111107,
          1.1311311311311307,
          1.1511511511511507,
          1.1711711711711708,
          1.1911911911911908,
          1.2112112112112108,
          1.2312312312312308,
          1.2512512512512508,
          1.2712712712712708,
          1.2912912912912908,
          1.3113113113113108,
          1.3313313313313309,
          1.3513513513513509,
          1.3713713713713709,
          1.391391391391391,
          1.411411411411411,
          1.431431431431431,
          1.451451451451451,
          1.471471471471471,
          1.491491491491491,
          1.511511511511511,
          1.531531531531531,
          1.551551551551551,
          1.571571571571571,
          1.591591591591591,
          1.611611611611611,
          1.631631631631631,
          1.651651651651651,
          1.671671671671671,
          1.691691691691691,
          1.711711711711711,
          1.7317317317317311,
          1.7517517517517511,
          1.7717717717717711,
          1.7917917917917912,
          1.8118118118118112,
          1.8318318318318312,
          1.8518518518518512,
          1.8718718718718712,
          1.8918918918918912,
          1.9119119119119112,
          1.9319319319319312,
          1.9519519519519513,
          1.9719719719719713,
          1.9919919919919913,
          2.0120120120120113,
          2.0320320320320313,
          2.0520520520520513,
          2.0720720720720713,
          2.0920920920920913,
          2.1121121121121114,
          2.1321321321321314,
          2.1521521521521514,
          2.1721721721721714,
          2.1921921921921914,
          2.2122122122122114,
          2.2322322322322314,
          2.2522522522522515,
          2.2722722722722715,
          2.2922922922922915,
          2.3123123123123115,
          2.3323323323323315,
          2.3523523523523515,
          2.3723723723723715,
          2.3923923923923915,
          2.4124124124124116,
          2.4324324324324316,
          2.4524524524524516,
          2.4724724724724716,
          2.4924924924924916,
          2.5125125125125116,
          2.5325325325325316,
          2.5525525525525516,
          2.5725725725725717,
          2.5925925925925917,
          2.6126126126126117,
          2.6326326326326317,
          2.6526526526526517,
          2.6726726726726717,
          2.6926926926926917,
          2.7127127127127117,
          2.7327327327327318,
          2.7527527527527518,
          2.772772772772772,
          2.792792792792792,
          2.812812812812812,
          2.8328328328328336,
          2.8528528528528536,
          2.8728728728728736,
          2.8928928928928936,
          2.9129129129129137,
          2.9329329329329337,
          2.9529529529529537,
          2.9729729729729737,
          2.9929929929929937,
          3.0130130130130137,
          3.0330330330330337,
          3.0530530530530537,
          3.0730730730730738,
          3.0930930930930938,
          3.113113113113114,
          3.133133133133134,
          3.153153153153154,
          3.173173173173174,
          3.193193193193194,
          3.213213213213214,
          3.233233233233234,
          3.253253253253254,
          3.273273273273274,
          3.293293293293294,
          3.313313313313314,
          3.333333333333334,
          3.353353353353354,
          3.373373373373374,
          3.393393393393394,
          3.413413413413414,
          3.433433433433434,
          3.453453453453454,
          3.473473473473474,
          3.493493493493494,
          3.513513513513514,
          3.533533533533534,
          3.553553553553554,
          3.573573573573574,
          3.593593593593594,
          3.613613613613614,
          3.633633633633634,
          3.653653653653654,
          3.673673673673674,
          3.693693693693694,
          3.713713713713714,
          3.733733733733734,
          3.753753753753754,
          3.773773773773774,
          3.7937937937937942,
          3.8138138138138142,
          3.8338338338338342,
          3.8538538538538543,
          3.8738738738738743,
          3.8938938938938943,
          3.9139139139139143,
          3.9339339339339343,
          3.9539539539539543,
          3.9739739739739743,
          3.9939939939939944,
          4.014014014014014,
          4.034034034034034,
          4.054054054054054,
          4.074074074074074,
          4.094094094094094,
          4.114114114114114,
          4.134134134134134,
          4.1541541541541545,
          4.1741741741741745,
          4.1941941941941945,
          4.2142142142142145,
          4.2342342342342345,
          4.2542542542542545,
          4.2742742742742745,
          4.2942942942942945,
          4.314314314314315,
          4.334334334334335,
          4.354354354354355,
          4.374374374374375,
          4.394394394394395,
          4.414414414414415,
          4.434434434434435,
          4.454454454454455,
          4.474474474474475,
          4.494494494494495,
          4.514514514514515,
          4.534534534534535,
          4.554554554554555,
          4.574574574574575,
          4.594594594594595,
          4.614614614614615,
          4.634634634634635,
          4.654654654654655,
          4.674674674674675,
          4.694694694694695,
          4.714714714714715,
          4.734734734734735,
          4.754754754754755,
          4.774774774774775,
          4.794794794794795,
          4.814814814814815,
          4.834834834834835,
          4.854854854854855,
          4.874874874874875,
          4.894894894894895,
          4.914914914914915,
          4.934934934934935,
          4.954954954954955,
          4.974974974974975,
          4.994994994994995,
          5.015015015015015,
          5.035035035035035,
          5.055055055055055,
          5.075075075075075,
          5.095095095095095,
          5.115115115115115,
          5.135135135135135,
          5.155155155155155,
          5.175175175175175,
          5.195195195195195,
          5.215215215215215,
          5.235235235235235,
          5.255255255255255,
          5.275275275275275,
          5.295295295295295,
          5.315315315315315,
          5.335335335335335,
          5.355355355355355,
          5.375375375375375,
          5.395395395395395,
          5.415415415415415,
          5.435435435435435,
          5.455455455455455,
          5.475475475475475,
          5.495495495495495,
          5.515515515515515,
          5.535535535535535,
          5.555555555555555,
          5.575575575575575,
          5.595595595595595,
          5.615615615615615,
          5.635635635635635,
          5.655655655655655,
          5.675675675675675,
          5.6956956956956954,
          5.7157157157157155,
          5.7357357357357355,
          5.7557557557557555,
          5.7757757757757755,
          5.7957957957957955,
          5.8158158158158155,
          5.8358358358358355,
          5.8558558558558556,
          5.875875875875876,
          5.895895895895896,
          5.915915915915916,
          5.935935935935936,
          5.955955955955956,
          5.975975975975976,
          5.995995995995996,
          6.016016016016017,
          6.0360360360360374,
          6.0560560560560575,
          6.0760760760760775,
          6.0960960960960975,
          6.1161161161161175,
          6.1361361361361375,
          6.1561561561561575,
          6.1761761761761775,
          6.1961961961961975,
          6.216216216216218,
          6.236236236236238,
          6.256256256256258,
          6.276276276276278,
          6.296296296296298,
          6.316316316316318,
          6.336336336336338,
          6.356356356356358,
          6.376376376376378,
          6.396396396396398,
          6.416416416416418,
          6.436436436436438,
          6.456456456456458,
          6.476476476476478,
          6.496496496496498,
          6.516516516516518,
          6.536536536536538,
          6.556556556556558,
          6.576576576576578,
          6.596596596596598,
          6.616616616616618,
          6.636636636636638,
          6.656656656656658,
          6.676676676676678,
          6.696696696696698,
          6.716716716716718,
          6.736736736736738,
          6.756756756756758,
          6.776776776776778,
          6.796796796796798,
          6.816816816816818,
          6.836836836836838,
          6.856856856856858,
          6.876876876876878,
          6.896896896896898,
          6.916916916916918,
          6.936936936936938,
          6.956956956956958,
          6.976976976976978,
          6.996996996996998,
          7.017017017017018,
          7.037037037037038,
          7.057057057057058,
          7.077077077077078,
          7.097097097097098,
          7.117117117117118,
          7.137137137137138,
          7.157157157157158,
          7.177177177177178,
          7.197197197197198,
          7.217217217217218,
          7.237237237237238,
          7.257257257257258,
          7.277277277277278,
          7.297297297297298,
          7.317317317317318,
          7.337337337337338,
          7.357357357357358,
          7.377377377377378,
          7.397397397397398,
          7.417417417417418,
          7.437437437437438,
          7.457457457457458,
          7.477477477477478,
          7.497497497497498,
          7.517517517517518,
          7.537537537537538,
          7.557557557557558,
          7.577577577577578,
          7.5975975975975985,
          7.6176176176176185,
          7.6376376376376385,
          7.6576576576576585,
          7.6776776776776785,
          7.6976976976976985,
          7.7177177177177185,
          7.7377377377377385,
          7.7577577577577586,
          7.777777777777779,
          7.797797797797799,
          7.817817817817819,
          7.837837837837839,
          7.857857857857859,
          7.877877877877879,
          7.897897897897899,
          7.917917917917919,
          7.937937937937939,
          7.957957957957959,
          7.977977977977979,
          7.997997997997999,
          8.018018018018019,
          8.038038038038039,
          8.058058058058059,
          8.078078078078079,
          8.098098098098099,
          8.118118118118119,
          8.138138138138139,
          8.158158158158159,
          8.178178178178179,
          8.198198198198199,
          8.218218218218219,
          8.238238238238239,
          8.258258258258259,
          8.278278278278279,
          8.298298298298299,
          8.318318318318319,
          8.338338338338339,
          8.358358358358359,
          8.378378378378379,
          8.398398398398399,
          8.418418418418419,
          8.438438438438439,
          8.458458458458459,
          8.478478478478479,
          8.498498498498499,
          8.518518518518519,
          8.538538538538539,
          8.558558558558559,
          8.578578578578579,
          8.598598598598599,
          8.618618618618619,
          8.63863863863864,
          8.65865865865866,
          8.67867867867868,
          8.6986986986987,
          8.71871871871872,
          8.73873873873874,
          8.75875875875876,
          8.77877877877878,
          8.7987987987988,
          8.81881881881882,
          8.83883883883884,
          8.85885885885886,
          8.87887887887888,
          8.8988988988989,
          8.91891891891892,
          8.93893893893894,
          8.95895895895896,
          8.97897897897898,
          8.998998998999,
          9.01901901901902,
          9.03903903903904,
          9.05905905905906,
          9.07907907907908,
          9.0990990990991,
          9.11911911911912,
          9.13913913913914,
          9.15915915915916,
          9.17917917917918,
          9.1991991991992,
          9.21921921921922,
          9.23923923923924,
          9.25925925925926,
          9.27927927927928,
          9.2992992992993,
          9.31931931931932,
          9.33933933933934,
          9.35935935935936,
          9.37937937937938,
          9.3993993993994,
          9.41941941941942,
          9.43943943943944,
          9.45945945945946,
          9.47947947947948,
          9.4994994994995,
          9.51951951951952,
          9.53953953953954,
          9.55955955955956,
          9.57957957957958,
          9.5995995995996,
          9.61961961961962,
          9.63963963963964,
          9.65965965965966,
          9.67967967967968,
          9.6996996996997,
          9.71971971971972,
          9.73973973973974,
          9.75975975975976,
          9.77977977977978,
          9.7997997997998,
          9.81981981981982,
          9.83983983983984,
          9.85985985985986,
          9.87987987987988,
          9.8998998998999,
          9.91991991991992,
          9.93993993993994,
          9.95995995995996,
          9.97997997997998,
          10
         ],
         "y": [
          34.18964619330964,
          34.12052320347664,
          34.051398964244974,
          33.98227346869436,
          33.91314670985472,
          33.84401868070575,
          33.774889374176375,
          33.70575878314428,
          33.636626900435886,
          33.56749371882505,
          33.49835923103347,
          33.429223429729895,
          33.3600863075292,
          33.290947856993036,
          33.221808070628086,
          33.1526669408864,
          33.08352446016459,
          33.0143806208036,
          32.94523541508775,
          32.87608883524462,
          32.80694087344463,
          32.73779152180009,
          32.66864077236499,
          32.59948861713448,
          32.53033504804421,
          32.461180056969845,
          32.392023635726744,
          32.32286577606888,
          32.253706469688964,
          32.18454570821728,
          32.1153834832217,
          32.04621978620641,
          31.977054608612246,
          31.907887941815087,
          31.838719777126215,
          31.76955010579108,
          31.700378918988978,
          31.631206207832534,
          31.562031963366685,
          31.49285617656857,
          31.423678838346557,
          31.354499939539753,
          31.28531947091746,
          31.21613742317812,
          31.146953786949418,
          31.077768552786726,
          31.00858171117328,
          30.93939325251873,
          30.870203167159204,
          30.801011445356146,
          30.731818077295664,
          30.66262305308796,
          30.59342636276684,
          30.524227996288392,
          30.455027943530762,
          30.385826194293404,
          30.316622738296086,
          30.24741756517838,
          30.178210664498682,
          30.109002025733812,
          30.0397916382778,
          29.970579491441566,
          29.90136557445167,
          29.832149876450067,
          29.76293238649264,
          29.693713093548972,
          29.624491986501347,
          29.555269054143817,
          29.486044285181276,
          29.416817668229086,
          29.347589191811668,
          29.278358844362103,
          29.209126614220846,
          29.139892489635066,
          29.070656458757963,
          29.001418509647376,
          28.932178630265224,
          28.862936808476615,
          28.79369303204861,
          28.72444728864972,
          28.65519956584847,
          28.58594985111294,
          28.516698131809356,
          28.44744439520139,
          28.37818862844911,
          28.308930818607816,
          28.239670952627346,
          28.170409017350835,
          28.101144999513597,
          28.03187888574231,
          27.9626106625538,
          27.89334031635418,
          27.824067833437415,
          27.754793199984597,
          27.68551640206259,
          27.616237425623154,
          27.546956256501478,
          27.47767288041543,
          27.408387282964146,
          27.339099449626893,
          27.26980936576205,
          27.200517016605826,
          27.131222387270924,
          27.06192546274553,
          26.992626227892174,
          26.923324667445975,
          26.854020766014123,
          26.784714508073925,
          26.715405877972053,
          26.646094859922997,
          26.57678143800769,
          26.507465596172427,
          26.438147318227262,
          26.368826587844904,
          26.299503388559188,
          26.230177703763754,
          26.160849516710613,
          26.091518810508916,
          26.022185568123273,
          25.952849772372307,
          25.88351140592758,
          25.814170451311693,
          25.74482689089706,
          25.675480706904196,
          25.606131881400497,
          25.536780396298376,
          25.467426233353972,
          25.39806937416544,
          25.32870980017137,
          25.25934749264925,
          25.189982432713965,
          25.120614601315744,
          25.051243979239032,
          24.981870547100314,
          24.912494285346977,
          24.84311517425521,
          24.77373319392829,
          24.704348324295093,
          24.63496054510796,
          24.565569835941503,
          24.496176176189977,
          24.4267795450664,
          24.357379921599925,
          24.28797728463436,
          24.218571612826505,
          24.14916288464369,
          24.079751078362428,
          24.010336172066026,
          23.940918143642953,
          23.871496970784833,
          23.802072630984178,
          23.73264510153283,
          23.663214359519475,
          23.59378038182783,
          23.52434314513473,
          23.454902625907557,
          23.38545880040259,
          23.316011644662556,
          23.24656113451477,
          23.177107245568603,
          23.1076499532135,
          23.038189232616794,
          22.968725058721354,
          22.899257406243315,
          22.829786249669837,
          22.760311563256778,
          22.690833321026297,
          22.62135149676462,
          22.55186606401958,
          22.482376996098246,
          22.412884266064417,
          22.34338784673634,
          22.273887710683997,
          22.204383830226874,
          22.134876177431256,
          22.0653647241077,
          21.995849441808556,
          21.926330301825455,
          21.856807275186334,
          21.7872803326532,
          21.717749444719285,
          21.64821458160646,
          21.578675713262328,
          21.50913280935765,
          21.43958583928367,
          21.37003477214918,
          21.300479576777708,
          21.23092022170486,
          21.161356675175313,
          21.09178890513993,
          21.022216879253083,
          20.95264056486952,
          20.88305992904151,
          20.813474938515665,
          20.743885559730412,
          20.674291758812565,
          20.604693501574506,
          20.53509075351097,
          20.465483479796156,
          20.395871645280423,
          20.326255214487347,
          20.256634151610456,
          20.187008420510146,
          20.117377984710455,
          20.047742807395778,
          19.97810285140777,
          19.908458079242074,
          19.838808453044933,
          19.769153934610113,
          19.69949448537532,
          19.629830066419192,
          19.56016063845765,
          19.49048616184083,
          19.42080659654936,
          19.351121902191387,
          19.281432037998798,
          19.21173696282394,
          19.142036635136353,
          19.07233101301891,
          19.002620054164844,
          18.93290371587386,
          18.863181955048912,
          18.793454728192586,
          18.723721991403554,
          18.65398370037333,
          18.584239810382343,
          18.514490276296755,
          18.444735052564763,
          18.374974093213133,
          18.305207351843514,
          18.235434781629234,
          18.16565633531145,
          18.095871965195744,
          18.02608162314861,
          17.95628526059385,
          17.88648282850917,
          17.81667427742263,
          17.74685955740913,
          17.67703861808691,
          17.607211408614223,
          17.537377877685742,
          17.467537973529033,
          17.397691643901553,
          17.327838836086798,
          17.257979496891227,
          17.188113572640923,
          17.11824100917814,
          17.04836175185826,
          16.978475745546415,
          16.908582934614298,
          16.83868326293719,
          16.768776673890674,
          16.698863110347766,
          16.628942514675767,
          16.55901482873361,
          16.489079993868582,
          16.41913795091395,
          16.349188640186092,
          16.27923200148161,
          16.209267974075203,
          16.139296496716828,
          16.069317507629414,
          15.999330944506685,
          15.929336744510739,
          15.85933484427015,
          15.789325179877865,
          15.719307686889405,
          15.64928230032111,
          15.579248954648413,
          15.5092075838046,
          15.439158121179263,
          15.36910049961725,
          15.299034651417445,
          15.228960508332232,
          15.158878001566467,
          15.088787061777209,
          15.018687619073255,
          14.948579603015165,
          14.878462942615162,
          14.80833756633767,
          14.738203402099597,
          14.66806037727131,
          14.59790841867756,
          14.527747452598733,
          14.45757740477244,
          14.387398200395351,
          14.317209764125318,
          14.24701202008371,
          14.1768048918582,
          14.10658830250595,
          14.036362174556873,
          13.96612643001742,
          13.895880990374888,
          13.825625776601722,
          13.7553607091607,
          13.685085708010023,
          13.614800692609467,
          13.544505581926275,
          13.47420029444206,
          13.403884748160127,
          13.33355886061296,
          13.263222548870615,
          13.192875729549566,
          13.122518318821946,
          13.05215023242563,
          12.98177138567468,
          12.91138169347081,
          12.840981070314873,
          12.770569430319838,
          12.700146687223805,
          12.629712754404018,
          12.559267544891721,
          12.48881097138769,
          12.418342946278626,
          12.347863381654351,
          12.277372189325801,
          12.206869280844288,
          12.13635456752129,
          12.065827960449406,
          11.995289370524276,
          11.924738708467604,
          11.854175884851175,
          11.78360081012221,
          11.713013394629446,
          11.642413548650792,
          11.571801182422224,
          11.50117620616764,
          11.430538530130436,
          11.359888064606096,
          11.289224719976442,
          11.218548406745326,
          11.147859035575612,
          11.077156517328095,
          11.006440763101702,
          10.935711684275486,
          10.864969192552481,
          10.794213200005077,
          10.72344361912241,
          10.652660362859807,
          10.581863344689705,
          10.51105247865527,
          10.440227679425536,
          10.369388862352995,
          10.298535943533548,
          10.227668839868425,
          10.156787469128833,
          10.085891750022883,
          10.01498160226523,
          9.944056946649166,
          9.873117705121574,
          9.802163800860786,
          9.731195158357147,
          9.66021170349674,
          9.589213363648277,
          9.518200067752952,
          9.447171746418109,
          9.376128332013739,
          9.305069758773142,
          9.233995962896905,
          9.162906882660604,
          9.091802458527063,
          9.02068263326196,
          8.949547352054026,
          8.878396562639729,
          8.807230215432206,
          8.736048263655164,
          8.664850663481424,
          8.593637374176652,
          8.522408358248398,
          8.451163581600229,
          8.37990301369194,
          8.308626627705243,
          8.237334400715671,
          8.166026313870946,
          8.094702352575506,
          8.023362506682211,
          7.952006770690847,
          7.8806351439542786,
          7.8092476308919485,
          7.7378442412116755,
          7.666424990139433,
          7.594989898658087,
          7.5235389937550625,
          7.452072308679318,
          7.380589883208387,
          7.30909176392549,
          7.237578004507613,
          7.1660486660246026,
          7.094503817250197,
          7.0229435349852585,
          6.951367904393957,
          6.87977701935349,
          6.808170982817965,
          6.736549907197122,
          6.6649139147507706,
          6.593263137999687,
          6.521597720153612,
          6.449917815557684,
          6.378223590157853,
          6.306515221986459,
          6.234792901669222,
          6.163056832954653,
          6.091307233266965,
          6.0195443342844,
          5.947768382543686,
          5.875979640072788,
          5.80417838505314,
          5.732364912513487,
          5.660539535056881,
          5.588702583623249,
          5.516854408289349,
          5.444995379108833,
          5.373125886994509,
          5.301246344646044,
          5.229357187525569,
          5.157458874884567,
          5.085551890845611,
          5.013636745542254,
          4.94171397632127,
          4.869784149011718,
          4.7978478592649285,
          4.725905733971182,
          4.653958432757804,
          4.582006649575115,
          4.510051114376335,
          4.438092594898555,
          4.366131898552286,
          4.294169874427796,
          4.22220741542715,
          4.150245460531819,
          4.078284997216431,
          4.00632706402018,
          3.9343727532887423,
          3.8624232141003882,
          3.7904796553916653,
          3.718543349299003,
          3.646615634734749,
          -1.9984014443252818e-15,
          2.220446049250313e-16,
          2.4424906541753444e-15,
          -4.440892098500626e-16,
          1.5543122344752192e-15,
          -3.3306690738754696e-16,
          0,
          2.086059189970735e-15,
          -9.477011189695794e-16,
          -8.683375199436405e-16,
          1.384092493394995e-15,
          4.1378575912909277e-16,
          4.4346579360088345e-16,
          -3.8163916471489756e-16,
          -3.520404454060433e-16,
          1.218643241873707e-16,
          -1.7976072019809664e-16,
          6.65158032819857e-16,
          -1.0592655225183378e-16,
          9.269928574751063e-18,
          1.336821278674627e-16,
          4.7704895589362195e-18,
          3.3415110956003247e-16,
          2.34783980451736e-16,
          -1.454999315475547e-16,
          -1.9981846038907847e-16,
          4.417039650705945e-16,
          5.551115123125783e-17,
          -2.772304955045435e-16,
          1.3373633797608697e-16,
          -2.949029909160572e-16,
          -1.0733601507606494e-17,
          1.5230330017990124e-16,
          1.3154082857680383e-16,
          3.596840707220661e-17,
          -8.32396217925746e-17,
          1.362435554999597e-16,
          -3.348829460264602e-17,
          6.717987711263307e-17,
          3.6835768810195013e-17,
          1.4616400537820207e-17,
          -1.5802246663976227e-17,
          -2.6529071908004687e-17,
          -5.421010862427522e-18,
          1.9979813159834436e-17,
          -2.4384384485556798e-17,
          -5.749659645962191e-18,
          2.1026745882640752e-17,
          2.761327408049019e-19,
          2.278518628114068e-19,
          -1.1108837103240149e-18,
          0,
          0,
          0,
          0,
          0,
          0,
          0,
          0,
          0,
          0,
          0,
          0,
          0,
          0,
          0,
          0,
          0,
          0,
          0,
          0,
          0,
          0,
          0,
          0,
          -1.1108837103240149e-18,
          2.278518628114068e-19,
          2.761327408049019e-19,
          2.1026745882640752e-17,
          -5.749659645962191e-18,
          -2.4384384485556798e-17,
          1.9979813159834436e-17,
          -5.421010862427522e-18,
          -2.6529071908004687e-17,
          -1.5802246663976227e-17,
          1.4616400537820207e-17,
          3.6835768810195013e-17,
          6.717987711263307e-17,
          -3.348829460264602e-17,
          1.362435554999597e-16,
          -8.32396217925746e-17,
          3.596840707220661e-17,
          1.3154082857680383e-16,
          1.5230330017990124e-16,
          -1.0733601507606494e-17,
          -2.949029909160572e-16,
          1.3373633797608697e-16,
          -2.772304955045435e-16,
          5.551115123125783e-17,
          4.417039650705945e-16,
          -1.9981846038907847e-16,
          -1.454999315475547e-16,
          2.34783980451736e-16,
          3.3415110956003247e-16,
          4.7704895589362195e-18,
          1.336821278674627e-16,
          9.269928574751063e-18,
          -1.0592655225183378e-16,
          6.65158032819857e-16,
          -1.7976072019809664e-16,
          1.218643241873707e-16,
          -3.520404454060433e-16,
          -3.8163916471489756e-16,
          4.4346579360088345e-16,
          4.1378575912909277e-16,
          1.384092493394995e-15,
          -8.683375199436405e-16,
          -9.477011189695794e-16,
          2.086059189970735e-15,
          0,
          -3.3306690738754696e-16,
          1.5543122344752192e-15,
          -4.440892098500626e-16,
          2.4424906541753444e-15,
          2.220446049250313e-16,
          -1.9984014443252818e-15,
          3.646615634734749,
          3.718543349299003,
          3.7904796553916653,
          3.8624232141003882,
          3.9343727532887423,
          4.00632706402018,
          4.078284997216431,
          4.150245460531819,
          4.22220741542715,
          4.294169874427796,
          4.366131898552286,
          4.438092594898555,
          4.510051114376335,
          4.582006649575115,
          4.653958432757804,
          4.725905733971182,
          4.7978478592649285,
          4.869784149011718,
          4.94171397632127,
          5.013636745542254,
          5.085551890845611,
          5.157458874884567,
          5.229357187525569,
          5.301246344646044,
          5.373125886994509,
          5.444995379108833,
          5.516854408289349,
          5.588702583623249,
          5.660539535056881,
          5.732364912513487,
          5.80417838505314,
          5.875979640072788,
          5.947768382543686,
          6.0195443342844,
          6.091307233266965,
          6.163056832954653,
          6.234792901669222,
          6.3065152219864435,
          6.378223590157844,
          6.4499178155576695,
          6.521597720153597,
          6.593263137999679,
          6.664913914750766,
          6.736549907197117,
          6.808170982817975,
          6.8797770193534875,
          6.951367904393957,
          7.02294353498525,
          7.094503817250182,
          7.16604866602461,
          7.2375780045076095,
          7.309091763925483,
          7.380589883208377,
          7.452072308679317,
          7.523538993755058,
          7.594989898658082,
          7.666424990139417,
          7.737844241211654,
          7.80924763089195,
          7.880635143954266,
          7.952006770690848,
          8.023362506682204,
          8.094702352575508,
          8.166026313870972,
          8.237334400715676,
          8.30862662770522,
          8.379903013691944,
          8.451163581600245,
          8.522408358248379,
          8.593637374176666,
          8.664850663481406,
          8.736048263655157,
          8.807230215432208,
          8.878396562639711,
          8.949547352054024,
          9.020682633261956,
          9.091802458527074,
          9.162906882660607,
          9.233995962896874,
          9.305069758773149,
          9.37612833201375,
          9.447171746418086,
          9.518200067752959,
          9.589213363648263,
          9.660211703496756,
          9.731195158357158,
          9.802163800860795,
          9.873117705121585,
          9.94405694664917,
          10.014981602265241,
          10.085891750022885,
          10.156787469128819,
          10.227668839868427,
          10.29853594353355,
          10.369388862352999,
          10.440227679425552,
          10.511052478655289,
          10.581863344689728,
          10.652660362859793,
          10.723443619122415,
          10.794213200005062,
          10.864969192552474,
          10.935711684275503,
          11.006440763101685,
          11.077156517328097,
          11.147859035575603,
          11.21854840674532,
          11.289224719976445,
          11.359888064606118,
          11.430538530130407,
          11.50117620616768,
          11.571801182422208,
          11.64241354865081,
          11.713013394629444,
          11.783600810122222,
          11.854175884851182,
          11.924738708467604,
          11.995289370524276,
          12.065827960449406,
          12.13635456752129,
          12.206869280844288,
          12.277372189325801,
          12.347863381654351,
          12.418342946278626,
          12.48881097138769,
          12.559267544891721,
          12.629712754404018,
          12.700146687223805,
          12.770569430319838,
          12.840981070314873,
          12.91138169347081,
          12.98177138567468,
          13.05215023242563,
          13.122518318821946,
          13.192875729549566,
          13.263222548870615,
          13.33355886061296,
          13.403884748160127,
          13.47420029444206,
          13.544505581926275,
          13.614800692609467,
          13.685085708010023,
          13.7553607091607,
          13.825625776601722,
          13.895880990374888,
          13.96612643001742,
          14.036362174556873,
          14.10658830250595,
          14.1768048918582,
          14.24701202008371,
          14.317209764125318,
          14.387398200395351,
          14.45757740477244,
          14.527747452598733,
          14.59790841867756,
          14.66806037727131,
          14.738203402099597,
          14.80833756633767,
          14.878462942615162,
          14.948579603015165,
          15.018687619073255,
          15.088787061777209,
          15.158878001566467,
          15.228960508332232,
          15.299034651417445,
          15.36910049961725,
          15.439158121179263,
          15.5092075838046,
          15.579248954648413,
          15.64928230032111,
          15.719307686889405,
          15.789325179877865,
          15.85933484427015,
          15.929336744510739,
          15.999330944506685,
          16.069317507629414,
          16.139296496716828,
          16.209267974075203,
          16.27923200148161,
          16.349188640186092,
          16.41913795091395,
          16.489079993868582,
          16.55901482873361,
          16.628942514675767,
          16.698863110347766,
          16.768776673890674,
          16.83868326293719,
          16.908582934614298,
          16.978475745546415,
          17.04836175185826,
          17.11824100917814,
          17.188113572640923,
          17.257979496891227,
          17.327838836086798,
          17.397691643901553,
          17.467537973529033,
          17.537377877685742,
          17.607211408614223,
          17.67703861808691,
          17.74685955740913,
          17.81667427742263,
          17.88648282850917,
          17.95628526059385,
          18.02608162314861,
          18.095871965195744,
          18.16565633531145,
          18.235434781629234,
          18.305207351843514,
          18.374974093213133,
          18.444735052564763,
          18.514490276296755,
          18.584239810382343,
          18.65398370037333,
          18.723721991403554,
          18.793454728192586,
          18.863181955048912,
          18.93290371587386,
          19.002620054164844,
          19.07233101301891,
          19.142036635136353,
          19.21173696282394,
          19.281432037998798,
          19.351121902191387,
          19.42080659654936,
          19.49048616184083,
          19.56016063845765,
          19.629830066419192,
          19.69949448537532,
          19.769153934610113,
          19.838808453044933,
          19.908458079242074,
          19.97810285140777,
          20.047742807395778,
          20.117377984710455,
          20.187008420510146,
          20.256634151610456,
          20.326255214487347,
          20.395871645280394,
          20.465483479796166,
          20.535090753510957,
          20.604693501574523,
          20.67429175881256,
          20.74388555973041,
          20.813474938515657,
          20.88305992904151,
          20.952640564869554,
          21.022216879253143,
          21.091788905139943,
          21.161356675175337,
          21.23092022170491,
          21.300479576777704,
          21.370034772149193,
          21.439585839283676,
          21.509132809357645,
          21.5786757132623,
          21.648214581606457,
          21.717749444719306,
          21.787280332653182,
          21.856807275186362,
          21.926330301825445,
          21.995849441808605,
          22.065364724107717,
          22.13487617743125,
          22.204383830226888,
          22.273887710684026,
          22.343387846736356,
          22.412884266064427,
          22.482376996098257,
          22.55186606401957,
          22.621351496764586,
          22.690833321026307,
          22.76031156325677,
          22.82978624966986,
          22.899257406243322,
          22.96872505872139,
          23.03818923261682,
          23.10764995321349,
          23.177107245568582,
          23.246561134514774,
          23.316011644662556,
          23.3854588004026,
          23.454902625907565,
          23.524343145134754,
          23.593780381827877,
          23.66321435951947,
          23.73264510153283,
          23.80207263098419,
          23.871496970784772,
          23.940918143642964,
          24.010336172066054,
          24.079751078362467,
          24.149162884643708,
          24.218571612826498,
          24.287977284634376,
          24.357379921599914,
          24.4267795450664,
          24.49617617619001,
          24.565569835941474,
          24.634960545107987,
          24.704348324295086,
          24.773733193928308,
          24.843115174255207,
          24.912494285346966,
          24.98187054710031,
          25.051243979239008,
          25.12061460131575,
          25.18998243271397,
          25.259347492649283,
          25.328709800171406,
          25.39806937416541,
          25.467426233353976,
          25.53678039629836,
          25.606131881400476,
          25.675480706904207,
          25.74482689089702,
          25.814170451311675,
          25.883511405927564,
          25.952849772372296,
          26.02218556812328,
          26.0915188105089,
          26.16084951671065,
          26.23017770376376,
          26.299503388559195,
          26.368826587844925,
          26.43814731822729,
          26.507465596172416,
          26.576781438007703,
          26.64609485992299,
          26.71540587797209,
          26.784714508073908,
          26.85402076601408,
          26.923324667445936,
          26.992626227892167,
          27.061925462745545,
          27.131222387270892,
          27.200517016605822,
          27.26980936576206,
          27.339099449626893,
          27.408387282964146,
          27.47767288041543,
          27.546956256501478,
          27.616237425623154,
          27.68551640206259,
          27.754793199984597,
          27.824067833437415,
          27.89334031635418,
          27.9626106625538,
          28.03187888574231,
          28.101144999513597,
          28.170409017350835,
          28.239670952627346,
          28.308930818607816,
          28.37818862844911,
          28.44744439520139,
          28.516698131809356,
          28.58594985111294,
          28.65519956584847,
          28.72444728864972,
          28.79369303204861,
          28.862936808476615,
          28.932178630265224,
          29.001418509647376,
          29.070656458757963,
          29.139892489635066,
          29.209126614220846,
          29.278358844362103,
          29.347589191811668,
          29.416817668229086,
          29.486044285181276,
          29.555269054143817,
          29.624491986501347,
          29.693713093548972,
          29.76293238649264,
          29.832149876450067,
          29.90136557445167,
          29.970579491441566,
          30.0397916382778,
          30.109002025733812,
          30.178210664498682,
          30.24741756517838,
          30.316622738296086,
          30.385826194293404,
          30.455027943530762,
          30.524227996288392,
          30.59342636276684,
          30.66262305308796,
          30.731818077295664,
          30.801011445356146,
          30.870203167159204,
          30.93939325251873,
          31.00858171117328,
          31.077768552786726,
          31.146953786949418,
          31.21613742317812,
          31.28531947091746,
          31.354499939539753,
          31.423678838346557,
          31.49285617656857,
          31.562031963366685,
          31.631206207832534,
          31.700378918988978,
          31.76955010579108,
          31.838719777126215,
          31.907887941815087,
          31.977054608612246,
          32.04621978620641,
          32.1153834832217,
          32.18454570821728,
          32.253706469688964,
          32.32286577606888,
          32.392023635726744,
          32.461180056969845,
          32.53033504804421,
          32.59948861713448,
          32.66864077236499,
          32.73779152180009,
          32.80694087344463,
          32.87608883524462,
          32.94523541508775,
          33.0143806208036,
          33.08352446016459,
          33.1526669408864,
          33.221808070628086,
          33.290947856993036,
          33.3600863075292,
          33.429223429729895,
          33.49835923103347,
          33.56749371882505,
          33.636626900435886,
          33.70575878314428,
          33.774889374176375,
          33.84401868070575,
          33.91314670985472,
          33.98227346869436,
          34.051398964244974,
          34.12052320347664,
          34.18964619330964
         ]
        }
       ],
       "layout": {
        "font": {
         "size": 18
        },
        "legend": {
         "title": {
          "text": "Legend"
         }
        },
        "showlegend": true,
        "template": {
         "data": {
          "bar": [
           {
            "error_x": {
             "color": "#f2f5fa"
            },
            "error_y": {
             "color": "#f2f5fa"
            },
            "marker": {
             "line": {
              "color": "rgb(17,17,17)",
              "width": 0.5
             },
             "pattern": {
              "fillmode": "overlay",
              "size": 10,
              "solidity": 0.2
             }
            },
            "type": "bar"
           }
          ],
          "barpolar": [
           {
            "marker": {
             "line": {
              "color": "rgb(17,17,17)",
              "width": 0.5
             },
             "pattern": {
              "fillmode": "overlay",
              "size": 10,
              "solidity": 0.2
             }
            },
            "type": "barpolar"
           }
          ],
          "carpet": [
           {
            "aaxis": {
             "endlinecolor": "#A2B1C6",
             "gridcolor": "#506784",
             "linecolor": "#506784",
             "minorgridcolor": "#506784",
             "startlinecolor": "#A2B1C6"
            },
            "baxis": {
             "endlinecolor": "#A2B1C6",
             "gridcolor": "#506784",
             "linecolor": "#506784",
             "minorgridcolor": "#506784",
             "startlinecolor": "#A2B1C6"
            },
            "type": "carpet"
           }
          ],
          "choropleth": [
           {
            "colorbar": {
             "outlinewidth": 0,
             "ticks": ""
            },
            "type": "choropleth"
           }
          ],
          "contour": [
           {
            "colorbar": {
             "outlinewidth": 0,
             "ticks": ""
            },
            "colorscale": [
             [
              0,
              "#0d0887"
             ],
             [
              0.1111111111111111,
              "#46039f"
             ],
             [
              0.2222222222222222,
              "#7201a8"
             ],
             [
              0.3333333333333333,
              "#9c179e"
             ],
             [
              0.4444444444444444,
              "#bd3786"
             ],
             [
              0.5555555555555556,
              "#d8576b"
             ],
             [
              0.6666666666666666,
              "#ed7953"
             ],
             [
              0.7777777777777778,
              "#fb9f3a"
             ],
             [
              0.8888888888888888,
              "#fdca26"
             ],
             [
              1,
              "#f0f921"
             ]
            ],
            "type": "contour"
           }
          ],
          "contourcarpet": [
           {
            "colorbar": {
             "outlinewidth": 0,
             "ticks": ""
            },
            "type": "contourcarpet"
           }
          ],
          "heatmap": [
           {
            "colorbar": {
             "outlinewidth": 0,
             "ticks": ""
            },
            "colorscale": [
             [
              0,
              "#0d0887"
             ],
             [
              0.1111111111111111,
              "#46039f"
             ],
             [
              0.2222222222222222,
              "#7201a8"
             ],
             [
              0.3333333333333333,
              "#9c179e"
             ],
             [
              0.4444444444444444,
              "#bd3786"
             ],
             [
              0.5555555555555556,
              "#d8576b"
             ],
             [
              0.6666666666666666,
              "#ed7953"
             ],
             [
              0.7777777777777778,
              "#fb9f3a"
             ],
             [
              0.8888888888888888,
              "#fdca26"
             ],
             [
              1,
              "#f0f921"
             ]
            ],
            "type": "heatmap"
           }
          ],
          "heatmapgl": [
           {
            "colorbar": {
             "outlinewidth": 0,
             "ticks": ""
            },
            "colorscale": [
             [
              0,
              "#0d0887"
             ],
             [
              0.1111111111111111,
              "#46039f"
             ],
             [
              0.2222222222222222,
              "#7201a8"
             ],
             [
              0.3333333333333333,
              "#9c179e"
             ],
             [
              0.4444444444444444,
              "#bd3786"
             ],
             [
              0.5555555555555556,
              "#d8576b"
             ],
             [
              0.6666666666666666,
              "#ed7953"
             ],
             [
              0.7777777777777778,
              "#fb9f3a"
             ],
             [
              0.8888888888888888,
              "#fdca26"
             ],
             [
              1,
              "#f0f921"
             ]
            ],
            "type": "heatmapgl"
           }
          ],
          "histogram": [
           {
            "marker": {
             "pattern": {
              "fillmode": "overlay",
              "size": 10,
              "solidity": 0.2
             }
            },
            "type": "histogram"
           }
          ],
          "histogram2d": [
           {
            "colorbar": {
             "outlinewidth": 0,
             "ticks": ""
            },
            "colorscale": [
             [
              0,
              "#0d0887"
             ],
             [
              0.1111111111111111,
              "#46039f"
             ],
             [
              0.2222222222222222,
              "#7201a8"
             ],
             [
              0.3333333333333333,
              "#9c179e"
             ],
             [
              0.4444444444444444,
              "#bd3786"
             ],
             [
              0.5555555555555556,
              "#d8576b"
             ],
             [
              0.6666666666666666,
              "#ed7953"
             ],
             [
              0.7777777777777778,
              "#fb9f3a"
             ],
             [
              0.8888888888888888,
              "#fdca26"
             ],
             [
              1,
              "#f0f921"
             ]
            ],
            "type": "histogram2d"
           }
          ],
          "histogram2dcontour": [
           {
            "colorbar": {
             "outlinewidth": 0,
             "ticks": ""
            },
            "colorscale": [
             [
              0,
              "#0d0887"
             ],
             [
              0.1111111111111111,
              "#46039f"
             ],
             [
              0.2222222222222222,
              "#7201a8"
             ],
             [
              0.3333333333333333,
              "#9c179e"
             ],
             [
              0.4444444444444444,
              "#bd3786"
             ],
             [
              0.5555555555555556,
              "#d8576b"
             ],
             [
              0.6666666666666666,
              "#ed7953"
             ],
             [
              0.7777777777777778,
              "#fb9f3a"
             ],
             [
              0.8888888888888888,
              "#fdca26"
             ],
             [
              1,
              "#f0f921"
             ]
            ],
            "type": "histogram2dcontour"
           }
          ],
          "mesh3d": [
           {
            "colorbar": {
             "outlinewidth": 0,
             "ticks": ""
            },
            "type": "mesh3d"
           }
          ],
          "parcoords": [
           {
            "line": {
             "colorbar": {
              "outlinewidth": 0,
              "ticks": ""
             }
            },
            "type": "parcoords"
           }
          ],
          "pie": [
           {
            "automargin": true,
            "type": "pie"
           }
          ],
          "scatter": [
           {
            "marker": {
             "line": {
              "color": "#283442"
             }
            },
            "type": "scatter"
           }
          ],
          "scatter3d": [
           {
            "line": {
             "colorbar": {
              "outlinewidth": 0,
              "ticks": ""
             }
            },
            "marker": {
             "colorbar": {
              "outlinewidth": 0,
              "ticks": ""
             }
            },
            "type": "scatter3d"
           }
          ],
          "scattercarpet": [
           {
            "marker": {
             "colorbar": {
              "outlinewidth": 0,
              "ticks": ""
             }
            },
            "type": "scattercarpet"
           }
          ],
          "scattergeo": [
           {
            "marker": {
             "colorbar": {
              "outlinewidth": 0,
              "ticks": ""
             }
            },
            "type": "scattergeo"
           }
          ],
          "scattergl": [
           {
            "marker": {
             "line": {
              "color": "#283442"
             }
            },
            "type": "scattergl"
           }
          ],
          "scattermapbox": [
           {
            "marker": {
             "colorbar": {
              "outlinewidth": 0,
              "ticks": ""
             }
            },
            "type": "scattermapbox"
           }
          ],
          "scatterpolar": [
           {
            "marker": {
             "colorbar": {
              "outlinewidth": 0,
              "ticks": ""
             }
            },
            "type": "scatterpolar"
           }
          ],
          "scatterpolargl": [
           {
            "marker": {
             "colorbar": {
              "outlinewidth": 0,
              "ticks": ""
             }
            },
            "type": "scatterpolargl"
           }
          ],
          "scatterternary": [
           {
            "marker": {
             "colorbar": {
              "outlinewidth": 0,
              "ticks": ""
             }
            },
            "type": "scatterternary"
           }
          ],
          "surface": [
           {
            "colorbar": {
             "outlinewidth": 0,
             "ticks": ""
            },
            "colorscale": [
             [
              0,
              "#0d0887"
             ],
             [
              0.1111111111111111,
              "#46039f"
             ],
             [
              0.2222222222222222,
              "#7201a8"
             ],
             [
              0.3333333333333333,
              "#9c179e"
             ],
             [
              0.4444444444444444,
              "#bd3786"
             ],
             [
              0.5555555555555556,
              "#d8576b"
             ],
             [
              0.6666666666666666,
              "#ed7953"
             ],
             [
              0.7777777777777778,
              "#fb9f3a"
             ],
             [
              0.8888888888888888,
              "#fdca26"
             ],
             [
              1,
              "#f0f921"
             ]
            ],
            "type": "surface"
           }
          ],
          "table": [
           {
            "cells": {
             "fill": {
              "color": "#506784"
             },
             "line": {
              "color": "rgb(17,17,17)"
             }
            },
            "header": {
             "fill": {
              "color": "#2a3f5f"
             },
             "line": {
              "color": "rgb(17,17,17)"
             }
            },
            "type": "table"
           }
          ]
         },
         "layout": {
          "annotationdefaults": {
           "arrowcolor": "#f2f5fa",
           "arrowhead": 0,
           "arrowwidth": 1
          },
          "autotypenumbers": "strict",
          "coloraxis": {
           "colorbar": {
            "outlinewidth": 0,
            "ticks": ""
           }
          },
          "colorscale": {
           "diverging": [
            [
             0,
             "#8e0152"
            ],
            [
             0.1,
             "#c51b7d"
            ],
            [
             0.2,
             "#de77ae"
            ],
            [
             0.3,
             "#f1b6da"
            ],
            [
             0.4,
             "#fde0ef"
            ],
            [
             0.5,
             "#f7f7f7"
            ],
            [
             0.6,
             "#e6f5d0"
            ],
            [
             0.7,
             "#b8e186"
            ],
            [
             0.8,
             "#7fbc41"
            ],
            [
             0.9,
             "#4d9221"
            ],
            [
             1,
             "#276419"
            ]
           ],
           "sequential": [
            [
             0,
             "#0d0887"
            ],
            [
             0.1111111111111111,
             "#46039f"
            ],
            [
             0.2222222222222222,
             "#7201a8"
            ],
            [
             0.3333333333333333,
             "#9c179e"
            ],
            [
             0.4444444444444444,
             "#bd3786"
            ],
            [
             0.5555555555555556,
             "#d8576b"
            ],
            [
             0.6666666666666666,
             "#ed7953"
            ],
            [
             0.7777777777777778,
             "#fb9f3a"
            ],
            [
             0.8888888888888888,
             "#fdca26"
            ],
            [
             1,
             "#f0f921"
            ]
           ],
           "sequentialminus": [
            [
             0,
             "#0d0887"
            ],
            [
             0.1111111111111111,
             "#46039f"
            ],
            [
             0.2222222222222222,
             "#7201a8"
            ],
            [
             0.3333333333333333,
             "#9c179e"
            ],
            [
             0.4444444444444444,
             "#bd3786"
            ],
            [
             0.5555555555555556,
             "#d8576b"
            ],
            [
             0.6666666666666666,
             "#ed7953"
            ],
            [
             0.7777777777777778,
             "#fb9f3a"
            ],
            [
             0.8888888888888888,
             "#fdca26"
            ],
            [
             1,
             "#f0f921"
            ]
           ]
          },
          "colorway": [
           "#636efa",
           "#EF553B",
           "#00cc96",
           "#ab63fa",
           "#FFA15A",
           "#19d3f3",
           "#FF6692",
           "#B6E880",
           "#FF97FF",
           "#FECB52"
          ],
          "font": {
           "color": "#f2f5fa"
          },
          "geo": {
           "bgcolor": "rgb(17,17,17)",
           "lakecolor": "rgb(17,17,17)",
           "landcolor": "rgb(17,17,17)",
           "showlakes": true,
           "showland": true,
           "subunitcolor": "#506784"
          },
          "hoverlabel": {
           "align": "left"
          },
          "hovermode": "closest",
          "mapbox": {
           "style": "dark"
          },
          "paper_bgcolor": "rgb(17,17,17)",
          "plot_bgcolor": "rgb(17,17,17)",
          "polar": {
           "angularaxis": {
            "gridcolor": "#506784",
            "linecolor": "#506784",
            "ticks": ""
           },
           "bgcolor": "rgb(17,17,17)",
           "radialaxis": {
            "gridcolor": "#506784",
            "linecolor": "#506784",
            "ticks": ""
           }
          },
          "scene": {
           "xaxis": {
            "backgroundcolor": "rgb(17,17,17)",
            "gridcolor": "#506784",
            "gridwidth": 2,
            "linecolor": "#506784",
            "showbackground": true,
            "ticks": "",
            "zerolinecolor": "#C8D4E3"
           },
           "yaxis": {
            "backgroundcolor": "rgb(17,17,17)",
            "gridcolor": "#506784",
            "gridwidth": 2,
            "linecolor": "#506784",
            "showbackground": true,
            "ticks": "",
            "zerolinecolor": "#C8D4E3"
           },
           "zaxis": {
            "backgroundcolor": "rgb(17,17,17)",
            "gridcolor": "#506784",
            "gridwidth": 2,
            "linecolor": "#506784",
            "showbackground": true,
            "ticks": "",
            "zerolinecolor": "#C8D4E3"
           }
          },
          "shapedefaults": {
           "line": {
            "color": "#f2f5fa"
           }
          },
          "sliderdefaults": {
           "bgcolor": "#C8D4E3",
           "bordercolor": "rgb(17,17,17)",
           "borderwidth": 1,
           "tickwidth": 0
          },
          "ternary": {
           "aaxis": {
            "gridcolor": "#506784",
            "linecolor": "#506784",
            "ticks": ""
           },
           "baxis": {
            "gridcolor": "#506784",
            "linecolor": "#506784",
            "ticks": ""
           },
           "bgcolor": "rgb(17,17,17)",
           "caxis": {
            "gridcolor": "#506784",
            "linecolor": "#506784",
            "ticks": ""
           }
          },
          "title": {
           "x": 0.05
          },
          "updatemenudefaults": {
           "bgcolor": "#506784",
           "borderwidth": 0
          },
          "xaxis": {
           "automargin": true,
           "gridcolor": "#283442",
           "linecolor": "#506784",
           "ticks": "",
           "title": {
            "standoff": 15
           },
           "zerolinecolor": "#283442",
           "zerolinewidth": 2
          },
          "yaxis": {
           "automargin": true,
           "gridcolor": "#283442",
           "linecolor": "#506784",
           "ticks": "",
           "title": {
            "standoff": 15
           },
           "zerolinecolor": "#283442",
           "zerolinewidth": 2
          }
         }
        },
        "title": {
         "text": "IMG part of ground state [mass: 1]"
        },
        "xaxis": {
         "title": {
          "text": "alpha"
         }
        },
        "yaxis": {
         "title": {
          "text": "IMG"
         }
        }
       }
      }
     },
     "metadata": {},
     "output_type": "display_data"
    }
   ],
   "source": [
    "for mass in range(1,2):\n",
    "    result = []\n",
    "\n",
    "    for i in np.linspace(-10,10,1000):\n",
    "        H = matrix_constructor(i)\n",
    "        val,vec = LA.eig(H)\n",
    "        result.append(val.imag[0])\n",
    "\n",
    "    fig = go.Figure()\n",
    "\n",
    "    x = np.linspace(-10,10,1000)\n",
    "    fig.add_trace(go.Scatter(x = x,y =result, name=f\"IMG part of ground state\"))\n",
    "\n",
    "\n",
    "    fig.update_layout(\n",
    "        title=f\"IMG part of ground state [mass: {mass}]\",\n",
    "        xaxis_title=\"alpha\",\n",
    "        yaxis_title=\"IMG\",\n",
    "        legend_title=\"Legend\",\n",
    "        font=dict(\n",
    "            size=18,\n",
    "        )\n",
    "    )\n",
    "\n",
    "    fig.update_layout(template='plotly_dark',showlegend=True)\n",
    "\n",
    "    #fig.write_html(f\"out\\\\Non_hermitian_img_MSE\\\\html\\\\MSE of imaginary part (m={mass}).html \")\n",
    "    fig.write_image(f\"out\\\\plots.png\",scale=6, width=1920, height=1080)\n",
    "\n",
    "    fig.show()"
   ]
  },
  {
   "cell_type": "code",
   "execution_count": null,
   "metadata": {},
   "outputs": [],
   "source": [
    "0.7107"
   ]
  }
 ],
 "metadata": {
  "kernelspec": {
   "display_name": "non-hermitian-eig-val-problem-CMwQUO9z-py3.11",
   "language": "python",
   "name": "python3"
  },
  "language_info": {
   "codemirror_mode": {
    "name": "ipython",
    "version": 3
   },
   "file_extension": ".py",
   "mimetype": "text/x-python",
   "name": "python",
   "nbconvert_exporter": "python",
   "pygments_lexer": "ipython3",
   "version": "3.11.4"
  },
  "orig_nbformat": 4
 },
 "nbformat": 4,
 "nbformat_minor": 2
}
